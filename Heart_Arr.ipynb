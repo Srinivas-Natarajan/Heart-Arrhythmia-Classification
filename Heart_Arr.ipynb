{
  "nbformat": 4,
  "nbformat_minor": 0,
  "metadata": {
    "colab": {
      "name": "Heart Arr.ipynb",
      "provenance": []
    },
    "kernelspec": {
      "name": "python3",
      "display_name": "Python 3"
    },
    "language_info": {
      "name": "python"
    }
  },
  "cells": [
    {
      "cell_type": "code",
      "execution_count": null,
      "metadata": {
        "id": "xbp4oQOhdvf1",
        "colab": {
          "base_uri": "https://localhost:8080/"
        },
        "outputId": "f0b2181e-7c80-4075-c512-1bc16ec6e620"
      },
      "outputs": [
        {
          "output_type": "stream",
          "name": "stdout",
          "text": [
            "Mounted at /content/drive\n"
          ]
        }
      ],
      "source": [
        "from google.colab import drive\n",
        "drive.mount('/content/drive')"
      ]
    },
    {
      "cell_type": "code",
      "source": [
        "DATA_PATH = \"/content/drive/My Drive/Internship Files/Velozity/\""
      ],
      "metadata": {
        "id": "jYp7aiDm4Y14"
      },
      "execution_count": null,
      "outputs": []
    },
    {
      "cell_type": "code",
      "source": [
        "!pip install matplotlib==3.1.3"
      ],
      "metadata": {
        "id": "ZEHPBr7ghd6l"
      },
      "execution_count": null,
      "outputs": []
    },
    {
      "cell_type": "markdown",
      "source": [
        "## **1. Loading Data/Packages**"
      ],
      "metadata": {
        "id": "oyl2BLbSOQ_b"
      }
    },
    {
      "cell_type": "code",
      "source": [
        "!pip install wfdb\n",
        "!pip install matplotlib==3.1.3"
      ],
      "metadata": {
        "id": "dOpOVqzQ4xbb",
        "colab": {
          "base_uri": "https://localhost:8080/"
        },
        "outputId": "844c2762-3343-4f02-8ea6-61a4048a9659"
      },
      "execution_count": null,
      "outputs": [
        {
          "output_type": "stream",
          "name": "stdout",
          "text": [
            "Installing collected packages: matplotlib\n",
            "  Attempting uninstall: matplotlib\n",
            "    Found existing installation: matplotlib 3.5.1\n",
            "    Uninstalling matplotlib-3.5.1:\n",
            "      Successfully uninstalled matplotlib-3.5.1\n",
            "\u001b[31mERROR: pip's dependency resolver does not currently take into account all the packages that are installed. This behaviour is the source of the following dependency conflicts.\n",
            "wfdb 3.4.1 requires matplotlib>=3.3.4, but you have matplotlib 3.1.3 which is incompatible.\n",
            "albumentations 0.1.12 requires imgaug<0.2.7,>=0.2.5, but you have imgaug 0.2.9 which is incompatible.\u001b[0m\n",
            "Successfully installed matplotlib-3.1.3\n"
          ]
        },
        {
          "output_type": "display_data",
          "data": {
            "application/vnd.colab-display-data+json": {
              "pip_warning": {
                "packages": [
                  "matplotlib",
                  "mpl_toolkits"
                ]
              }
            }
          },
          "metadata": {}
        }
      ]
    },
    {
      "cell_type": "code",
      "source": [
        "import pandas as pd\n",
        "import numpy as np\n",
        "import matplotlib.pyplot as plt\n",
        "\n",
        "import wfdb"
      ],
      "metadata": {
        "id": "_-ujA2jA-8pC"
      },
      "execution_count": null,
      "outputs": []
    },
    {
      "cell_type": "code",
      "source": [
        "from sklearn.model_selection import train_test_split\n",
        "from sklearn.preprocessing import StandardScaler"
      ],
      "metadata": {
        "id": "NJXhAjuMmK2m"
      },
      "execution_count": null,
      "outputs": []
    },
    {
      "cell_type": "markdown",
      "source": [
        "## **2. Two Class Test CNN**"
      ],
      "metadata": {
        "id": "btLFZwIUObGv"
      }
    },
    {
      "cell_type": "code",
      "source": [
        "records = np.loadtxt(DATA_PATH + \"mit-bih-arrhythmia-database-1.0.0/RECORDS\", dtype=int)"
      ],
      "metadata": {
        "id": "79Zht0s6938s"
      },
      "execution_count": null,
      "outputs": []
    },
    {
      "cell_type": "code",
      "source": [
        "invalid_beat = [\n",
        "    \"[\", \"!\", \"]\", \"x\", \"(\", \")\", \"p\", \"t\", \n",
        "    \"u\", \"`\", \"'\", \"^\", \"|\", \"~\", \"+\", \"s\", \n",
        "    \"T\", \"*\", \"D\", \"=\", '\"', \"@\"\n",
        "]\n",
        "\n",
        "abnormal_beats = [\n",
        "    \"L\", \"R\", \"B\", \"A\", \"a\", \"J\", \"S\", \"V\", \n",
        "    \"r\", \"F\", \"e\", \"j\", \"n\", \"E\", \"/\", \"f\", \"Q\", \"?\"\n",
        "]"
      ],
      "metadata": {
        "id": "x5FG273d-_L8"
      },
      "execution_count": null,
      "outputs": []
    },
    {
      "cell_type": "code",
      "source": [
        "def classify_beat(symbol):\n",
        "    if symbol in abnormal_beats:\n",
        "        return 1\n",
        "    elif symbol == \"N\" or symbol == \".\":\n",
        "        return 0    "
      ],
      "metadata": {
        "id": "rKZd3eqG_Kg7"
      },
      "execution_count": null,
      "outputs": []
    },
    {
      "cell_type": "code",
      "source": [
        "def get_sequence(signal, beat_loc, window_sec, fs):\n",
        "    window_one_side = window_sec * fs\n",
        "    beat_start = beat_loc - window_one_side\n",
        "    beat_end = beat_loc + window_one_side\n",
        "    if beat_end < signal.shape[0]:\n",
        "        sequence = signal[beat_start:beat_end, 0]\n",
        "        return sequence.reshape(1, -1, 1)\n",
        "    else:\n",
        "        return np.array([])"
      ],
      "metadata": {
        "id": "-NtUX9Tjleeg"
      },
      "execution_count": null,
      "outputs": []
    },
    {
      "cell_type": "code",
      "source": [
        "print(records[0], type(records[0]))"
      ],
      "metadata": {
        "colab": {
          "base_uri": "https://localhost:8080/"
        },
        "id": "yiePVD7mmWTB",
        "outputId": "9c5356ff-7380-49e7-9da3-bfcacea1cb0b"
      },
      "execution_count": null,
      "outputs": [
        {
          "output_type": "stream",
          "name": "stdout",
          "text": [
            "100 <class 'numpy.int64'>\n"
          ]
        }
      ]
    },
    {
      "cell_type": "code",
      "source": [
        "all_sequences = []\n",
        "all_labels = []\n",
        "window_sec = 3\n",
        "subject_map = []\n",
        "\n",
        "for subject in records:\n",
        "    record = wfdb.rdrecord(DATA_PATH + str(subject))\n",
        "    annotation = wfdb.rdann(DATA_PATH + str(subject), 'atr')\n",
        "    atr_symbol = annotation.symbol\n",
        "    atr_sample = annotation.sample\n",
        "    fs = record.fs\n",
        "    scaler = StandardScaler()\n",
        "    signal = scaler.fit_transform(record.p_signal)\n",
        "    subject_labels = []\n",
        "    for i, i_sample in enumerate(atr_sample):\n",
        "        label = classify_beat(atr_symbol[i])\n",
        "        sequence = get_sequence(signal, i_sample, window_sec, fs)\n",
        "        if label is not None and sequence.size > 0:\n",
        "            all_sequences.append(sequence)\n",
        "            subject_labels.append(label)\n",
        "\n",
        "    normal_percentage = sum(subject_labels) / len(subject_labels)\n",
        "    subject_map.append({\n",
        "        \"subject\": subject,\n",
        "        \"percentage\": normal_percentage,\n",
        "        \"num_seq\": len(subject_labels),\n",
        "        \"start\": len(all_labels),\n",
        "        \"end\": len(all_labels)+len(subject_labels)\n",
        "    })\n",
        "    all_labels.extend(subject_labels)"
      ],
      "metadata": {
        "id": "XmUh4hBplhcj"
      },
      "execution_count": null,
      "outputs": []
    },
    {
      "cell_type": "code",
      "source": [
        "subject_map = pd.DataFrame(subject_map)\n",
        "subject_map.head()"
      ],
      "metadata": {
        "colab": {
          "base_uri": "https://localhost:8080/"
        },
        "id": "at-IDMvJmrg9",
        "outputId": "8cd49f88-39d9-4389-b527-860e171c7c9e"
      },
      "execution_count": null,
      "outputs": [
        {
          "output_type": "execute_result",
          "data": {
            "text/html": [
              "\n",
              "  <div id=\"df-64eec0db-ea1b-49ee-b6a9-a32ecc55fa75\">\n",
              "    <div class=\"colab-df-container\">\n",
              "      <div>\n",
              "<style scoped>\n",
              "    .dataframe tbody tr th:only-of-type {\n",
              "        vertical-align: middle;\n",
              "    }\n",
              "\n",
              "    .dataframe tbody tr th {\n",
              "        vertical-align: top;\n",
              "    }\n",
              "\n",
              "    .dataframe thead th {\n",
              "        text-align: right;\n",
              "    }\n",
              "</style>\n",
              "<table border=\"1\" class=\"dataframe\">\n",
              "  <thead>\n",
              "    <tr style=\"text-align: right;\">\n",
              "      <th></th>\n",
              "      <th>subject</th>\n",
              "      <th>percentage</th>\n",
              "      <th>num_seq</th>\n",
              "      <th>start</th>\n",
              "      <th>end</th>\n",
              "    </tr>\n",
              "  </thead>\n",
              "  <tbody>\n",
              "    <tr>\n",
              "      <th>0</th>\n",
              "      <td>100</td>\n",
              "      <td>0.015018</td>\n",
              "      <td>2264</td>\n",
              "      <td>0</td>\n",
              "      <td>2264</td>\n",
              "    </tr>\n",
              "    <tr>\n",
              "      <th>1</th>\n",
              "      <td>101</td>\n",
              "      <td>0.002691</td>\n",
              "      <td>1858</td>\n",
              "      <td>2264</td>\n",
              "      <td>4122</td>\n",
              "    </tr>\n",
              "    <tr>\n",
              "      <th>2</th>\n",
              "      <td>102</td>\n",
              "      <td>0.954566</td>\n",
              "      <td>2179</td>\n",
              "      <td>4122</td>\n",
              "      <td>6301</td>\n",
              "    </tr>\n",
              "    <tr>\n",
              "      <th>3</th>\n",
              "      <td>103</td>\n",
              "      <td>0.000962</td>\n",
              "      <td>2078</td>\n",
              "      <td>6301</td>\n",
              "      <td>8379</td>\n",
              "    </tr>\n",
              "    <tr>\n",
              "      <th>4</th>\n",
              "      <td>104</td>\n",
              "      <td>0.926610</td>\n",
              "      <td>2221</td>\n",
              "      <td>8379</td>\n",
              "      <td>10600</td>\n",
              "    </tr>\n",
              "  </tbody>\n",
              "</table>\n",
              "</div>\n",
              "      <button class=\"colab-df-convert\" onclick=\"convertToInteractive('df-64eec0db-ea1b-49ee-b6a9-a32ecc55fa75')\"\n",
              "              title=\"Convert this dataframe to an interactive table.\"\n",
              "              style=\"display:none;\">\n",
              "        \n",
              "  <svg xmlns=\"http://www.w3.org/2000/svg\" height=\"24px\"viewBox=\"0 0 24 24\"\n",
              "       width=\"24px\">\n",
              "    <path d=\"M0 0h24v24H0V0z\" fill=\"none\"/>\n",
              "    <path d=\"M18.56 5.44l.94 2.06.94-2.06 2.06-.94-2.06-.94-.94-2.06-.94 2.06-2.06.94zm-11 1L8.5 8.5l.94-2.06 2.06-.94-2.06-.94L8.5 2.5l-.94 2.06-2.06.94zm10 10l.94 2.06.94-2.06 2.06-.94-2.06-.94-.94-2.06-.94 2.06-2.06.94z\"/><path d=\"M17.41 7.96l-1.37-1.37c-.4-.4-.92-.59-1.43-.59-.52 0-1.04.2-1.43.59L10.3 9.45l-7.72 7.72c-.78.78-.78 2.05 0 2.83L4 21.41c.39.39.9.59 1.41.59.51 0 1.02-.2 1.41-.59l7.78-7.78 2.81-2.81c.8-.78.8-2.07 0-2.86zM5.41 20L4 18.59l7.72-7.72 1.47 1.35L5.41 20z\"/>\n",
              "  </svg>\n",
              "      </button>\n",
              "      \n",
              "  <style>\n",
              "    .colab-df-container {\n",
              "      display:flex;\n",
              "      flex-wrap:wrap;\n",
              "      gap: 12px;\n",
              "    }\n",
              "\n",
              "    .colab-df-convert {\n",
              "      background-color: #E8F0FE;\n",
              "      border: none;\n",
              "      border-radius: 50%;\n",
              "      cursor: pointer;\n",
              "      display: none;\n",
              "      fill: #1967D2;\n",
              "      height: 32px;\n",
              "      padding: 0 0 0 0;\n",
              "      width: 32px;\n",
              "    }\n",
              "\n",
              "    .colab-df-convert:hover {\n",
              "      background-color: #E2EBFA;\n",
              "      box-shadow: 0px 1px 2px rgba(60, 64, 67, 0.3), 0px 1px 3px 1px rgba(60, 64, 67, 0.15);\n",
              "      fill: #174EA6;\n",
              "    }\n",
              "\n",
              "    [theme=dark] .colab-df-convert {\n",
              "      background-color: #3B4455;\n",
              "      fill: #D2E3FC;\n",
              "    }\n",
              "\n",
              "    [theme=dark] .colab-df-convert:hover {\n",
              "      background-color: #434B5C;\n",
              "      box-shadow: 0px 1px 3px 1px rgba(0, 0, 0, 0.15);\n",
              "      filter: drop-shadow(0px 1px 2px rgba(0, 0, 0, 0.3));\n",
              "      fill: #FFFFFF;\n",
              "    }\n",
              "  </style>\n",
              "\n",
              "      <script>\n",
              "        const buttonEl =\n",
              "          document.querySelector('#df-64eec0db-ea1b-49ee-b6a9-a32ecc55fa75 button.colab-df-convert');\n",
              "        buttonEl.style.display =\n",
              "          google.colab.kernel.accessAllowed ? 'block' : 'none';\n",
              "\n",
              "        async function convertToInteractive(key) {\n",
              "          const element = document.querySelector('#df-64eec0db-ea1b-49ee-b6a9-a32ecc55fa75');\n",
              "          const dataTable =\n",
              "            await google.colab.kernel.invokeFunction('convertToInteractive',\n",
              "                                                     [key], {});\n",
              "          if (!dataTable) return;\n",
              "\n",
              "          const docLinkHtml = 'Like what you see? Visit the ' +\n",
              "            '<a target=\"_blank\" href=https://colab.research.google.com/notebooks/data_table.ipynb>data table notebook</a>'\n",
              "            + ' to learn more about interactive tables.';\n",
              "          element.innerHTML = '';\n",
              "          dataTable['output_type'] = 'display_data';\n",
              "          await google.colab.output.renderOutput(dataTable, element);\n",
              "          const docLink = document.createElement('div');\n",
              "          docLink.innerHTML = docLinkHtml;\n",
              "          element.appendChild(docLink);\n",
              "        }\n",
              "      </script>\n",
              "    </div>\n",
              "  </div>\n",
              "  "
            ],
            "text/plain": [
              "   subject  percentage  num_seq  start    end\n",
              "0      100    0.015018     2264      0   2264\n",
              "1      101    0.002691     1858   2264   4122\n",
              "2      102    0.954566     2179   4122   6301\n",
              "3      103    0.000962     2078   6301   8379\n",
              "4      104    0.926610     2221   8379  10600"
            ]
          },
          "metadata": {},
          "execution_count": 17
        }
      ]
    },
    {
      "cell_type": "code",
      "source": [
        "bins = [0, 0.2, 0.6, 1.0]\n",
        "subject_map[\"bin\"] = pd.cut(subject_map['percentage'], bins=bins, labels=False, include_lowest=True)"
      ],
      "metadata": {
        "id": "9bxhSEXdnbZ2"
      },
      "execution_count": null,
      "outputs": []
    },
    {
      "cell_type": "code",
      "source": [
        "train, validation = train_test_split(subject_map, test_size=0.25, stratify=subject_map[\"bin\"], random_state=42)"
      ],
      "metadata": {
        "id": "U4ceokNVndww"
      },
      "execution_count": null,
      "outputs": []
    },
    {
      "cell_type": "code",
      "source": [
        "def build_dataset(df, all_sequences, all_labels):\n",
        "    sequences = []\n",
        "    labels = []\n",
        "    for i, row in df.iterrows():\n",
        "        start = int(row[\"start\"])\n",
        "        end = int(row[\"end\"])\n",
        "        sequences.extend(all_sequences[start:end])\n",
        "        labels.extend(all_labels[start:end])\n",
        "        \n",
        "    return np.vstack(sequences), np.vstack(labels)"
      ],
      "metadata": {
        "id": "kSD2owgPniDi"
      },
      "execution_count": null,
      "outputs": []
    },
    {
      "cell_type": "code",
      "source": [
        "X_train, y_train = build_dataset(train, all_sequences, all_labels)\n",
        "X_val, y_val = build_dataset(validation, all_sequences, all_labels)"
      ],
      "metadata": {
        "id": "rztHhmKwnjgz"
      },
      "execution_count": null,
      "outputs": []
    },
    {
      "cell_type": "code",
      "source": [
        "X_train.shape, y_train.shape"
      ],
      "metadata": {
        "colab": {
          "base_uri": "https://localhost:8080/"
        },
        "id": "QPeG-EkcnjQ9",
        "outputId": "cc274c6f-197f-4053-c6cb-f9d40d59adf5"
      },
      "execution_count": null,
      "outputs": [
        {
          "output_type": "execute_result",
          "data": {
            "text/plain": [
              "((82873, 2160, 1), (82873, 1))"
            ]
          },
          "metadata": {},
          "execution_count": 22
        }
      ]
    },
    {
      "cell_type": "code",
      "source": [
        "from keras.models import Sequential\n",
        "from keras.layers import Conv1D, Flatten, Dense, Dropout\n",
        "from tensorflow.keras.optimizers import Adam"
      ],
      "metadata": {
        "id": "XYID5EqWn4H7"
      },
      "execution_count": null,
      "outputs": []
    },
    {
      "cell_type": "code",
      "source": [
        "sequence_size = X_train.shape[1]\n",
        "n_features = 1\n",
        "\n",
        "cnn_model = Sequential([\n",
        "    Conv1D(filters=8, kernel_size=4, strides=1, input_shape=(sequence_size, n_features), \n",
        "           padding=\"same\", activation=\"relu\"),\n",
        "    Flatten(),\n",
        "    Dropout(0.5),\n",
        "    Dense(1, activation=\"sigmoid\", name=\"output\",)\n",
        "])"
      ],
      "metadata": {
        "id": "7zF4VAoDn4KY"
      },
      "execution_count": null,
      "outputs": []
    },
    {
      "cell_type": "code",
      "source": [
        "optimizer = Adam(lr=0.001)\n",
        "# Compiling the model\n",
        "cnn_model.compile(\n",
        "    optimizer=optimizer,\n",
        "    loss=\"binary_crossentropy\",\n",
        "    metrics=[\"accuracy\"]\n",
        ")\n",
        "cnn_model.summary()"
      ],
      "metadata": {
        "colab": {
          "base_uri": "https://localhost:8080/"
        },
        "id": "tuaA0mjzn4NG",
        "outputId": "2e91d496-f10a-48bf-cec9-b1764bb3d1a3"
      },
      "execution_count": null,
      "outputs": [
        {
          "output_type": "stream",
          "name": "stdout",
          "text": [
            "Model: \"sequential\"\n",
            "_________________________________________________________________\n",
            " Layer (type)                Output Shape              Param #   \n",
            "=================================================================\n",
            " conv1d (Conv1D)             (None, 2160, 8)           40        \n",
            "                                                                 \n",
            " flatten (Flatten)           (None, 17280)             0         \n",
            "                                                                 \n",
            " dropout (Dropout)           (None, 17280)             0         \n",
            "                                                                 \n",
            " output (Dense)              (None, 1)                 17281     \n",
            "                                                                 \n",
            "=================================================================\n",
            "Total params: 17,321\n",
            "Trainable params: 17,321\n",
            "Non-trainable params: 0\n",
            "_________________________________________________________________\n"
          ]
        },
        {
          "output_type": "stream",
          "name": "stderr",
          "text": [
            "/usr/local/lib/python3.7/dist-packages/keras/optimizer_v2/adam.py:105: UserWarning: The `lr` argument is deprecated, use `learning_rate` instead.\n",
            "  super(Adam, self).__init__(name, **kwargs)\n"
          ]
        }
      ]
    },
    {
      "cell_type": "code",
      "source": [
        "hist_cnn = cnn_model.fit(\n",
        "    X_train, \n",
        "    y_train, \n",
        "    batch_size=128,\n",
        "    epochs=15,\n",
        "    validation_data=(X_val, y_val)\n",
        ")"
      ],
      "metadata": {
        "colab": {
          "base_uri": "https://localhost:8080/"
        },
        "id": "ltrKhTsTn4Pf",
        "outputId": "59cb3b75-d745-45a4-9886-e87e7c4d7337"
      },
      "execution_count": null,
      "outputs": [
        {
          "output_type": "stream",
          "name": "stdout",
          "text": [
            "Epoch 1/15\n",
            "648/648 [==============================] - 67s 100ms/step - loss: 0.2376 - accuracy: 0.9151 - val_loss: 0.5922 - val_accuracy: 0.8163\n",
            "Epoch 2/15\n",
            "648/648 [==============================] - 57s 88ms/step - loss: 0.1821 - accuracy: 0.9394 - val_loss: 0.6007 - val_accuracy: 0.8245\n",
            "Epoch 3/15\n",
            "648/648 [==============================] - 56s 86ms/step - loss: 0.1703 - accuracy: 0.9444 - val_loss: 0.6080 - val_accuracy: 0.8120\n",
            "Epoch 4/15\n",
            "648/648 [==============================] - 56s 86ms/step - loss: 0.1610 - accuracy: 0.9475 - val_loss: 0.6135 - val_accuracy: 0.8222\n",
            "Epoch 5/15\n",
            "648/648 [==============================] - 55s 86ms/step - loss: 0.1551 - accuracy: 0.9492 - val_loss: 0.6249 - val_accuracy: 0.8123\n",
            "Epoch 6/15\n",
            "648/648 [==============================] - 56s 86ms/step - loss: 0.1512 - accuracy: 0.9518 - val_loss: 0.6478 - val_accuracy: 0.8189\n",
            "Epoch 7/15\n",
            "648/648 [==============================] - 56s 86ms/step - loss: 0.1487 - accuracy: 0.9526 - val_loss: 0.6424 - val_accuracy: 0.8142\n",
            "Epoch 8/15\n",
            "648/648 [==============================] - 56s 86ms/step - loss: 0.1430 - accuracy: 0.9544 - val_loss: 0.6400 - val_accuracy: 0.8160\n",
            "Epoch 9/15\n",
            "648/648 [==============================] - 56s 86ms/step - loss: 0.1404 - accuracy: 0.9542 - val_loss: 0.6615 - val_accuracy: 0.8128\n",
            "Epoch 10/15\n",
            "648/648 [==============================] - 55s 85ms/step - loss: 0.1376 - accuracy: 0.9558 - val_loss: 0.6794 - val_accuracy: 0.8051\n",
            "Epoch 11/15\n",
            "648/648 [==============================] - 55s 85ms/step - loss: 0.1328 - accuracy: 0.9584 - val_loss: 0.7011 - val_accuracy: 0.8145\n",
            "Epoch 12/15\n",
            "648/648 [==============================] - 55s 85ms/step - loss: 0.1284 - accuracy: 0.9591 - val_loss: 0.7090 - val_accuracy: 0.8133\n",
            "Epoch 13/15\n",
            "648/648 [==============================] - 56s 86ms/step - loss: 0.1248 - accuracy: 0.9599 - val_loss: 0.7500 - val_accuracy: 0.8109\n",
            "Epoch 14/15\n",
            "648/648 [==============================] - 56s 87ms/step - loss: 0.1236 - accuracy: 0.9603 - val_loss: 0.7408 - val_accuracy: 0.8091\n",
            "Epoch 15/15\n",
            "648/648 [==============================] - 56s 86ms/step - loss: 0.1182 - accuracy: 0.9625 - val_loss: 0.7705 - val_accuracy: 0.8130\n"
          ]
        }
      ]
    },
    {
      "cell_type": "code",
      "source": [
        "cnn_model.evaluate(X_val, y_val)"
      ],
      "metadata": {
        "colab": {
          "base_uri": "https://localhost:8080/"
        },
        "id": "bPM-fh4kokhh",
        "outputId": "7213c4d1-2bd8-432c-8adf-ff75a77e3c13"
      },
      "execution_count": null,
      "outputs": [
        {
          "output_type": "stream",
          "name": "stdout",
          "text": [
            "821/821 [==============================] - 8s 10ms/step - loss: 0.7705 - accuracy: 0.8130\n"
          ]
        },
        {
          "output_type": "execute_result",
          "data": {
            "text/plain": [
              "[0.7704641222953796, 0.8129783868789673]"
            ]
          },
          "metadata": {},
          "execution_count": 28
        }
      ]
    },
    {
      "cell_type": "code",
      "source": [
        "!pip uninstall matplotlib\n",
        "!pip install matplotlib==3.1.3"
      ],
      "metadata": {
        "id": "4ouTlGkusM6F"
      },
      "execution_count": null,
      "outputs": []
    },
    {
      "cell_type": "code",
      "source": [
        "# summarize history for accuracy\n",
        "plt.plot(hist_cnn.history['accuracy'])\n",
        "plt.plot(hist_cnn.history['val_accuracy'])\n",
        "plt.title('CNN model accuracy')\n",
        "plt.ylabel('accuracy')\n",
        "plt.xlabel('epoch')\n",
        "plt.legend(['train', 'test'], loc='upper left')\n",
        "plt.show()"
      ],
      "metadata": {
        "colab": {
          "base_uri": "https://localhost:8080/"
        },
        "id": "7z1QmTjxolk9",
        "outputId": "325c452c-5e6b-45b2-8c95-9ac6c973c0b5"
      },
      "execution_count": null,
      "outputs": [
        {
          "output_type": "display_data",
          "data": {
            "image/png": "[encoded data removed]",
            "text/plain": [
              "<Figure size 432x288 with 1 Axes>"
            ]
          },
          "metadata": {
            "needs_background": "light"
          }
        }
      ]
    },
    {
      "cell_type": "code",
      "source": [
        "# summarize history for loss\n",
        "plt.plot(hist_cnn.history['loss'])\n",
        "plt.plot(hist_cnn.history['val_loss'])\n",
        "plt.title('CNN model loss')\n",
        "plt.ylabel('loss')\n",
        "plt.xlabel('epoch')\n",
        "plt.legend(['train', 'test'], loc='upper left')\n",
        "plt.show()"
      ],
      "metadata": {
        "colab": {
          "base_uri": "https://localhost:8080/"
        },
        "id": "pI352Cr5sznz",
        "outputId": "3499bc45-1f8d-4823-a871-8f131718c281"
      },
      "execution_count": null,
      "outputs": [
        {
          "output_type": "display_data",
          "data": {
            "image/png": "[encoded data removed]",
            "text/plain": [
              "<Figure size 432x288 with 1 Axes>"
            ]
          },
          "metadata": {
            "needs_background": "light"
          }
        }
      ]
    },
    {
      "cell_type": "markdown",
      "source": [
        "## **3. Multi Class Test CNN**"
      ],
      "metadata": {
        "id": "9W_71v8KP8JN"
      }
    },
    {
      "cell_type": "markdown",
      "source": [
        "### **A. EDA**"
      ],
      "metadata": {
        "id": "u6_im5WG-HJR"
      }
    },
    {
      "cell_type": "code",
      "source": [
        "from sklearn.utils import resample\n",
        "import seaborn as sns\n",
        "\n",
        "from sklearn.metrics import classification_report\n",
        "from sklearn.model_selection import train_test_split\n",
        "from sklearn.metrics import f1_score\n",
        "from sklearn.metrics import confusion_matrix\n",
        "from keras.utils.np_utils import to_categorical\n",
        "from sklearn.utils import class_weight\n",
        "import warnings\n",
        "warnings.filterwarnings('ignore')\n",
        "\n",
        "from keras.layers import Dense, Convolution1D, MaxPool1D, Flatten, Dropout\n",
        "from keras.layers import Input\n",
        "from keras.models import Model\n",
        "from tensorflow.keras.layers import BatchNormalization\n",
        "import keras\n",
        "from keras.callbacks import EarlyStopping, ModelCheckpoint"
      ],
      "metadata": {
        "id": "a1g8WIUrf_zX"
      },
      "execution_count": null,
      "outputs": []
    },
    {
      "cell_type": "code",
      "source": [
        "train_df = pd.read_csv(DATA_PATH + 'mitbih_train.csv',header=None)\n",
        "test_df = pd.read_csv(DATA_PATH + 'mitbih_test.csv',header=None)\n",
        "\n",
        "train_df.head()"
      ],
      "metadata": {
        "colab": {
          "base_uri": "https://localhost:8080/",
          "height": 300
        },
        "id": "u6uB8JUgZaTM",
        "outputId": "8e32aa2b-4a03-4a7e-d0eb-23ec2242c429"
      },
      "execution_count": 28,
      "outputs": [
        {
          "output_type": "execute_result",
          "data": {
            "text/html": [
              "\n",
              "  <div id=\"df-d3b745f1-2bc3-4b03-8438-7961774bbfcc\">\n",
              "    <div class=\"colab-df-container\">\n",
              "      <div>\n",
              "<style scoped>\n",
              "    .dataframe tbody tr th:only-of-type {\n",
              "        vertical-align: middle;\n",
              "    }\n",
              "\n",
              "    .dataframe tbody tr th {\n",
              "        vertical-align: top;\n",
              "    }\n",
              "\n",
              "    .dataframe thead th {\n",
              "        text-align: right;\n",
              "    }\n",
              "</style>\n",
              "<table border=\"1\" class=\"dataframe\">\n",
              "  <thead>\n",
              "    <tr style=\"text-align: right;\">\n",
              "      <th></th>\n",
              "      <th>0</th>\n",
              "      <th>1</th>\n",
              "      <th>2</th>\n",
              "      <th>3</th>\n",
              "      <th>4</th>\n",
              "      <th>5</th>\n",
              "      <th>6</th>\n",
              "      <th>7</th>\n",
              "      <th>8</th>\n",
              "      <th>9</th>\n",
              "      <th>10</th>\n",
              "      <th>11</th>\n",
              "      <th>12</th>\n",
              "      <th>13</th>\n",
              "      <th>14</th>\n",
              "      <th>15</th>\n",
              "      <th>16</th>\n",
              "      <th>17</th>\n",
              "      <th>18</th>\n",
              "      <th>19</th>\n",
              "      <th>20</th>\n",
              "      <th>21</th>\n",
              "      <th>22</th>\n",
              "      <th>23</th>\n",
              "      <th>24</th>\n",
              "      <th>25</th>\n",
              "      <th>26</th>\n",
              "      <th>27</th>\n",
              "      <th>28</th>\n",
              "      <th>29</th>\n",
              "      <th>30</th>\n",
              "      <th>31</th>\n",
              "      <th>32</th>\n",
              "      <th>33</th>\n",
              "      <th>34</th>\n",
              "      <th>35</th>\n",
              "      <th>36</th>\n",
              "      <th>37</th>\n",
              "      <th>38</th>\n",
              "      <th>39</th>\n",
              "      <th>...</th>\n",
              "      <th>148</th>\n",
              "      <th>149</th>\n",
              "      <th>150</th>\n",
              "      <th>151</th>\n",
              "      <th>152</th>\n",
              "      <th>153</th>\n",
              "      <th>154</th>\n",
              "      <th>155</th>\n",
              "      <th>156</th>\n",
              "      <th>157</th>\n",
              "      <th>158</th>\n",
              "      <th>159</th>\n",
              "      <th>160</th>\n",
              "      <th>161</th>\n",
              "      <th>162</th>\n",
              "      <th>163</th>\n",
              "      <th>164</th>\n",
              "      <th>165</th>\n",
              "      <th>166</th>\n",
              "      <th>167</th>\n",
              "      <th>168</th>\n",
              "      <th>169</th>\n",
              "      <th>170</th>\n",
              "      <th>171</th>\n",
              "      <th>172</th>\n",
              "      <th>173</th>\n",
              "      <th>174</th>\n",
              "      <th>175</th>\n",
              "      <th>176</th>\n",
              "      <th>177</th>\n",
              "      <th>178</th>\n",
              "      <th>179</th>\n",
              "      <th>180</th>\n",
              "      <th>181</th>\n",
              "      <th>182</th>\n",
              "      <th>183</th>\n",
              "      <th>184</th>\n",
              "      <th>185</th>\n",
              "      <th>186</th>\n",
              "      <th>187</th>\n",
              "    </tr>\n",
              "  </thead>\n",
              "  <tbody>\n",
              "    <tr>\n",
              "      <th>0</th>\n",
              "      <td>0.977941</td>\n",
              "      <td>0.926471</td>\n",
              "      <td>0.681373</td>\n",
              "      <td>0.245098</td>\n",
              "      <td>0.154412</td>\n",
              "      <td>0.191176</td>\n",
              "      <td>0.151961</td>\n",
              "      <td>0.085784</td>\n",
              "      <td>0.058824</td>\n",
              "      <td>0.049020</td>\n",
              "      <td>0.044118</td>\n",
              "      <td>0.061275</td>\n",
              "      <td>0.066176</td>\n",
              "      <td>0.061275</td>\n",
              "      <td>0.049020</td>\n",
              "      <td>0.073529</td>\n",
              "      <td>0.061275</td>\n",
              "      <td>0.061275</td>\n",
              "      <td>0.066176</td>\n",
              "      <td>0.068627</td>\n",
              "      <td>0.095588</td>\n",
              "      <td>0.075980</td>\n",
              "      <td>0.093137</td>\n",
              "      <td>0.105392</td>\n",
              "      <td>0.115196</td>\n",
              "      <td>0.102941</td>\n",
              "      <td>0.117647</td>\n",
              "      <td>0.125000</td>\n",
              "      <td>0.142157</td>\n",
              "      <td>0.127451</td>\n",
              "      <td>0.151961</td>\n",
              "      <td>0.144608</td>\n",
              "      <td>0.164216</td>\n",
              "      <td>0.144608</td>\n",
              "      <td>0.159314</td>\n",
              "      <td>0.151961</td>\n",
              "      <td>0.154412</td>\n",
              "      <td>0.142157</td>\n",
              "      <td>0.151961</td>\n",
              "      <td>0.151961</td>\n",
              "      <td>...</td>\n",
              "      <td>0.0</td>\n",
              "      <td>0.0</td>\n",
              "      <td>0.0</td>\n",
              "      <td>0.0</td>\n",
              "      <td>0.0</td>\n",
              "      <td>0.0</td>\n",
              "      <td>0.0</td>\n",
              "      <td>0.0</td>\n",
              "      <td>0.0</td>\n",
              "      <td>0.0</td>\n",
              "      <td>0.0</td>\n",
              "      <td>0.0</td>\n",
              "      <td>0.0</td>\n",
              "      <td>0.0</td>\n",
              "      <td>0.0</td>\n",
              "      <td>0.0</td>\n",
              "      <td>0.0</td>\n",
              "      <td>0.0</td>\n",
              "      <td>0.0</td>\n",
              "      <td>0.0</td>\n",
              "      <td>0.0</td>\n",
              "      <td>0.0</td>\n",
              "      <td>0.0</td>\n",
              "      <td>0.0</td>\n",
              "      <td>0.0</td>\n",
              "      <td>0.0</td>\n",
              "      <td>0.0</td>\n",
              "      <td>0.0</td>\n",
              "      <td>0.0</td>\n",
              "      <td>0.0</td>\n",
              "      <td>0.0</td>\n",
              "      <td>0.0</td>\n",
              "      <td>0.0</td>\n",
              "      <td>0.0</td>\n",
              "      <td>0.0</td>\n",
              "      <td>0.0</td>\n",
              "      <td>0.0</td>\n",
              "      <td>0.0</td>\n",
              "      <td>0.0</td>\n",
              "      <td>0.0</td>\n",
              "    </tr>\n",
              "    <tr>\n",
              "      <th>1</th>\n",
              "      <td>0.960114</td>\n",
              "      <td>0.863248</td>\n",
              "      <td>0.461538</td>\n",
              "      <td>0.196581</td>\n",
              "      <td>0.094017</td>\n",
              "      <td>0.125356</td>\n",
              "      <td>0.099715</td>\n",
              "      <td>0.088319</td>\n",
              "      <td>0.074074</td>\n",
              "      <td>0.082621</td>\n",
              "      <td>0.074074</td>\n",
              "      <td>0.062678</td>\n",
              "      <td>0.065527</td>\n",
              "      <td>0.065527</td>\n",
              "      <td>0.062678</td>\n",
              "      <td>0.076923</td>\n",
              "      <td>0.071225</td>\n",
              "      <td>0.082621</td>\n",
              "      <td>0.091168</td>\n",
              "      <td>0.096866</td>\n",
              "      <td>0.082621</td>\n",
              "      <td>0.082621</td>\n",
              "      <td>0.091168</td>\n",
              "      <td>0.105413</td>\n",
              "      <td>0.122507</td>\n",
              "      <td>0.148148</td>\n",
              "      <td>0.182336</td>\n",
              "      <td>0.193732</td>\n",
              "      <td>0.213675</td>\n",
              "      <td>0.207977</td>\n",
              "      <td>0.222222</td>\n",
              "      <td>0.253561</td>\n",
              "      <td>0.270655</td>\n",
              "      <td>0.287749</td>\n",
              "      <td>0.284900</td>\n",
              "      <td>0.293447</td>\n",
              "      <td>0.256410</td>\n",
              "      <td>0.247863</td>\n",
              "      <td>0.188034</td>\n",
              "      <td>0.145299</td>\n",
              "      <td>...</td>\n",
              "      <td>0.0</td>\n",
              "      <td>0.0</td>\n",
              "      <td>0.0</td>\n",
              "      <td>0.0</td>\n",
              "      <td>0.0</td>\n",
              "      <td>0.0</td>\n",
              "      <td>0.0</td>\n",
              "      <td>0.0</td>\n",
              "      <td>0.0</td>\n",
              "      <td>0.0</td>\n",
              "      <td>0.0</td>\n",
              "      <td>0.0</td>\n",
              "      <td>0.0</td>\n",
              "      <td>0.0</td>\n",
              "      <td>0.0</td>\n",
              "      <td>0.0</td>\n",
              "      <td>0.0</td>\n",
              "      <td>0.0</td>\n",
              "      <td>0.0</td>\n",
              "      <td>0.0</td>\n",
              "      <td>0.0</td>\n",
              "      <td>0.0</td>\n",
              "      <td>0.0</td>\n",
              "      <td>0.0</td>\n",
              "      <td>0.0</td>\n",
              "      <td>0.0</td>\n",
              "      <td>0.0</td>\n",
              "      <td>0.0</td>\n",
              "      <td>0.0</td>\n",
              "      <td>0.0</td>\n",
              "      <td>0.0</td>\n",
              "      <td>0.0</td>\n",
              "      <td>0.0</td>\n",
              "      <td>0.0</td>\n",
              "      <td>0.0</td>\n",
              "      <td>0.0</td>\n",
              "      <td>0.0</td>\n",
              "      <td>0.0</td>\n",
              "      <td>0.0</td>\n",
              "      <td>0.0</td>\n",
              "    </tr>\n",
              "    <tr>\n",
              "      <th>2</th>\n",
              "      <td>1.000000</td>\n",
              "      <td>0.659459</td>\n",
              "      <td>0.186486</td>\n",
              "      <td>0.070270</td>\n",
              "      <td>0.070270</td>\n",
              "      <td>0.059459</td>\n",
              "      <td>0.056757</td>\n",
              "      <td>0.043243</td>\n",
              "      <td>0.054054</td>\n",
              "      <td>0.045946</td>\n",
              "      <td>0.056757</td>\n",
              "      <td>0.043243</td>\n",
              "      <td>0.067568</td>\n",
              "      <td>0.062162</td>\n",
              "      <td>0.078378</td>\n",
              "      <td>0.072973</td>\n",
              "      <td>0.086486</td>\n",
              "      <td>0.081081</td>\n",
              "      <td>0.108108</td>\n",
              "      <td>0.110811</td>\n",
              "      <td>0.135135</td>\n",
              "      <td>0.135135</td>\n",
              "      <td>0.170270</td>\n",
              "      <td>0.183784</td>\n",
              "      <td>0.216216</td>\n",
              "      <td>0.237838</td>\n",
              "      <td>0.270270</td>\n",
              "      <td>0.286486</td>\n",
              "      <td>0.316216</td>\n",
              "      <td>0.318919</td>\n",
              "      <td>0.332432</td>\n",
              "      <td>0.297297</td>\n",
              "      <td>0.267568</td>\n",
              "      <td>0.216216</td>\n",
              "      <td>0.189189</td>\n",
              "      <td>0.132432</td>\n",
              "      <td>0.118919</td>\n",
              "      <td>0.064865</td>\n",
              "      <td>0.064865</td>\n",
              "      <td>0.043243</td>\n",
              "      <td>...</td>\n",
              "      <td>0.0</td>\n",
              "      <td>0.0</td>\n",
              "      <td>0.0</td>\n",
              "      <td>0.0</td>\n",
              "      <td>0.0</td>\n",
              "      <td>0.0</td>\n",
              "      <td>0.0</td>\n",
              "      <td>0.0</td>\n",
              "      <td>0.0</td>\n",
              "      <td>0.0</td>\n",
              "      <td>0.0</td>\n",
              "      <td>0.0</td>\n",
              "      <td>0.0</td>\n",
              "      <td>0.0</td>\n",
              "      <td>0.0</td>\n",
              "      <td>0.0</td>\n",
              "      <td>0.0</td>\n",
              "      <td>0.0</td>\n",
              "      <td>0.0</td>\n",
              "      <td>0.0</td>\n",
              "      <td>0.0</td>\n",
              "      <td>0.0</td>\n",
              "      <td>0.0</td>\n",
              "      <td>0.0</td>\n",
              "      <td>0.0</td>\n",
              "      <td>0.0</td>\n",
              "      <td>0.0</td>\n",
              "      <td>0.0</td>\n",
              "      <td>0.0</td>\n",
              "      <td>0.0</td>\n",
              "      <td>0.0</td>\n",
              "      <td>0.0</td>\n",
              "      <td>0.0</td>\n",
              "      <td>0.0</td>\n",
              "      <td>0.0</td>\n",
              "      <td>0.0</td>\n",
              "      <td>0.0</td>\n",
              "      <td>0.0</td>\n",
              "      <td>0.0</td>\n",
              "      <td>0.0</td>\n",
              "    </tr>\n",
              "    <tr>\n",
              "      <th>3</th>\n",
              "      <td>0.925414</td>\n",
              "      <td>0.665746</td>\n",
              "      <td>0.541436</td>\n",
              "      <td>0.276243</td>\n",
              "      <td>0.196133</td>\n",
              "      <td>0.077348</td>\n",
              "      <td>0.071823</td>\n",
              "      <td>0.060773</td>\n",
              "      <td>0.066298</td>\n",
              "      <td>0.058011</td>\n",
              "      <td>0.063536</td>\n",
              "      <td>0.082873</td>\n",
              "      <td>0.085635</td>\n",
              "      <td>0.093923</td>\n",
              "      <td>0.113260</td>\n",
              "      <td>0.124309</td>\n",
              "      <td>0.140884</td>\n",
              "      <td>0.132597</td>\n",
              "      <td>0.140884</td>\n",
              "      <td>0.091160</td>\n",
              "      <td>0.085635</td>\n",
              "      <td>0.074586</td>\n",
              "      <td>0.071823</td>\n",
              "      <td>0.080110</td>\n",
              "      <td>0.096685</td>\n",
              "      <td>0.118785</td>\n",
              "      <td>0.138122</td>\n",
              "      <td>0.140884</td>\n",
              "      <td>0.138122</td>\n",
              "      <td>0.146409</td>\n",
              "      <td>0.110497</td>\n",
              "      <td>0.102210</td>\n",
              "      <td>0.060773</td>\n",
              "      <td>0.027624</td>\n",
              "      <td>0.038674</td>\n",
              "      <td>0.013812</td>\n",
              "      <td>0.011050</td>\n",
              "      <td>0.013812</td>\n",
              "      <td>0.033149</td>\n",
              "      <td>0.005525</td>\n",
              "      <td>...</td>\n",
              "      <td>0.0</td>\n",
              "      <td>0.0</td>\n",
              "      <td>0.0</td>\n",
              "      <td>0.0</td>\n",
              "      <td>0.0</td>\n",
              "      <td>0.0</td>\n",
              "      <td>0.0</td>\n",
              "      <td>0.0</td>\n",
              "      <td>0.0</td>\n",
              "      <td>0.0</td>\n",
              "      <td>0.0</td>\n",
              "      <td>0.0</td>\n",
              "      <td>0.0</td>\n",
              "      <td>0.0</td>\n",
              "      <td>0.0</td>\n",
              "      <td>0.0</td>\n",
              "      <td>0.0</td>\n",
              "      <td>0.0</td>\n",
              "      <td>0.0</td>\n",
              "      <td>0.0</td>\n",
              "      <td>0.0</td>\n",
              "      <td>0.0</td>\n",
              "      <td>0.0</td>\n",
              "      <td>0.0</td>\n",
              "      <td>0.0</td>\n",
              "      <td>0.0</td>\n",
              "      <td>0.0</td>\n",
              "      <td>0.0</td>\n",
              "      <td>0.0</td>\n",
              "      <td>0.0</td>\n",
              "      <td>0.0</td>\n",
              "      <td>0.0</td>\n",
              "      <td>0.0</td>\n",
              "      <td>0.0</td>\n",
              "      <td>0.0</td>\n",
              "      <td>0.0</td>\n",
              "      <td>0.0</td>\n",
              "      <td>0.0</td>\n",
              "      <td>0.0</td>\n",
              "      <td>0.0</td>\n",
              "    </tr>\n",
              "    <tr>\n",
              "      <th>4</th>\n",
              "      <td>0.967136</td>\n",
              "      <td>1.000000</td>\n",
              "      <td>0.830986</td>\n",
              "      <td>0.586854</td>\n",
              "      <td>0.356808</td>\n",
              "      <td>0.248826</td>\n",
              "      <td>0.145540</td>\n",
              "      <td>0.089202</td>\n",
              "      <td>0.117371</td>\n",
              "      <td>0.150235</td>\n",
              "      <td>0.131455</td>\n",
              "      <td>0.122066</td>\n",
              "      <td>0.140845</td>\n",
              "      <td>0.159624</td>\n",
              "      <td>0.150235</td>\n",
              "      <td>0.145540</td>\n",
              "      <td>0.136150</td>\n",
              "      <td>0.169014</td>\n",
              "      <td>0.178404</td>\n",
              "      <td>0.173709</td>\n",
              "      <td>0.183099</td>\n",
              "      <td>0.201878</td>\n",
              "      <td>0.187793</td>\n",
              "      <td>0.164319</td>\n",
              "      <td>0.187793</td>\n",
              "      <td>0.215962</td>\n",
              "      <td>0.215962</td>\n",
              "      <td>0.201878</td>\n",
              "      <td>0.211268</td>\n",
              "      <td>0.230047</td>\n",
              "      <td>0.215962</td>\n",
              "      <td>0.230047</td>\n",
              "      <td>0.239437</td>\n",
              "      <td>0.267606</td>\n",
              "      <td>0.253521</td>\n",
              "      <td>0.230047</td>\n",
              "      <td>0.220657</td>\n",
              "      <td>0.225352</td>\n",
              "      <td>0.211268</td>\n",
              "      <td>0.173709</td>\n",
              "      <td>...</td>\n",
              "      <td>0.0</td>\n",
              "      <td>0.0</td>\n",
              "      <td>0.0</td>\n",
              "      <td>0.0</td>\n",
              "      <td>0.0</td>\n",
              "      <td>0.0</td>\n",
              "      <td>0.0</td>\n",
              "      <td>0.0</td>\n",
              "      <td>0.0</td>\n",
              "      <td>0.0</td>\n",
              "      <td>0.0</td>\n",
              "      <td>0.0</td>\n",
              "      <td>0.0</td>\n",
              "      <td>0.0</td>\n",
              "      <td>0.0</td>\n",
              "      <td>0.0</td>\n",
              "      <td>0.0</td>\n",
              "      <td>0.0</td>\n",
              "      <td>0.0</td>\n",
              "      <td>0.0</td>\n",
              "      <td>0.0</td>\n",
              "      <td>0.0</td>\n",
              "      <td>0.0</td>\n",
              "      <td>0.0</td>\n",
              "      <td>0.0</td>\n",
              "      <td>0.0</td>\n",
              "      <td>0.0</td>\n",
              "      <td>0.0</td>\n",
              "      <td>0.0</td>\n",
              "      <td>0.0</td>\n",
              "      <td>0.0</td>\n",
              "      <td>0.0</td>\n",
              "      <td>0.0</td>\n",
              "      <td>0.0</td>\n",
              "      <td>0.0</td>\n",
              "      <td>0.0</td>\n",
              "      <td>0.0</td>\n",
              "      <td>0.0</td>\n",
              "      <td>0.0</td>\n",
              "      <td>0.0</td>\n",
              "    </tr>\n",
              "  </tbody>\n",
              "</table>\n",
              "<p>5 rows × 188 columns</p>\n",
              "</div>\n",
              "      <button class=\"colab-df-convert\" onclick=\"convertToInteractive('df-d3b745f1-2bc3-4b03-8438-7961774bbfcc')\"\n",
              "              title=\"Convert this dataframe to an interactive table.\"\n",
              "              style=\"display:none;\">\n",
              "        \n",
              "  <svg xmlns=\"http://www.w3.org/2000/svg\" height=\"24px\"viewBox=\"0 0 24 24\"\n",
              "       width=\"24px\">\n",
              "    <path d=\"M0 0h24v24H0V0z\" fill=\"none\"/>\n",
              "    <path d=\"M18.56 5.44l.94 2.06.94-2.06 2.06-.94-2.06-.94-.94-2.06-.94 2.06-2.06.94zm-11 1L8.5 8.5l.94-2.06 2.06-.94-2.06-.94L8.5 2.5l-.94 2.06-2.06.94zm10 10l.94 2.06.94-2.06 2.06-.94-2.06-.94-.94-2.06-.94 2.06-2.06.94z\"/><path d=\"M17.41 7.96l-1.37-1.37c-.4-.4-.92-.59-1.43-.59-.52 0-1.04.2-1.43.59L10.3 9.45l-7.72 7.72c-.78.78-.78 2.05 0 2.83L4 21.41c.39.39.9.59 1.41.59.51 0 1.02-.2 1.41-.59l7.78-7.78 2.81-2.81c.8-.78.8-2.07 0-2.86zM5.41 20L4 18.59l7.72-7.72 1.47 1.35L5.41 20z\"/>\n",
              "  </svg>\n",
              "      </button>\n",
              "      \n",
              "  <style>\n",
              "    .colab-df-container {\n",
              "      display:flex;\n",
              "      flex-wrap:wrap;\n",
              "      gap: 12px;\n",
              "    }\n",
              "\n",
              "    .colab-df-convert {\n",
              "      background-color: #E8F0FE;\n",
              "      border: none;\n",
              "      border-radius: 50%;\n",
              "      cursor: pointer;\n",
              "      display: none;\n",
              "      fill: #1967D2;\n",
              "      height: 32px;\n",
              "      padding: 0 0 0 0;\n",
              "      width: 32px;\n",
              "    }\n",
              "\n",
              "    .colab-df-convert:hover {\n",
              "      background-color: #E2EBFA;\n",
              "      box-shadow: 0px 1px 2px rgba(60, 64, 67, 0.3), 0px 1px 3px 1px rgba(60, 64, 67, 0.15);\n",
              "      fill: #174EA6;\n",
              "    }\n",
              "\n",
              "    [theme=dark] .colab-df-convert {\n",
              "      background-color: #3B4455;\n",
              "      fill: #D2E3FC;\n",
              "    }\n",
              "\n",
              "    [theme=dark] .colab-df-convert:hover {\n",
              "      background-color: #434B5C;\n",
              "      box-shadow: 0px 1px 3px 1px rgba(0, 0, 0, 0.15);\n",
              "      filter: drop-shadow(0px 1px 2px rgba(0, 0, 0, 0.3));\n",
              "      fill: #FFFFFF;\n",
              "    }\n",
              "  </style>\n",
              "\n",
              "      <script>\n",
              "        const buttonEl =\n",
              "          document.querySelector('#df-d3b745f1-2bc3-4b03-8438-7961774bbfcc button.colab-df-convert');\n",
              "        buttonEl.style.display =\n",
              "          google.colab.kernel.accessAllowed ? 'block' : 'none';\n",
              "\n",
              "        async function convertToInteractive(key) {\n",
              "          const element = document.querySelector('#df-d3b745f1-2bc3-4b03-8438-7961774bbfcc');\n",
              "          const dataTable =\n",
              "            await google.colab.kernel.invokeFunction('convertToInteractive',\n",
              "                                                     [key], {});\n",
              "          if (!dataTable) return;\n",
              "\n",
              "          const docLinkHtml = 'Like what you see? Visit the ' +\n",
              "            '<a target=\"_blank\" href=https://colab.research.google.com/notebooks/data_table.ipynb>data table notebook</a>'\n",
              "            + ' to learn more about interactive tables.';\n",
              "          element.innerHTML = '';\n",
              "          dataTable['output_type'] = 'display_data';\n",
              "          await google.colab.output.renderOutput(dataTable, element);\n",
              "          const docLink = document.createElement('div');\n",
              "          docLink.innerHTML = docLinkHtml;\n",
              "          element.appendChild(docLink);\n",
              "        }\n",
              "      </script>\n",
              "    </div>\n",
              "  </div>\n",
              "  "
            ],
            "text/plain": [
              "        0         1         2         3         4    ...  183  184  185  186  187\n",
              "0  0.977941  0.926471  0.681373  0.245098  0.154412  ...  0.0  0.0  0.0  0.0  0.0\n",
              "1  0.960114  0.863248  0.461538  0.196581  0.094017  ...  0.0  0.0  0.0  0.0  0.0\n",
              "2  1.000000  0.659459  0.186486  0.070270  0.070270  ...  0.0  0.0  0.0  0.0  0.0\n",
              "3  0.925414  0.665746  0.541436  0.276243  0.196133  ...  0.0  0.0  0.0  0.0  0.0\n",
              "4  0.967136  1.000000  0.830986  0.586854  0.356808  ...  0.0  0.0  0.0  0.0  0.0\n",
              "\n",
              "[5 rows x 188 columns]"
            ]
          },
          "metadata": {},
          "execution_count": 28
        }
      ]
    },
    {
      "cell_type": "code",
      "source": [
        "test_df.head()"
      ],
      "metadata": {
        "colab": {
          "base_uri": "https://localhost:8080/",
          "height": 300
        },
        "id": "V-dsRFBiXfcB",
        "outputId": "30bcbfc7-f91d-4188-8b71-e1835587b3a8"
      },
      "execution_count": 20,
      "outputs": [
        {
          "output_type": "execute_result",
          "data": {
            "text/html": [
              "\n",
              "  <div id=\"df-66019383-01c9-4c17-ad3f-039de7f6f1ce\">\n",
              "    <div class=\"colab-df-container\">\n",
              "      <div>\n",
              "<style scoped>\n",
              "    .dataframe tbody tr th:only-of-type {\n",
              "        vertical-align: middle;\n",
              "    }\n",
              "\n",
              "    .dataframe tbody tr th {\n",
              "        vertical-align: top;\n",
              "    }\n",
              "\n",
              "    .dataframe thead th {\n",
              "        text-align: right;\n",
              "    }\n",
              "</style>\n",
              "<table border=\"1\" class=\"dataframe\">\n",
              "  <thead>\n",
              "    <tr style=\"text-align: right;\">\n",
              "      <th></th>\n",
              "      <th>0</th>\n",
              "      <th>1</th>\n",
              "      <th>2</th>\n",
              "      <th>3</th>\n",
              "      <th>4</th>\n",
              "      <th>5</th>\n",
              "      <th>6</th>\n",
              "      <th>7</th>\n",
              "      <th>8</th>\n",
              "      <th>9</th>\n",
              "      <th>10</th>\n",
              "      <th>11</th>\n",
              "      <th>12</th>\n",
              "      <th>13</th>\n",
              "      <th>14</th>\n",
              "      <th>15</th>\n",
              "      <th>16</th>\n",
              "      <th>17</th>\n",
              "      <th>18</th>\n",
              "      <th>19</th>\n",
              "      <th>20</th>\n",
              "      <th>21</th>\n",
              "      <th>22</th>\n",
              "      <th>23</th>\n",
              "      <th>24</th>\n",
              "      <th>25</th>\n",
              "      <th>26</th>\n",
              "      <th>27</th>\n",
              "      <th>28</th>\n",
              "      <th>29</th>\n",
              "      <th>30</th>\n",
              "      <th>31</th>\n",
              "      <th>32</th>\n",
              "      <th>33</th>\n",
              "      <th>34</th>\n",
              "      <th>35</th>\n",
              "      <th>36</th>\n",
              "      <th>37</th>\n",
              "      <th>38</th>\n",
              "      <th>39</th>\n",
              "      <th>...</th>\n",
              "      <th>148</th>\n",
              "      <th>149</th>\n",
              "      <th>150</th>\n",
              "      <th>151</th>\n",
              "      <th>152</th>\n",
              "      <th>153</th>\n",
              "      <th>154</th>\n",
              "      <th>155</th>\n",
              "      <th>156</th>\n",
              "      <th>157</th>\n",
              "      <th>158</th>\n",
              "      <th>159</th>\n",
              "      <th>160</th>\n",
              "      <th>161</th>\n",
              "      <th>162</th>\n",
              "      <th>163</th>\n",
              "      <th>164</th>\n",
              "      <th>165</th>\n",
              "      <th>166</th>\n",
              "      <th>167</th>\n",
              "      <th>168</th>\n",
              "      <th>169</th>\n",
              "      <th>170</th>\n",
              "      <th>171</th>\n",
              "      <th>172</th>\n",
              "      <th>173</th>\n",
              "      <th>174</th>\n",
              "      <th>175</th>\n",
              "      <th>176</th>\n",
              "      <th>177</th>\n",
              "      <th>178</th>\n",
              "      <th>179</th>\n",
              "      <th>180</th>\n",
              "      <th>181</th>\n",
              "      <th>182</th>\n",
              "      <th>183</th>\n",
              "      <th>184</th>\n",
              "      <th>185</th>\n",
              "      <th>186</th>\n",
              "      <th>187</th>\n",
              "    </tr>\n",
              "  </thead>\n",
              "  <tbody>\n",
              "    <tr>\n",
              "      <th>0</th>\n",
              "      <td>1.000000</td>\n",
              "      <td>0.758264</td>\n",
              "      <td>0.111570</td>\n",
              "      <td>0.000000</td>\n",
              "      <td>0.080579</td>\n",
              "      <td>0.078512</td>\n",
              "      <td>0.066116</td>\n",
              "      <td>0.049587</td>\n",
              "      <td>0.047521</td>\n",
              "      <td>0.035124</td>\n",
              "      <td>0.030992</td>\n",
              "      <td>0.028926</td>\n",
              "      <td>0.035124</td>\n",
              "      <td>0.026860</td>\n",
              "      <td>0.039256</td>\n",
              "      <td>0.035124</td>\n",
              "      <td>0.043388</td>\n",
              "      <td>0.047521</td>\n",
              "      <td>0.053719</td>\n",
              "      <td>0.053719</td>\n",
              "      <td>0.070248</td>\n",
              "      <td>0.072314</td>\n",
              "      <td>0.084711</td>\n",
              "      <td>0.097107</td>\n",
              "      <td>0.121901</td>\n",
              "      <td>0.132231</td>\n",
              "      <td>0.169421</td>\n",
              "      <td>0.196281</td>\n",
              "      <td>0.214876</td>\n",
              "      <td>0.235537</td>\n",
              "      <td>0.254132</td>\n",
              "      <td>0.264463</td>\n",
              "      <td>0.285124</td>\n",
              "      <td>0.272727</td>\n",
              "      <td>0.266529</td>\n",
              "      <td>0.239669</td>\n",
              "      <td>0.214876</td>\n",
              "      <td>0.173554</td>\n",
              "      <td>0.157025</td>\n",
              "      <td>0.123967</td>\n",
              "      <td>...</td>\n",
              "      <td>0.0</td>\n",
              "      <td>0.0</td>\n",
              "      <td>0.0</td>\n",
              "      <td>0.0</td>\n",
              "      <td>0.0</td>\n",
              "      <td>0.0</td>\n",
              "      <td>0.0</td>\n",
              "      <td>0.0</td>\n",
              "      <td>0.0</td>\n",
              "      <td>0.0</td>\n",
              "      <td>0.0</td>\n",
              "      <td>0.0</td>\n",
              "      <td>0.0</td>\n",
              "      <td>0.0</td>\n",
              "      <td>0.0</td>\n",
              "      <td>0.0</td>\n",
              "      <td>0.0</td>\n",
              "      <td>0.0</td>\n",
              "      <td>0.0</td>\n",
              "      <td>0.0</td>\n",
              "      <td>0.0</td>\n",
              "      <td>0.0</td>\n",
              "      <td>0.0</td>\n",
              "      <td>0.0</td>\n",
              "      <td>0.0</td>\n",
              "      <td>0.0</td>\n",
              "      <td>0.0</td>\n",
              "      <td>0.0</td>\n",
              "      <td>0.0</td>\n",
              "      <td>0.0</td>\n",
              "      <td>0.0</td>\n",
              "      <td>0.0</td>\n",
              "      <td>0.0</td>\n",
              "      <td>0.0</td>\n",
              "      <td>0.0</td>\n",
              "      <td>0.0</td>\n",
              "      <td>0.0</td>\n",
              "      <td>0.0</td>\n",
              "      <td>0.0</td>\n",
              "      <td>0.0</td>\n",
              "    </tr>\n",
              "    <tr>\n",
              "      <th>1</th>\n",
              "      <td>0.908425</td>\n",
              "      <td>0.783883</td>\n",
              "      <td>0.531136</td>\n",
              "      <td>0.362637</td>\n",
              "      <td>0.366300</td>\n",
              "      <td>0.344322</td>\n",
              "      <td>0.333333</td>\n",
              "      <td>0.307692</td>\n",
              "      <td>0.296703</td>\n",
              "      <td>0.300366</td>\n",
              "      <td>0.304029</td>\n",
              "      <td>0.336996</td>\n",
              "      <td>0.377289</td>\n",
              "      <td>0.391941</td>\n",
              "      <td>0.439560</td>\n",
              "      <td>0.446886</td>\n",
              "      <td>0.457875</td>\n",
              "      <td>0.479853</td>\n",
              "      <td>0.512821</td>\n",
              "      <td>0.534799</td>\n",
              "      <td>0.586081</td>\n",
              "      <td>0.586081</td>\n",
              "      <td>0.604396</td>\n",
              "      <td>0.633700</td>\n",
              "      <td>0.615385</td>\n",
              "      <td>0.582418</td>\n",
              "      <td>0.564103</td>\n",
              "      <td>0.520147</td>\n",
              "      <td>0.490842</td>\n",
              "      <td>0.490842</td>\n",
              "      <td>0.468864</td>\n",
              "      <td>0.454212</td>\n",
              "      <td>0.450549</td>\n",
              "      <td>0.465201</td>\n",
              "      <td>0.450549</td>\n",
              "      <td>0.432234</td>\n",
              "      <td>0.424908</td>\n",
              "      <td>0.410256</td>\n",
              "      <td>0.391941</td>\n",
              "      <td>0.369963</td>\n",
              "      <td>...</td>\n",
              "      <td>0.0</td>\n",
              "      <td>0.0</td>\n",
              "      <td>0.0</td>\n",
              "      <td>0.0</td>\n",
              "      <td>0.0</td>\n",
              "      <td>0.0</td>\n",
              "      <td>0.0</td>\n",
              "      <td>0.0</td>\n",
              "      <td>0.0</td>\n",
              "      <td>0.0</td>\n",
              "      <td>0.0</td>\n",
              "      <td>0.0</td>\n",
              "      <td>0.0</td>\n",
              "      <td>0.0</td>\n",
              "      <td>0.0</td>\n",
              "      <td>0.0</td>\n",
              "      <td>0.0</td>\n",
              "      <td>0.0</td>\n",
              "      <td>0.0</td>\n",
              "      <td>0.0</td>\n",
              "      <td>0.0</td>\n",
              "      <td>0.0</td>\n",
              "      <td>0.0</td>\n",
              "      <td>0.0</td>\n",
              "      <td>0.0</td>\n",
              "      <td>0.0</td>\n",
              "      <td>0.0</td>\n",
              "      <td>0.0</td>\n",
              "      <td>0.0</td>\n",
              "      <td>0.0</td>\n",
              "      <td>0.0</td>\n",
              "      <td>0.0</td>\n",
              "      <td>0.0</td>\n",
              "      <td>0.0</td>\n",
              "      <td>0.0</td>\n",
              "      <td>0.0</td>\n",
              "      <td>0.0</td>\n",
              "      <td>0.0</td>\n",
              "      <td>0.0</td>\n",
              "      <td>0.0</td>\n",
              "    </tr>\n",
              "    <tr>\n",
              "      <th>2</th>\n",
              "      <td>0.730088</td>\n",
              "      <td>0.212389</td>\n",
              "      <td>0.000000</td>\n",
              "      <td>0.119469</td>\n",
              "      <td>0.101770</td>\n",
              "      <td>0.101770</td>\n",
              "      <td>0.110619</td>\n",
              "      <td>0.123894</td>\n",
              "      <td>0.115044</td>\n",
              "      <td>0.132743</td>\n",
              "      <td>0.106195</td>\n",
              "      <td>0.141593</td>\n",
              "      <td>0.128319</td>\n",
              "      <td>0.150442</td>\n",
              "      <td>0.132743</td>\n",
              "      <td>0.150442</td>\n",
              "      <td>0.132743</td>\n",
              "      <td>0.150442</td>\n",
              "      <td>0.123894</td>\n",
              "      <td>0.163717</td>\n",
              "      <td>0.137168</td>\n",
              "      <td>0.141593</td>\n",
              "      <td>0.132743</td>\n",
              "      <td>0.150442</td>\n",
              "      <td>0.128319</td>\n",
              "      <td>0.146018</td>\n",
              "      <td>0.119469</td>\n",
              "      <td>0.123894</td>\n",
              "      <td>0.101770</td>\n",
              "      <td>0.092920</td>\n",
              "      <td>0.070796</td>\n",
              "      <td>0.079646</td>\n",
              "      <td>0.066372</td>\n",
              "      <td>0.070796</td>\n",
              "      <td>0.079646</td>\n",
              "      <td>0.092920</td>\n",
              "      <td>0.088496</td>\n",
              "      <td>0.084071</td>\n",
              "      <td>0.079646</td>\n",
              "      <td>0.088496</td>\n",
              "      <td>...</td>\n",
              "      <td>0.0</td>\n",
              "      <td>0.0</td>\n",
              "      <td>0.0</td>\n",
              "      <td>0.0</td>\n",
              "      <td>0.0</td>\n",
              "      <td>0.0</td>\n",
              "      <td>0.0</td>\n",
              "      <td>0.0</td>\n",
              "      <td>0.0</td>\n",
              "      <td>0.0</td>\n",
              "      <td>0.0</td>\n",
              "      <td>0.0</td>\n",
              "      <td>0.0</td>\n",
              "      <td>0.0</td>\n",
              "      <td>0.0</td>\n",
              "      <td>0.0</td>\n",
              "      <td>0.0</td>\n",
              "      <td>0.0</td>\n",
              "      <td>0.0</td>\n",
              "      <td>0.0</td>\n",
              "      <td>0.0</td>\n",
              "      <td>0.0</td>\n",
              "      <td>0.0</td>\n",
              "      <td>0.0</td>\n",
              "      <td>0.0</td>\n",
              "      <td>0.0</td>\n",
              "      <td>0.0</td>\n",
              "      <td>0.0</td>\n",
              "      <td>0.0</td>\n",
              "      <td>0.0</td>\n",
              "      <td>0.0</td>\n",
              "      <td>0.0</td>\n",
              "      <td>0.0</td>\n",
              "      <td>0.0</td>\n",
              "      <td>0.0</td>\n",
              "      <td>0.0</td>\n",
              "      <td>0.0</td>\n",
              "      <td>0.0</td>\n",
              "      <td>0.0</td>\n",
              "      <td>0.0</td>\n",
              "    </tr>\n",
              "    <tr>\n",
              "      <th>3</th>\n",
              "      <td>1.000000</td>\n",
              "      <td>0.910417</td>\n",
              "      <td>0.681250</td>\n",
              "      <td>0.472917</td>\n",
              "      <td>0.229167</td>\n",
              "      <td>0.068750</td>\n",
              "      <td>0.000000</td>\n",
              "      <td>0.004167</td>\n",
              "      <td>0.014583</td>\n",
              "      <td>0.054167</td>\n",
              "      <td>0.102083</td>\n",
              "      <td>0.122917</td>\n",
              "      <td>0.150000</td>\n",
              "      <td>0.168750</td>\n",
              "      <td>0.172917</td>\n",
              "      <td>0.170833</td>\n",
              "      <td>0.168750</td>\n",
              "      <td>0.164583</td>\n",
              "      <td>0.156250</td>\n",
              "      <td>0.152083</td>\n",
              "      <td>0.147917</td>\n",
              "      <td>0.147917</td>\n",
              "      <td>0.145833</td>\n",
              "      <td>0.145833</td>\n",
              "      <td>0.141667</td>\n",
              "      <td>0.141667</td>\n",
              "      <td>0.147917</td>\n",
              "      <td>0.158333</td>\n",
              "      <td>0.168750</td>\n",
              "      <td>0.179167</td>\n",
              "      <td>0.191667</td>\n",
              "      <td>0.206250</td>\n",
              "      <td>0.220833</td>\n",
              "      <td>0.239583</td>\n",
              "      <td>0.258333</td>\n",
              "      <td>0.275000</td>\n",
              "      <td>0.287500</td>\n",
              "      <td>0.308333</td>\n",
              "      <td>0.320833</td>\n",
              "      <td>0.331250</td>\n",
              "      <td>...</td>\n",
              "      <td>0.0</td>\n",
              "      <td>0.0</td>\n",
              "      <td>0.0</td>\n",
              "      <td>0.0</td>\n",
              "      <td>0.0</td>\n",
              "      <td>0.0</td>\n",
              "      <td>0.0</td>\n",
              "      <td>0.0</td>\n",
              "      <td>0.0</td>\n",
              "      <td>0.0</td>\n",
              "      <td>0.0</td>\n",
              "      <td>0.0</td>\n",
              "      <td>0.0</td>\n",
              "      <td>0.0</td>\n",
              "      <td>0.0</td>\n",
              "      <td>0.0</td>\n",
              "      <td>0.0</td>\n",
              "      <td>0.0</td>\n",
              "      <td>0.0</td>\n",
              "      <td>0.0</td>\n",
              "      <td>0.0</td>\n",
              "      <td>0.0</td>\n",
              "      <td>0.0</td>\n",
              "      <td>0.0</td>\n",
              "      <td>0.0</td>\n",
              "      <td>0.0</td>\n",
              "      <td>0.0</td>\n",
              "      <td>0.0</td>\n",
              "      <td>0.0</td>\n",
              "      <td>0.0</td>\n",
              "      <td>0.0</td>\n",
              "      <td>0.0</td>\n",
              "      <td>0.0</td>\n",
              "      <td>0.0</td>\n",
              "      <td>0.0</td>\n",
              "      <td>0.0</td>\n",
              "      <td>0.0</td>\n",
              "      <td>0.0</td>\n",
              "      <td>0.0</td>\n",
              "      <td>0.0</td>\n",
              "    </tr>\n",
              "    <tr>\n",
              "      <th>4</th>\n",
              "      <td>0.570470</td>\n",
              "      <td>0.399329</td>\n",
              "      <td>0.238255</td>\n",
              "      <td>0.147651</td>\n",
              "      <td>0.000000</td>\n",
              "      <td>0.003356</td>\n",
              "      <td>0.040268</td>\n",
              "      <td>0.080537</td>\n",
              "      <td>0.070470</td>\n",
              "      <td>0.090604</td>\n",
              "      <td>0.080537</td>\n",
              "      <td>0.104027</td>\n",
              "      <td>0.093960</td>\n",
              "      <td>0.117450</td>\n",
              "      <td>0.097315</td>\n",
              "      <td>0.134228</td>\n",
              "      <td>0.124161</td>\n",
              "      <td>0.161074</td>\n",
              "      <td>0.171141</td>\n",
              "      <td>0.194631</td>\n",
              "      <td>0.204698</td>\n",
              "      <td>0.261745</td>\n",
              "      <td>0.275168</td>\n",
              "      <td>0.332215</td>\n",
              "      <td>0.345638</td>\n",
              "      <td>0.395973</td>\n",
              "      <td>0.406040</td>\n",
              "      <td>0.456376</td>\n",
              "      <td>0.446309</td>\n",
              "      <td>0.446309</td>\n",
              "      <td>0.399329</td>\n",
              "      <td>0.369128</td>\n",
              "      <td>0.308725</td>\n",
              "      <td>0.295302</td>\n",
              "      <td>0.265101</td>\n",
              "      <td>0.271812</td>\n",
              "      <td>0.258389</td>\n",
              "      <td>0.268456</td>\n",
              "      <td>0.261745</td>\n",
              "      <td>0.281879</td>\n",
              "      <td>...</td>\n",
              "      <td>0.0</td>\n",
              "      <td>0.0</td>\n",
              "      <td>0.0</td>\n",
              "      <td>0.0</td>\n",
              "      <td>0.0</td>\n",
              "      <td>0.0</td>\n",
              "      <td>0.0</td>\n",
              "      <td>0.0</td>\n",
              "      <td>0.0</td>\n",
              "      <td>0.0</td>\n",
              "      <td>0.0</td>\n",
              "      <td>0.0</td>\n",
              "      <td>0.0</td>\n",
              "      <td>0.0</td>\n",
              "      <td>0.0</td>\n",
              "      <td>0.0</td>\n",
              "      <td>0.0</td>\n",
              "      <td>0.0</td>\n",
              "      <td>0.0</td>\n",
              "      <td>0.0</td>\n",
              "      <td>0.0</td>\n",
              "      <td>0.0</td>\n",
              "      <td>0.0</td>\n",
              "      <td>0.0</td>\n",
              "      <td>0.0</td>\n",
              "      <td>0.0</td>\n",
              "      <td>0.0</td>\n",
              "      <td>0.0</td>\n",
              "      <td>0.0</td>\n",
              "      <td>0.0</td>\n",
              "      <td>0.0</td>\n",
              "      <td>0.0</td>\n",
              "      <td>0.0</td>\n",
              "      <td>0.0</td>\n",
              "      <td>0.0</td>\n",
              "      <td>0.0</td>\n",
              "      <td>0.0</td>\n",
              "      <td>0.0</td>\n",
              "      <td>0.0</td>\n",
              "      <td>0.0</td>\n",
              "    </tr>\n",
              "  </tbody>\n",
              "</table>\n",
              "<p>5 rows × 188 columns</p>\n",
              "</div>\n",
              "      <button class=\"colab-df-convert\" onclick=\"convertToInteractive('df-66019383-01c9-4c17-ad3f-039de7f6f1ce')\"\n",
              "              title=\"Convert this dataframe to an interactive table.\"\n",
              "              style=\"display:none;\">\n",
              "        \n",
              "  <svg xmlns=\"http://www.w3.org/2000/svg\" height=\"24px\"viewBox=\"0 0 24 24\"\n",
              "       width=\"24px\">\n",
              "    <path d=\"M0 0h24v24H0V0z\" fill=\"none\"/>\n",
              "    <path d=\"M18.56 5.44l.94 2.06.94-2.06 2.06-.94-2.06-.94-.94-2.06-.94 2.06-2.06.94zm-11 1L8.5 8.5l.94-2.06 2.06-.94-2.06-.94L8.5 2.5l-.94 2.06-2.06.94zm10 10l.94 2.06.94-2.06 2.06-.94-2.06-.94-.94-2.06-.94 2.06-2.06.94z\"/><path d=\"M17.41 7.96l-1.37-1.37c-.4-.4-.92-.59-1.43-.59-.52 0-1.04.2-1.43.59L10.3 9.45l-7.72 7.72c-.78.78-.78 2.05 0 2.83L4 21.41c.39.39.9.59 1.41.59.51 0 1.02-.2 1.41-.59l7.78-7.78 2.81-2.81c.8-.78.8-2.07 0-2.86zM5.41 20L4 18.59l7.72-7.72 1.47 1.35L5.41 20z\"/>\n",
              "  </svg>\n",
              "      </button>\n",
              "      \n",
              "  <style>\n",
              "    .colab-df-container {\n",
              "      display:flex;\n",
              "      flex-wrap:wrap;\n",
              "      gap: 12px;\n",
              "    }\n",
              "\n",
              "    .colab-df-convert {\n",
              "      background-color: #E8F0FE;\n",
              "      border: none;\n",
              "      border-radius: 50%;\n",
              "      cursor: pointer;\n",
              "      display: none;\n",
              "      fill: #1967D2;\n",
              "      height: 32px;\n",
              "      padding: 0 0 0 0;\n",
              "      width: 32px;\n",
              "    }\n",
              "\n",
              "    .colab-df-convert:hover {\n",
              "      background-color: #E2EBFA;\n",
              "      box-shadow: 0px 1px 2px rgba(60, 64, 67, 0.3), 0px 1px 3px 1px rgba(60, 64, 67, 0.15);\n",
              "      fill: #174EA6;\n",
              "    }\n",
              "\n",
              "    [theme=dark] .colab-df-convert {\n",
              "      background-color: #3B4455;\n",
              "      fill: #D2E3FC;\n",
              "    }\n",
              "\n",
              "    [theme=dark] .colab-df-convert:hover {\n",
              "      background-color: #434B5C;\n",
              "      box-shadow: 0px 1px 3px 1px rgba(0, 0, 0, 0.15);\n",
              "      filter: drop-shadow(0px 1px 2px rgba(0, 0, 0, 0.3));\n",
              "      fill: #FFFFFF;\n",
              "    }\n",
              "  </style>\n",
              "\n",
              "      <script>\n",
              "        const buttonEl =\n",
              "          document.querySelector('#df-66019383-01c9-4c17-ad3f-039de7f6f1ce button.colab-df-convert');\n",
              "        buttonEl.style.display =\n",
              "          google.colab.kernel.accessAllowed ? 'block' : 'none';\n",
              "\n",
              "        async function convertToInteractive(key) {\n",
              "          const element = document.querySelector('#df-66019383-01c9-4c17-ad3f-039de7f6f1ce');\n",
              "          const dataTable =\n",
              "            await google.colab.kernel.invokeFunction('convertToInteractive',\n",
              "                                                     [key], {});\n",
              "          if (!dataTable) return;\n",
              "\n",
              "          const docLinkHtml = 'Like what you see? Visit the ' +\n",
              "            '<a target=\"_blank\" href=https://colab.research.google.com/notebooks/data_table.ipynb>data table notebook</a>'\n",
              "            + ' to learn more about interactive tables.';\n",
              "          element.innerHTML = '';\n",
              "          dataTable['output_type'] = 'display_data';\n",
              "          await google.colab.output.renderOutput(dataTable, element);\n",
              "          const docLink = document.createElement('div');\n",
              "          docLink.innerHTML = docLinkHtml;\n",
              "          element.appendChild(docLink);\n",
              "        }\n",
              "      </script>\n",
              "    </div>\n",
              "  </div>\n",
              "  "
            ],
            "text/plain": [
              "        0         1         2         3         4    ...  183  184  185  186  187\n",
              "0  1.000000  0.758264  0.111570  0.000000  0.080579  ...  0.0  0.0  0.0  0.0  0.0\n",
              "1  0.908425  0.783883  0.531136  0.362637  0.366300  ...  0.0  0.0  0.0  0.0  0.0\n",
              "2  0.730088  0.212389  0.000000  0.119469  0.101770  ...  0.0  0.0  0.0  0.0  0.0\n",
              "3  1.000000  0.910417  0.681250  0.472917  0.229167  ...  0.0  0.0  0.0  0.0  0.0\n",
              "4  0.570470  0.399329  0.238255  0.147651  0.000000  ...  0.0  0.0  0.0  0.0  0.0\n",
              "\n",
              "[5 rows x 188 columns]"
            ]
          },
          "metadata": {},
          "execution_count": 20
        }
      ]
    },
    {
      "cell_type": "code",
      "source": [
        "len(train_df)"
      ],
      "metadata": {
        "colab": {
          "base_uri": "https://localhost:8080/"
        },
        "id": "YmJy4I2XrJEr",
        "outputId": "4c2d042c-0520-44fa-e5ae-0bdac9e42b49"
      },
      "execution_count": 21,
      "outputs": [
        {
          "output_type": "execute_result",
          "data": {
            "text/plain": [
              "87554"
            ]
          },
          "metadata": {},
          "execution_count": 21
        }
      ]
    },
    {
      "cell_type": "code",
      "source": [
        "def plot_class_balance(train_df, title):\n",
        "  train_df[187] = train_df[187].astype(int)\n",
        "  class_count = train_df[187].value_counts()\n",
        "  colors = {\"Normal\":'red', \"Paced\":'green', \"Premature ventricular contraction\":\"blue\", \"Atrial premature\":\"skyblue\", \"Fusion of ventricular and normal\": \"orange\"} \n",
        "  labels = [\"Normal\", \"Paced\", \"Premature ventricular contraction\", \"Atrial premature\", \"Fusion of ventricular and normal\"]\n",
        "\n",
        "  sns.set_palette(sns.color_palette(colors.values()))\n",
        "\n",
        "  fig, ax = plt.subplots(figsize=(14,8))\n",
        "  sns.barplot(y = class_count, x=['N (0)','Q (4)','V (2)','S (1)','F (3)'])\n",
        "\n",
        "  for p in ax.patches:\n",
        "    h, w, x = p.get_height(), p.get_width(), p.get_x()\n",
        "    xy = (x + w / 2., h / 2)\n",
        "    text = f'{h:0.2f}'\n",
        "    ax.annotate(s=h, xy=xy, ha='center', weight='bold')\n",
        "\n",
        "  handles = [plt.Rectangle((0,0),1,1, color=colors[label]) for label in labels]\n",
        "  plt.legend(handles, labels)\n",
        "  plt.xlabel(\"Classes\", fontsize=12)\n",
        "  plt.ylabel(\"Number of examples in each class\", fontsize=12)\n",
        "  plt.title(title, fontsize=14)"
      ],
      "metadata": {
        "id": "dDLZbtUSj67g"
      },
      "execution_count": 29,
      "outputs": []
    },
    {
      "cell_type": "code",
      "source": [
        "plot_class_balance(train_df, \"Class balance before Resampling\")"
      ],
      "metadata": {
        "colab": {
          "base_uri": "https://localhost:8080/",
          "height": 517
        },
        "id": "vkkvBGc0kUaf",
        "outputId": "2c065186-43d6-48cd-baaf-84ea2f99d817"
      },
      "execution_count": 30,
      "outputs": [
        {
          "output_type": "display_data",
          "data": {
            "image/png": "[encoded data removed]",
            "text/plain": [
              "<Figure size 1008x576 with 1 Axes>"
            ]
          },
          "metadata": {
            "needs_background": "light"
          }
        }
      ]
    },
    {
      "cell_type": "code",
      "source": [
        "df_1 = train_df[train_df[187]==1]\n",
        "df_2 = train_df[train_df[187]==2]\n",
        "df_3 = train_df[train_df[187]==3]\n",
        "df_4 = train_df[train_df[187]==4]\n",
        "df_0 = (train_df[train_df[187]==0]).sample(n=20000,random_state=42)\n",
        "\n",
        "df_1_upsample = resample(df_1,replace=True,n_samples=20000,random_state=123)\n",
        "df_2_upsample = resample(df_2,replace=True,n_samples=20000,random_state=124)\n",
        "df_3_upsample = resample(df_3,replace=True,n_samples=20000,random_state=125)\n",
        "df_4_upsample = resample(df_4,replace=True,n_samples=20000,random_state=126)\n",
        "\n",
        "train_df = pd.concat([df_0,df_1_upsample,df_2_upsample,df_3_upsample,df_4_upsample])"
      ],
      "metadata": {
        "id": "V87ABa_nbBYN"
      },
      "execution_count": 31,
      "outputs": []
    },
    {
      "cell_type": "code",
      "source": [
        "plot_class_balance(train_df, \"Class balance after Resampling\")"
      ],
      "metadata": {
        "colab": {
          "base_uri": "https://localhost:8080/",
          "height": 517
        },
        "id": "i-EVz_Ywjps3",
        "outputId": "0e262d16-8a6d-4837-bcd4-e2c331c7f16b"
      },
      "execution_count": 32,
      "outputs": [
        {
          "output_type": "display_data",
          "data": {
            "image/png": "[encoded data removed]",
            "text/plain": [
              "<Figure size 1008x576 with 1 Axes>"
            ]
          },
          "metadata": {
            "needs_background": "light"
          }
        }
      ]
    },
    {
      "cell_type": "code",
      "source": [
        "c = train_df.groupby(187,group_keys=False).apply(lambda train_df : train_df.sample(1))\n",
        "c.head()"
      ],
      "metadata": {
        "colab": {
          "base_uri": "https://localhost:8080/",
          "height": 300
        },
        "id": "Q-1nxUsHqYgf",
        "outputId": "c42e3991-50b6-41df-9cac-7548037309bf"
      },
      "execution_count": 33,
      "outputs": [
        {
          "output_type": "execute_result",
          "data": {
            "text/html": [
              "\n",
              "  <div id=\"df-aa199c56-b225-48cb-ada9-c82c0fc14c3c\">\n",
              "    <div class=\"colab-df-container\">\n",
              "      <div>\n",
              "<style scoped>\n",
              "    .dataframe tbody tr th:only-of-type {\n",
              "        vertical-align: middle;\n",
              "    }\n",
              "\n",
              "    .dataframe tbody tr th {\n",
              "        vertical-align: top;\n",
              "    }\n",
              "\n",
              "    .dataframe thead th {\n",
              "        text-align: right;\n",
              "    }\n",
              "</style>\n",
              "<table border=\"1\" class=\"dataframe\">\n",
              "  <thead>\n",
              "    <tr style=\"text-align: right;\">\n",
              "      <th></th>\n",
              "      <th>0</th>\n",
              "      <th>1</th>\n",
              "      <th>2</th>\n",
              "      <th>3</th>\n",
              "      <th>4</th>\n",
              "      <th>5</th>\n",
              "      <th>6</th>\n",
              "      <th>7</th>\n",
              "      <th>8</th>\n",
              "      <th>9</th>\n",
              "      <th>10</th>\n",
              "      <th>11</th>\n",
              "      <th>12</th>\n",
              "      <th>13</th>\n",
              "      <th>14</th>\n",
              "      <th>15</th>\n",
              "      <th>16</th>\n",
              "      <th>17</th>\n",
              "      <th>18</th>\n",
              "      <th>19</th>\n",
              "      <th>20</th>\n",
              "      <th>21</th>\n",
              "      <th>22</th>\n",
              "      <th>23</th>\n",
              "      <th>24</th>\n",
              "      <th>25</th>\n",
              "      <th>26</th>\n",
              "      <th>27</th>\n",
              "      <th>28</th>\n",
              "      <th>29</th>\n",
              "      <th>30</th>\n",
              "      <th>31</th>\n",
              "      <th>32</th>\n",
              "      <th>33</th>\n",
              "      <th>34</th>\n",
              "      <th>35</th>\n",
              "      <th>36</th>\n",
              "      <th>37</th>\n",
              "      <th>38</th>\n",
              "      <th>39</th>\n",
              "      <th>...</th>\n",
              "      <th>148</th>\n",
              "      <th>149</th>\n",
              "      <th>150</th>\n",
              "      <th>151</th>\n",
              "      <th>152</th>\n",
              "      <th>153</th>\n",
              "      <th>154</th>\n",
              "      <th>155</th>\n",
              "      <th>156</th>\n",
              "      <th>157</th>\n",
              "      <th>158</th>\n",
              "      <th>159</th>\n",
              "      <th>160</th>\n",
              "      <th>161</th>\n",
              "      <th>162</th>\n",
              "      <th>163</th>\n",
              "      <th>164</th>\n",
              "      <th>165</th>\n",
              "      <th>166</th>\n",
              "      <th>167</th>\n",
              "      <th>168</th>\n",
              "      <th>169</th>\n",
              "      <th>170</th>\n",
              "      <th>171</th>\n",
              "      <th>172</th>\n",
              "      <th>173</th>\n",
              "      <th>174</th>\n",
              "      <th>175</th>\n",
              "      <th>176</th>\n",
              "      <th>177</th>\n",
              "      <th>178</th>\n",
              "      <th>179</th>\n",
              "      <th>180</th>\n",
              "      <th>181</th>\n",
              "      <th>182</th>\n",
              "      <th>183</th>\n",
              "      <th>184</th>\n",
              "      <th>185</th>\n",
              "      <th>186</th>\n",
              "      <th>187</th>\n",
              "    </tr>\n",
              "  </thead>\n",
              "  <tbody>\n",
              "    <tr>\n",
              "      <th>49351</th>\n",
              "      <td>0.981443</td>\n",
              "      <td>0.898969</td>\n",
              "      <td>0.360825</td>\n",
              "      <td>0.000000</td>\n",
              "      <td>0.142268</td>\n",
              "      <td>0.169072</td>\n",
              "      <td>0.187629</td>\n",
              "      <td>0.187629</td>\n",
              "      <td>0.200000</td>\n",
              "      <td>0.195876</td>\n",
              "      <td>0.200000</td>\n",
              "      <td>0.206186</td>\n",
              "      <td>0.204124</td>\n",
              "      <td>0.206186</td>\n",
              "      <td>0.200000</td>\n",
              "      <td>0.218557</td>\n",
              "      <td>0.216495</td>\n",
              "      <td>0.230928</td>\n",
              "      <td>0.228866</td>\n",
              "      <td>0.253608</td>\n",
              "      <td>0.243299</td>\n",
              "      <td>0.255670</td>\n",
              "      <td>0.261856</td>\n",
              "      <td>0.284536</td>\n",
              "      <td>0.286598</td>\n",
              "      <td>0.325773</td>\n",
              "      <td>0.338144</td>\n",
              "      <td>0.377320</td>\n",
              "      <td>0.410309</td>\n",
              "      <td>0.435052</td>\n",
              "      <td>0.465979</td>\n",
              "      <td>0.513402</td>\n",
              "      <td>0.521649</td>\n",
              "      <td>0.554639</td>\n",
              "      <td>0.550515</td>\n",
              "      <td>0.556701</td>\n",
              "      <td>0.536082</td>\n",
              "      <td>0.529897</td>\n",
              "      <td>0.490722</td>\n",
              "      <td>0.451546</td>\n",
              "      <td>...</td>\n",
              "      <td>0.000000</td>\n",
              "      <td>0.000000</td>\n",
              "      <td>0.000000</td>\n",
              "      <td>0.000000</td>\n",
              "      <td>0.000000</td>\n",
              "      <td>0.000000</td>\n",
              "      <td>0.000000</td>\n",
              "      <td>0.0</td>\n",
              "      <td>0.0</td>\n",
              "      <td>0.0</td>\n",
              "      <td>0.0</td>\n",
              "      <td>0.0</td>\n",
              "      <td>0.0</td>\n",
              "      <td>0.0</td>\n",
              "      <td>0.0</td>\n",
              "      <td>0.0</td>\n",
              "      <td>0.0</td>\n",
              "      <td>0.0</td>\n",
              "      <td>0.0</td>\n",
              "      <td>0.0</td>\n",
              "      <td>0.0</td>\n",
              "      <td>0.0</td>\n",
              "      <td>0.0</td>\n",
              "      <td>0.0</td>\n",
              "      <td>0.0</td>\n",
              "      <td>0.0</td>\n",
              "      <td>0.0</td>\n",
              "      <td>0.0</td>\n",
              "      <td>0.0</td>\n",
              "      <td>0.0</td>\n",
              "      <td>0.0</td>\n",
              "      <td>0.0</td>\n",
              "      <td>0.0</td>\n",
              "      <td>0.0</td>\n",
              "      <td>0.0</td>\n",
              "      <td>0.0</td>\n",
              "      <td>0.0</td>\n",
              "      <td>0.0</td>\n",
              "      <td>0.0</td>\n",
              "      <td>0</td>\n",
              "    </tr>\n",
              "    <tr>\n",
              "      <th>74202</th>\n",
              "      <td>0.960784</td>\n",
              "      <td>0.830065</td>\n",
              "      <td>0.205882</td>\n",
              "      <td>0.000000</td>\n",
              "      <td>0.241830</td>\n",
              "      <td>0.274510</td>\n",
              "      <td>0.290850</td>\n",
              "      <td>0.307190</td>\n",
              "      <td>0.295752</td>\n",
              "      <td>0.295752</td>\n",
              "      <td>0.303922</td>\n",
              "      <td>0.299020</td>\n",
              "      <td>0.295752</td>\n",
              "      <td>0.299020</td>\n",
              "      <td>0.303922</td>\n",
              "      <td>0.308824</td>\n",
              "      <td>0.300654</td>\n",
              "      <td>0.310458</td>\n",
              "      <td>0.323529</td>\n",
              "      <td>0.318627</td>\n",
              "      <td>0.325163</td>\n",
              "      <td>0.333333</td>\n",
              "      <td>0.339869</td>\n",
              "      <td>0.343137</td>\n",
              "      <td>0.339869</td>\n",
              "      <td>0.349673</td>\n",
              "      <td>0.359477</td>\n",
              "      <td>0.357843</td>\n",
              "      <td>0.352941</td>\n",
              "      <td>0.361111</td>\n",
              "      <td>0.367647</td>\n",
              "      <td>0.362745</td>\n",
              "      <td>0.364379</td>\n",
              "      <td>0.367647</td>\n",
              "      <td>0.385621</td>\n",
              "      <td>0.395425</td>\n",
              "      <td>0.388889</td>\n",
              "      <td>0.379085</td>\n",
              "      <td>0.372549</td>\n",
              "      <td>0.351307</td>\n",
              "      <td>...</td>\n",
              "      <td>0.000000</td>\n",
              "      <td>0.000000</td>\n",
              "      <td>0.000000</td>\n",
              "      <td>0.000000</td>\n",
              "      <td>0.000000</td>\n",
              "      <td>0.000000</td>\n",
              "      <td>0.000000</td>\n",
              "      <td>0.0</td>\n",
              "      <td>0.0</td>\n",
              "      <td>0.0</td>\n",
              "      <td>0.0</td>\n",
              "      <td>0.0</td>\n",
              "      <td>0.0</td>\n",
              "      <td>0.0</td>\n",
              "      <td>0.0</td>\n",
              "      <td>0.0</td>\n",
              "      <td>0.0</td>\n",
              "      <td>0.0</td>\n",
              "      <td>0.0</td>\n",
              "      <td>0.0</td>\n",
              "      <td>0.0</td>\n",
              "      <td>0.0</td>\n",
              "      <td>0.0</td>\n",
              "      <td>0.0</td>\n",
              "      <td>0.0</td>\n",
              "      <td>0.0</td>\n",
              "      <td>0.0</td>\n",
              "      <td>0.0</td>\n",
              "      <td>0.0</td>\n",
              "      <td>0.0</td>\n",
              "      <td>0.0</td>\n",
              "      <td>0.0</td>\n",
              "      <td>0.0</td>\n",
              "      <td>0.0</td>\n",
              "      <td>0.0</td>\n",
              "      <td>0.0</td>\n",
              "      <td>0.0</td>\n",
              "      <td>0.0</td>\n",
              "      <td>0.0</td>\n",
              "      <td>1</td>\n",
              "    </tr>\n",
              "    <tr>\n",
              "      <th>76207</th>\n",
              "      <td>1.000000</td>\n",
              "      <td>0.961818</td>\n",
              "      <td>0.749091</td>\n",
              "      <td>0.490909</td>\n",
              "      <td>0.327273</td>\n",
              "      <td>0.212727</td>\n",
              "      <td>0.167273</td>\n",
              "      <td>0.118182</td>\n",
              "      <td>0.116364</td>\n",
              "      <td>0.118182</td>\n",
              "      <td>0.100000</td>\n",
              "      <td>0.072727</td>\n",
              "      <td>0.080000</td>\n",
              "      <td>0.061818</td>\n",
              "      <td>0.032727</td>\n",
              "      <td>0.014545</td>\n",
              "      <td>0.021818</td>\n",
              "      <td>0.012727</td>\n",
              "      <td>0.021818</td>\n",
              "      <td>0.027273</td>\n",
              "      <td>0.025455</td>\n",
              "      <td>0.000000</td>\n",
              "      <td>0.021818</td>\n",
              "      <td>0.012727</td>\n",
              "      <td>0.005455</td>\n",
              "      <td>0.021818</td>\n",
              "      <td>0.032727</td>\n",
              "      <td>0.030909</td>\n",
              "      <td>0.038182</td>\n",
              "      <td>0.034545</td>\n",
              "      <td>0.050909</td>\n",
              "      <td>0.080000</td>\n",
              "      <td>0.096364</td>\n",
              "      <td>0.100000</td>\n",
              "      <td>0.121818</td>\n",
              "      <td>0.149091</td>\n",
              "      <td>0.149091</td>\n",
              "      <td>0.163636</td>\n",
              "      <td>0.180000</td>\n",
              "      <td>0.190909</td>\n",
              "      <td>...</td>\n",
              "      <td>0.292727</td>\n",
              "      <td>0.283636</td>\n",
              "      <td>0.312727</td>\n",
              "      <td>0.303636</td>\n",
              "      <td>0.303636</td>\n",
              "      <td>0.325455</td>\n",
              "      <td>0.341818</td>\n",
              "      <td>0.0</td>\n",
              "      <td>0.0</td>\n",
              "      <td>0.0</td>\n",
              "      <td>0.0</td>\n",
              "      <td>0.0</td>\n",
              "      <td>0.0</td>\n",
              "      <td>0.0</td>\n",
              "      <td>0.0</td>\n",
              "      <td>0.0</td>\n",
              "      <td>0.0</td>\n",
              "      <td>0.0</td>\n",
              "      <td>0.0</td>\n",
              "      <td>0.0</td>\n",
              "      <td>0.0</td>\n",
              "      <td>0.0</td>\n",
              "      <td>0.0</td>\n",
              "      <td>0.0</td>\n",
              "      <td>0.0</td>\n",
              "      <td>0.0</td>\n",
              "      <td>0.0</td>\n",
              "      <td>0.0</td>\n",
              "      <td>0.0</td>\n",
              "      <td>0.0</td>\n",
              "      <td>0.0</td>\n",
              "      <td>0.0</td>\n",
              "      <td>0.0</td>\n",
              "      <td>0.0</td>\n",
              "      <td>0.0</td>\n",
              "      <td>0.0</td>\n",
              "      <td>0.0</td>\n",
              "      <td>0.0</td>\n",
              "      <td>0.0</td>\n",
              "      <td>2</td>\n",
              "    </tr>\n",
              "    <tr>\n",
              "      <th>80872</th>\n",
              "      <td>1.000000</td>\n",
              "      <td>0.757009</td>\n",
              "      <td>0.412773</td>\n",
              "      <td>0.088785</td>\n",
              "      <td>0.045171</td>\n",
              "      <td>0.113707</td>\n",
              "      <td>0.087227</td>\n",
              "      <td>0.045171</td>\n",
              "      <td>0.042056</td>\n",
              "      <td>0.038941</td>\n",
              "      <td>0.031153</td>\n",
              "      <td>0.023364</td>\n",
              "      <td>0.012461</td>\n",
              "      <td>0.000000</td>\n",
              "      <td>0.010903</td>\n",
              "      <td>0.007788</td>\n",
              "      <td>0.023364</td>\n",
              "      <td>0.031153</td>\n",
              "      <td>0.042056</td>\n",
              "      <td>0.062305</td>\n",
              "      <td>0.082555</td>\n",
              "      <td>0.116822</td>\n",
              "      <td>0.160436</td>\n",
              "      <td>0.182243</td>\n",
              "      <td>0.218069</td>\n",
              "      <td>0.263240</td>\n",
              "      <td>0.300623</td>\n",
              "      <td>0.333333</td>\n",
              "      <td>0.350467</td>\n",
              "      <td>0.370717</td>\n",
              "      <td>0.392523</td>\n",
              "      <td>0.384735</td>\n",
              "      <td>0.392523</td>\n",
              "      <td>0.395639</td>\n",
              "      <td>0.378505</td>\n",
              "      <td>0.366044</td>\n",
              "      <td>0.348910</td>\n",
              "      <td>0.328660</td>\n",
              "      <td>0.320872</td>\n",
              "      <td>0.289720</td>\n",
              "      <td>...</td>\n",
              "      <td>0.000000</td>\n",
              "      <td>0.000000</td>\n",
              "      <td>0.000000</td>\n",
              "      <td>0.000000</td>\n",
              "      <td>0.000000</td>\n",
              "      <td>0.000000</td>\n",
              "      <td>0.000000</td>\n",
              "      <td>0.0</td>\n",
              "      <td>0.0</td>\n",
              "      <td>0.0</td>\n",
              "      <td>0.0</td>\n",
              "      <td>0.0</td>\n",
              "      <td>0.0</td>\n",
              "      <td>0.0</td>\n",
              "      <td>0.0</td>\n",
              "      <td>0.0</td>\n",
              "      <td>0.0</td>\n",
              "      <td>0.0</td>\n",
              "      <td>0.0</td>\n",
              "      <td>0.0</td>\n",
              "      <td>0.0</td>\n",
              "      <td>0.0</td>\n",
              "      <td>0.0</td>\n",
              "      <td>0.0</td>\n",
              "      <td>0.0</td>\n",
              "      <td>0.0</td>\n",
              "      <td>0.0</td>\n",
              "      <td>0.0</td>\n",
              "      <td>0.0</td>\n",
              "      <td>0.0</td>\n",
              "      <td>0.0</td>\n",
              "      <td>0.0</td>\n",
              "      <td>0.0</td>\n",
              "      <td>0.0</td>\n",
              "      <td>0.0</td>\n",
              "      <td>0.0</td>\n",
              "      <td>0.0</td>\n",
              "      <td>0.0</td>\n",
              "      <td>0.0</td>\n",
              "      <td>3</td>\n",
              "    </tr>\n",
              "    <tr>\n",
              "      <th>82369</th>\n",
              "      <td>0.673813</td>\n",
              "      <td>0.566616</td>\n",
              "      <td>0.460949</td>\n",
              "      <td>0.336907</td>\n",
              "      <td>0.203675</td>\n",
              "      <td>0.122511</td>\n",
              "      <td>0.068913</td>\n",
              "      <td>0.042879</td>\n",
              "      <td>0.058193</td>\n",
              "      <td>0.082695</td>\n",
              "      <td>0.156202</td>\n",
              "      <td>0.261868</td>\n",
              "      <td>0.310873</td>\n",
              "      <td>0.330781</td>\n",
              "      <td>0.373660</td>\n",
              "      <td>0.424196</td>\n",
              "      <td>0.473201</td>\n",
              "      <td>0.526799</td>\n",
              "      <td>0.558959</td>\n",
              "      <td>0.594181</td>\n",
              "      <td>0.612557</td>\n",
              "      <td>0.624809</td>\n",
              "      <td>0.633997</td>\n",
              "      <td>0.644717</td>\n",
              "      <td>0.650842</td>\n",
              "      <td>0.650842</td>\n",
              "      <td>0.647779</td>\n",
              "      <td>0.660031</td>\n",
              "      <td>0.675345</td>\n",
              "      <td>0.687596</td>\n",
              "      <td>0.699847</td>\n",
              "      <td>0.712098</td>\n",
              "      <td>0.730475</td>\n",
              "      <td>0.747320</td>\n",
              "      <td>0.774885</td>\n",
              "      <td>0.797856</td>\n",
              "      <td>0.817764</td>\n",
              "      <td>0.839204</td>\n",
              "      <td>0.856049</td>\n",
              "      <td>0.880551</td>\n",
              "      <td>...</td>\n",
              "      <td>0.000000</td>\n",
              "      <td>0.000000</td>\n",
              "      <td>0.000000</td>\n",
              "      <td>0.000000</td>\n",
              "      <td>0.000000</td>\n",
              "      <td>0.000000</td>\n",
              "      <td>0.000000</td>\n",
              "      <td>0.0</td>\n",
              "      <td>0.0</td>\n",
              "      <td>0.0</td>\n",
              "      <td>0.0</td>\n",
              "      <td>0.0</td>\n",
              "      <td>0.0</td>\n",
              "      <td>0.0</td>\n",
              "      <td>0.0</td>\n",
              "      <td>0.0</td>\n",
              "      <td>0.0</td>\n",
              "      <td>0.0</td>\n",
              "      <td>0.0</td>\n",
              "      <td>0.0</td>\n",
              "      <td>0.0</td>\n",
              "      <td>0.0</td>\n",
              "      <td>0.0</td>\n",
              "      <td>0.0</td>\n",
              "      <td>0.0</td>\n",
              "      <td>0.0</td>\n",
              "      <td>0.0</td>\n",
              "      <td>0.0</td>\n",
              "      <td>0.0</td>\n",
              "      <td>0.0</td>\n",
              "      <td>0.0</td>\n",
              "      <td>0.0</td>\n",
              "      <td>0.0</td>\n",
              "      <td>0.0</td>\n",
              "      <td>0.0</td>\n",
              "      <td>0.0</td>\n",
              "      <td>0.0</td>\n",
              "      <td>0.0</td>\n",
              "      <td>0.0</td>\n",
              "      <td>4</td>\n",
              "    </tr>\n",
              "  </tbody>\n",
              "</table>\n",
              "<p>5 rows × 188 columns</p>\n",
              "</div>\n",
              "      <button class=\"colab-df-convert\" onclick=\"convertToInteractive('df-aa199c56-b225-48cb-ada9-c82c0fc14c3c')\"\n",
              "              title=\"Convert this dataframe to an interactive table.\"\n",
              "              style=\"display:none;\">\n",
              "        \n",
              "  <svg xmlns=\"http://www.w3.org/2000/svg\" height=\"24px\"viewBox=\"0 0 24 24\"\n",
              "       width=\"24px\">\n",
              "    <path d=\"M0 0h24v24H0V0z\" fill=\"none\"/>\n",
              "    <path d=\"M18.56 5.44l.94 2.06.94-2.06 2.06-.94-2.06-.94-.94-2.06-.94 2.06-2.06.94zm-11 1L8.5 8.5l.94-2.06 2.06-.94-2.06-.94L8.5 2.5l-.94 2.06-2.06.94zm10 10l.94 2.06.94-2.06 2.06-.94-2.06-.94-.94-2.06-.94 2.06-2.06.94z\"/><path d=\"M17.41 7.96l-1.37-1.37c-.4-.4-.92-.59-1.43-.59-.52 0-1.04.2-1.43.59L10.3 9.45l-7.72 7.72c-.78.78-.78 2.05 0 2.83L4 21.41c.39.39.9.59 1.41.59.51 0 1.02-.2 1.41-.59l7.78-7.78 2.81-2.81c.8-.78.8-2.07 0-2.86zM5.41 20L4 18.59l7.72-7.72 1.47 1.35L5.41 20z\"/>\n",
              "  </svg>\n",
              "      </button>\n",
              "      \n",
              "  <style>\n",
              "    .colab-df-container {\n",
              "      display:flex;\n",
              "      flex-wrap:wrap;\n",
              "      gap: 12px;\n",
              "    }\n",
              "\n",
              "    .colab-df-convert {\n",
              "      background-color: #E8F0FE;\n",
              "      border: none;\n",
              "      border-radius: 50%;\n",
              "      cursor: pointer;\n",
              "      display: none;\n",
              "      fill: #1967D2;\n",
              "      height: 32px;\n",
              "      padding: 0 0 0 0;\n",
              "      width: 32px;\n",
              "    }\n",
              "\n",
              "    .colab-df-convert:hover {\n",
              "      background-color: #E2EBFA;\n",
              "      box-shadow: 0px 1px 2px rgba(60, 64, 67, 0.3), 0px 1px 3px 1px rgba(60, 64, 67, 0.15);\n",
              "      fill: #174EA6;\n",
              "    }\n",
              "\n",
              "    [theme=dark] .colab-df-convert {\n",
              "      background-color: #3B4455;\n",
              "      fill: #D2E3FC;\n",
              "    }\n",
              "\n",
              "    [theme=dark] .colab-df-convert:hover {\n",
              "      background-color: #434B5C;\n",
              "      box-shadow: 0px 1px 3px 1px rgba(0, 0, 0, 0.15);\n",
              "      filter: drop-shadow(0px 1px 2px rgba(0, 0, 0, 0.3));\n",
              "      fill: #FFFFFF;\n",
              "    }\n",
              "  </style>\n",
              "\n",
              "      <script>\n",
              "        const buttonEl =\n",
              "          document.querySelector('#df-aa199c56-b225-48cb-ada9-c82c0fc14c3c button.colab-df-convert');\n",
              "        buttonEl.style.display =\n",
              "          google.colab.kernel.accessAllowed ? 'block' : 'none';\n",
              "\n",
              "        async function convertToInteractive(key) {\n",
              "          const element = document.querySelector('#df-aa199c56-b225-48cb-ada9-c82c0fc14c3c');\n",
              "          const dataTable =\n",
              "            await google.colab.kernel.invokeFunction('convertToInteractive',\n",
              "                                                     [key], {});\n",
              "          if (!dataTable) return;\n",
              "\n",
              "          const docLinkHtml = 'Like what you see? Visit the ' +\n",
              "            '<a target=\"_blank\" href=https://colab.research.google.com/notebooks/data_table.ipynb>data table notebook</a>'\n",
              "            + ' to learn more about interactive tables.';\n",
              "          element.innerHTML = '';\n",
              "          dataTable['output_type'] = 'display_data';\n",
              "          await google.colab.output.renderOutput(dataTable, element);\n",
              "          const docLink = document.createElement('div');\n",
              "          docLink.innerHTML = docLinkHtml;\n",
              "          element.appendChild(docLink);\n",
              "        }\n",
              "      </script>\n",
              "    </div>\n",
              "  </div>\n",
              "  "
            ],
            "text/plain": [
              "            0         1         2         3    ...  184  185  186  187\n",
              "49351  0.981443  0.898969  0.360825  0.000000  ...  0.0  0.0  0.0    0\n",
              "74202  0.960784  0.830065  0.205882  0.000000  ...  0.0  0.0  0.0    1\n",
              "76207  1.000000  0.961818  0.749091  0.490909  ...  0.0  0.0  0.0    2\n",
              "80872  1.000000  0.757009  0.412773  0.088785  ...  0.0  0.0  0.0    3\n",
              "82369  0.673813  0.566616  0.460949  0.336907  ...  0.0  0.0  0.0    4\n",
              "\n",
              "[5 rows x 188 columns]"
            ]
          },
          "metadata": {},
          "execution_count": 33
        }
      ]
    },
    {
      "cell_type": "code",
      "source": [
        "plt.figure(figsize=(24,10))\n",
        "plt.suptitle(\"Visualizing diffent hearbeat classes\", fontsize=15)\n",
        "\n",
        "ax1 = plt.subplot2grid((2, 3), (0, 0))\n",
        "ax2 = plt.subplot2grid((2, 3), (0, 1))\n",
        "ax3 = plt.subplot2grid((2, 3), (0, 2))\n",
        "ax4 = plt.subplot2grid((2, 3), (1, 0))\n",
        "ax5 = plt.subplot2grid((2, 3), (1, 1))\n",
        "\n",
        "\n",
        "ax1.plot(c.iloc[0,:186])\n",
        "ax1.set_title(\"Normal Hearbeat\", fontsize=13)\n",
        "ax2.plot(c.iloc[1,:186])\n",
        "ax2.set_title(\"Atrial premature\", fontsize=13)\n",
        "ax3.plot(c.iloc[2,:186])\n",
        "ax3.set_title(\"Premature ventricular contraction\", fontsize=13)\n",
        "ax4.plot(c.iloc[3,:186])\n",
        "ax4.set_title(\"Fusion of ventricular and normal\", fontsize=13)\n",
        "ax5.plot(c.iloc[4,:186])\n",
        "ax5.set_title(\"Paced\", fontsize=13)\n"
      ],
      "metadata": {
        "colab": {
          "base_uri": "https://localhost:8080/",
          "height": 680
        },
        "id": "VnureVV97Rb4",
        "outputId": "6b8e6af7-abc9-497e-9b85-c396a6e1b7a1"
      },
      "execution_count": 34,
      "outputs": [
        {
          "output_type": "execute_result",
          "data": {
            "text/plain": [
              "Text(0.5, 1.0, 'Paced')"
            ]
          },
          "metadata": {},
          "execution_count": 34
        },
        {
          "output_type": "display_data",
          "data": {
            "image/png": "[encoded data removed]",
            "text/plain": [
              "<Figure size 1728x720 with 5 Axes>"
            ]
          },
          "metadata": {
            "needs_background": "light"
          }
        }
      ]
    },
    {
      "cell_type": "code",
      "source": [
        "def plot_hist(class_number,size,min_,bins):\n",
        "    img = train_df.loc[train_df[187]==class_number].values\n",
        "    img = img[:,min_:size]\n",
        "    img_flatten = img.flatten()\n",
        "\n",
        "    final1 = np.arange(min_,size)\n",
        "    for i in range (img.shape[0]-1):\n",
        "        tempo1 = np.arange(min_,size)\n",
        "        final1 = np.concatenate((final1, tempo1), axis=None)\n",
        "    print(len(final1))\n",
        "    print(len(img_flatten))\n",
        "    plt.hist2d(final1,img_flatten, bins=(bins,bins),cmap=plt.cm.jet)\n",
        "    plt.show()"
      ],
      "metadata": {
        "id": "sB3_dusi9OsB"
      },
      "execution_count": null,
      "outputs": []
    },
    {
      "cell_type": "code",
      "source": [
        "plot_hist(0,70,5,65)"
      ],
      "metadata": {
        "colab": {
          "base_uri": "https://localhost:8080/",
          "height": 304
        },
        "id": "H9AiykYg9c_w",
        "outputId": "e9e01119-beb9-40c1-cf2d-074d92c353c4"
      },
      "execution_count": null,
      "outputs": [
        {
          "output_type": "stream",
          "name": "stdout",
          "text": [
            "1300000\n",
            "1300000\n"
          ]
        },
        {
          "output_type": "display_data",
          "data": {
            "image/png": "[encoded data removed]",
            "text/plain": [
              "<Figure size 432x288 with 1 Axes>"
            ]
          },
          "metadata": {
            "needs_background": "light"
          }
        }
      ]
    },
    {
      "cell_type": "code",
      "source": [
        "plot_hist(1,50,5,45)"
      ],
      "metadata": {
        "colab": {
          "base_uri": "https://localhost:8080/",
          "height": 304
        },
        "id": "e2VJQD3P9kwj",
        "outputId": "6863b9dc-ac73-4582-da04-b58c75d1499b"
      },
      "execution_count": null,
      "outputs": [
        {
          "output_type": "stream",
          "name": "stdout",
          "text": [
            "900000\n",
            "900000\n"
          ]
        },
        {
          "output_type": "display_data",
          "data": {
            "image/png": "[encoded data removed]",
            "text/plain": [
              "<Figure size 432x288 with 1 Axes>"
            ]
          },
          "metadata": {
            "needs_background": "light"
          }
        }
      ]
    },
    {
      "cell_type": "code",
      "source": [
        "plot_hist(2,50,5,45)"
      ],
      "metadata": {
        "colab": {
          "base_uri": "https://localhost:8080/",
          "height": 304
        },
        "id": "CcHbSF7j9q7V",
        "outputId": "bcdb45af-4a2e-42ff-fe68-2370b2116d64"
      },
      "execution_count": null,
      "outputs": [
        {
          "output_type": "stream",
          "name": "stdout",
          "text": [
            "900000\n",
            "900000\n"
          ]
        },
        {
          "output_type": "display_data",
          "data": {
            "image/png": "[encoded data removed]",
            "text/plain": [
              "<Figure size 432x288 with 1 Axes>"
            ]
          },
          "metadata": {
            "needs_background": "light"
          }
        }
      ]
    },
    {
      "cell_type": "markdown",
      "source": [
        "### **B. Model**"
      ],
      "metadata": {
        "id": "XuvWBa7t-lzh"
      }
    },
    {
      "cell_type": "code",
      "source": [
        "def add_gaussian_noise(signal):\n",
        "    noise = np.random.normal(0,0.5,186)\n",
        "    return (signal+noise)"
      ],
      "metadata": {
        "id": "2OOiK16S-z1h"
      },
      "execution_count": 35,
      "outputs": []
    },
    {
      "cell_type": "code",
      "source": [
        "target_train = train_df[187]\n",
        "target_test = test_df[187]\n",
        "y_train = to_categorical(target_train)\n",
        "y_test = to_categorical(target_test)"
      ],
      "metadata": {
        "id": "ENRRpdtc98Hp"
      },
      "execution_count": 36,
      "outputs": []
    },
    {
      "cell_type": "code",
      "source": [
        "X_train = train_df.iloc[:,:186].values\n",
        "X_test = test_df.iloc[:,:186].values\n",
        "\n",
        "print(X_train.shape, \" \", X_test.shape)\n",
        "\n",
        "for i in range(len(X_train)):\n",
        "    X_train[i,:186]= add_gaussian_noise(X_train[i,:186])\n",
        "\n",
        "X_train = X_train.reshape(len(X_train), X_train.shape[1],1)\n",
        "X_test = X_test.reshape(len(X_test), X_test.shape[1],1)\n",
        "\n",
        "print(X_train.shape, \" \", X_test.shape)\n"
      ],
      "metadata": {
        "colab": {
          "base_uri": "https://localhost:8080/"
        },
        "id": "h6jqc_KR9__H",
        "outputId": "302e03da-cd77-40e9-9881-c43d301fd673"
      },
      "execution_count": 37,
      "outputs": [
        {
          "output_type": "stream",
          "name": "stdout",
          "text": [
            "(100000, 186)   (21892, 186)\n",
            "(100000, 186, 1)   (21892, 186, 1)\n"
          ]
        }
      ]
    },
    {
      "cell_type": "code",
      "source": [
        "print(y_train.shape, \" \", y_test.shape)"
      ],
      "metadata": {
        "colab": {
          "base_uri": "https://localhost:8080/"
        },
        "id": "0Rcn9yMMJoxe",
        "outputId": "d99697dc-dca3-4fef-8136-b7bb9f72ccf2"
      },
      "execution_count": 38,
      "outputs": [
        {
          "output_type": "stream",
          "name": "stdout",
          "text": [
            "(100000, 5)   (21892, 5)\n"
          ]
        }
      ]
    },
    {
      "cell_type": "code",
      "source": [
        "def network(X_train,y_train,X_test,y_test):\n",
        "    \n",
        "    im_shape=(X_train.shape[1],1)\n",
        "    inputs_cnn=Input(shape=(im_shape), name='inputs_cnn')\n",
        "    conv1_1=Convolution1D(64, (6), activation='relu', input_shape=im_shape)(inputs_cnn)\n",
        "    conv1_1=BatchNormalization()(conv1_1)\n",
        "    pool1=MaxPool1D(pool_size=(3), strides=(2), padding=\"same\")(conv1_1)\n",
        "    conv2_1=Convolution1D(64, (3), activation='relu', input_shape=im_shape)(pool1)\n",
        "    conv2_1=BatchNormalization()(conv2_1)\n",
        "    pool2=MaxPool1D(pool_size=(2), strides=(2), padding=\"same\")(conv2_1)\n",
        "    conv3_1=Convolution1D(64, (3), activation='relu', input_shape=im_shape)(pool2)\n",
        "    conv3_1=BatchNormalization()(conv3_1)\n",
        "    pool3=MaxPool1D(pool_size=(2), strides=(2), padding=\"same\")(conv3_1)\n",
        "    flatten=Flatten()(pool3)\n",
        "    dense_end1 = Dense(64, activation='relu')(flatten)\n",
        "    dense_end2 = Dense(32, activation='relu')(dense_end1)\n",
        "    main_output = Dense(5, activation='softmax', name='main_output')(dense_end2)\n",
        "    \n",
        "    \n",
        "    model = Model(inputs= inputs_cnn, outputs=main_output)\n",
        "    model.compile(optimizer='adam', loss='categorical_crossentropy',metrics = ['accuracy'])\n",
        "    \n",
        "    \n",
        "    callbacks = [EarlyStopping(monitor='val_accuracy', patience=8),\n",
        "             ModelCheckpoint(filepath=DATA_PATH + 'best_model.h5', monitor='val_accuracy', save_best_only=True)]\n",
        "\n",
        "    history=model.fit(X_train, y_train,epochs=40,callbacks=callbacks, batch_size=32,validation_data=(X_test,y_test))\n",
        "    model.load_weights(DATA_PATH + 'best_model.h5')\n",
        "    return(model,history)"
      ],
      "metadata": {
        "id": "z-BqfwRh_GAJ"
      },
      "execution_count": 43,
      "outputs": []
    },
    {
      "cell_type": "code",
      "source": [
        "def evaluate_model(history,X_test,y_test,model):\n",
        "    scores = model.evaluate((X_test),y_test, verbose=0)\n",
        "    print(\"Accuracy: %.2f%%\" % (scores[1]*100))\n",
        "    \n",
        "    print(history)\n",
        "    fig1, ax_acc = plt.subplots()\n",
        "    plt.plot(history.history['accuracy'])\n",
        "    plt.plot(history.history['val_accuracy'])\n",
        "    plt.xlabel('Epoch')\n",
        "    plt.ylabel('Accuracy')\n",
        "    plt.title('Model - Accuracy')\n",
        "    plt.legend(['Training', 'Validation'], loc='lower right')\n",
        "    plt.show()\n",
        "    \n",
        "    fig2, ax_loss = plt.subplots()\n",
        "    plt.xlabel('Epoch')\n",
        "    plt.ylabel('Loss')\n",
        "    plt.title('Model- Loss')\n",
        "    plt.legend(['Training', 'Validation'], loc='upper right')\n",
        "    plt.plot(history.history['loss'])\n",
        "    plt.plot(history.history['val_loss'])\n",
        "    plt.show()\n",
        "    target_names=['0','1','2','3','4']\n",
        "    \n",
        "    y_true=[]\n",
        "    for element in y_test:\n",
        "        y_true.append(np.argmax(element))\n",
        "    prediction_proba=model.predict(X_test)\n",
        "    prediction=np.argmax(prediction_proba,axis=1)\n",
        "    cnf_matrix = confusion_matrix(y_true, prediction)"
      ],
      "metadata": {
        "id": "-RQXc94Z_Qu6"
      },
      "execution_count": 40,
      "outputs": []
    },
    {
      "cell_type": "code",
      "source": [
        "model,history = network(X_train, y_train, X_test, y_test)"
      ],
      "metadata": {
        "colab": {
          "base_uri": "https://localhost:8080/"
        },
        "id": "bBq0IRHL_RbF",
        "outputId": "c55e7b8c-85f0-413d-a4f6-4acc14f6c464"
      },
      "execution_count": 44,
      "outputs": [
        {
          "output_type": "stream",
          "name": "stdout",
          "text": [
            "Epoch 1/40\n",
            "3125/3125 [==============================] - 110s 34ms/step - loss: 0.9036 - accuracy: 0.6544 - val_loss: 0.9727 - val_accuracy: 0.6633\n",
            "Epoch 2/40\n",
            "3125/3125 [==============================] - 99s 32ms/step - loss: 0.7964 - accuracy: 0.6969 - val_loss: 0.8525 - val_accuracy: 0.6696\n",
            "Epoch 3/40\n",
            "3125/3125 [==============================] - 99s 32ms/step - loss: 0.7621 - accuracy: 0.7102 - val_loss: 0.8974 - val_accuracy: 0.6951\n",
            "Epoch 4/40\n",
            "3125/3125 [==============================] - 98s 31ms/step - loss: 0.7351 - accuracy: 0.7212 - val_loss: 0.9472 - val_accuracy: 0.6304\n",
            "Epoch 5/40\n",
            "3125/3125 [==============================] - 99s 32ms/step - loss: 0.7086 - accuracy: 0.7309 - val_loss: 1.0308 - val_accuracy: 0.6075\n",
            "Epoch 6/40\n",
            "3125/3125 [==============================] - 99s 32ms/step - loss: 0.6836 - accuracy: 0.7416 - val_loss: 0.9751 - val_accuracy: 0.6039\n",
            "Epoch 7/40\n",
            "3125/3125 [==============================] - 99s 32ms/step - loss: 0.6577 - accuracy: 0.7513 - val_loss: 1.0162 - val_accuracy: 0.6310\n",
            "Epoch 8/40\n",
            "3125/3125 [==============================] - 99s 32ms/step - loss: 0.6289 - accuracy: 0.7628 - val_loss: 0.9950 - val_accuracy: 0.5502\n",
            "Epoch 9/40\n",
            "3125/3125 [==============================] - 99s 32ms/step - loss: 0.6003 - accuracy: 0.7728 - val_loss: 1.1919 - val_accuracy: 0.4747\n",
            "Epoch 10/40\n",
            "3125/3125 [==============================] - 99s 32ms/step - loss: 0.5719 - accuracy: 0.7841 - val_loss: 1.1779 - val_accuracy: 0.5223\n",
            "Epoch 11/40\n",
            "3125/3125 [==============================] - 99s 32ms/step - loss: 0.5438 - accuracy: 0.7957 - val_loss: 1.0732 - val_accuracy: 0.5145\n"
          ]
        }
      ]
    },
    {
      "cell_type": "code",
      "source": [
        "evaluate_model(history, X_test, y_test, model)\n",
        "y_pred = model.predict(X_test)"
      ],
      "metadata": {
        "colab": {
          "base_uri": "https://localhost:8080/",
          "height": 608
        },
        "id": "tnENVWHbADzq",
        "outputId": "d7fc7eaf-ed85-4f34-eca7-93f29fa84874"
      },
      "execution_count": 45,
      "outputs": [
        {
          "output_type": "stream",
          "name": "stdout",
          "text": [
            "Accuracy: 69.51%\n",
            "<keras.callbacks.History object at 0x7f3eeec87710>\n"
          ]
        },
        {
          "output_type": "display_data",
          "data": {
            "image/png": "[encoded data removed]",
            "text/plain": [
              "<Figure size 432x288 with 1 Axes>"
            ]
          },
          "metadata": {
            "needs_background": "light"
          }
        },
        {
          "output_type": "display_data",
          "data": {
            "image/png": "[encoded data removed]",
            "text/plain": [
              "<Figure size 432x288 with 1 Axes>"
            ]
          },
          "metadata": {
            "needs_background": "light"
          }
        }
      ]
    },
    {
      "cell_type": "markdown",
      "source": [
        "---\n",
        "\n",
        "### 2nd"
      ],
      "metadata": {
        "id": "VrdTJJyAKFT2"
      }
    },
    {
      "cell_type": "code",
      "source": [
        "from keras.models import Model\n",
        "from keras.layers import Input, Dense, Conv1D, MaxPooling1D, Softmax, Add, Flatten, Activation# , Dropout\n",
        "from keras import backend as K\n",
        "from tensorflow.keras.optimizers import Adam\n",
        "from keras.callbacks import LearningRateScheduler, ModelCheckpoint\n",
        "\n",
        "import math\n",
        "import tensorflow as tf"
      ],
      "metadata": {
        "id": "Ld8uKDMPKEle"
      },
      "execution_count": 56,
      "outputs": []
    },
    {
      "cell_type": "code",
      "source": [
        "n_obs, feature, depth = X_train.shape\n",
        "batch_size = 500"
      ],
      "metadata": {
        "id": "ICIX3nSKJysW"
      },
      "execution_count": 47,
      "outputs": []
    },
    {
      "cell_type": "code",
      "source": [
        "K.clear_session()\n",
        "\n",
        "inp = Input(shape=(feature, depth))\n",
        "C = Conv1D(filters=32, kernel_size=5, strides=1)(inp)\n",
        "\n",
        "C11 = Conv1D(filters=32, kernel_size=5, strides=1, padding='same')(C)\n",
        "A11 = Activation(\"relu\")(C11)\n",
        "C12 = Conv1D(filters=32, kernel_size=5, strides=1, padding='same')(A11)\n",
        "S11 = Add()([C12, C])\n",
        "A12 = Activation(\"relu\")(S11)\n",
        "M11 = MaxPooling1D(pool_size=5, strides=2)(A12)\n",
        "\n",
        "\n",
        "C21 = Conv1D(filters=32, kernel_size=5, strides=1, padding='same')(M11)\n",
        "A21 = Activation(\"relu\")(C21)\n",
        "C22 = Conv1D(filters=32, kernel_size=5, strides=1, padding='same')(A21)\n",
        "S21 = Add()([C22, M11])\n",
        "A22 = Activation(\"relu\")(S11)\n",
        "M21 = MaxPooling1D(pool_size=5, strides=2)(A22)\n",
        "\n",
        "\n",
        "C31 = Conv1D(filters=32, kernel_size=5, strides=1, padding='same')(M21)\n",
        "A31 = Activation(\"relu\")(C31)\n",
        "C32 = Conv1D(filters=32, kernel_size=5, strides=1, padding='same')(A31)\n",
        "S31 = Add()([C32, M21])\n",
        "A32 = Activation(\"relu\")(S31)\n",
        "M31 = MaxPooling1D(pool_size=5, strides=2)(A32)\n",
        "\n",
        "\n",
        "C41 = Conv1D(filters=32, kernel_size=5, strides=1, padding='same')(M31)\n",
        "A41 = Activation(\"relu\")(C41)\n",
        "C42 = Conv1D(filters=32, kernel_size=5, strides=1, padding='same')(A41)\n",
        "S41 = Add()([C42, M31])\n",
        "A42 = Activation(\"relu\")(S41)\n",
        "M41 = MaxPooling1D(pool_size=5, strides=2)(A42)\n",
        "\n",
        "\n",
        "C51 = Conv1D(filters=32, kernel_size=5, strides=1, padding='same')(M41)\n",
        "A51 = Activation(\"relu\")(C51)\n",
        "C52 = Conv1D(filters=32, kernel_size=5, strides=1, padding='same')(A51)\n",
        "S51 = Add()([C52, M41])\n",
        "A52 = Activation(\"relu\")(S51)\n",
        "M51 = MaxPooling1D(pool_size=5, strides=2)(A52)\n",
        "\n",
        "F1 = Flatten()(M51)\n",
        "\n",
        "D1 = Dense(32)(F1)\n",
        "A6 = Activation(\"relu\")(D1)\n",
        "D2 = Dense(32)(A6)\n",
        "D3 = Dense(5)(D2)\n",
        "A7 = Softmax()(D3)\n",
        "\n",
        "model = Model(inputs=inp, outputs=A7)"
      ],
      "metadata": {
        "id": "luemm8v0J2iF"
      },
      "execution_count": 48,
      "outputs": []
    },
    {
      "cell_type": "code",
      "source": [
        "model.summary()"
      ],
      "metadata": {
        "colab": {
          "base_uri": "https://localhost:8080/"
        },
        "id": "LKU52M3ZKVSn",
        "outputId": "5b9e61e7-6cfd-4358-bafd-2f88a41a6537"
      },
      "execution_count": 49,
      "outputs": [
        {
          "output_type": "stream",
          "name": "stdout",
          "text": [
            "Model: \"model\"\n",
            "__________________________________________________________________________________________________\n",
            " Layer (type)                   Output Shape         Param #     Connected to                     \n",
            "==================================================================================================\n",
            " input_1 (InputLayer)           [(None, 186, 1)]     0           []                               \n",
            "                                                                                                  \n",
            " conv1d (Conv1D)                (None, 182, 32)      192         ['input_1[0][0]']                \n",
            "                                                                                                  \n",
            " conv1d_1 (Conv1D)              (None, 182, 32)      5152        ['conv1d[0][0]']                 \n",
            "                                                                                                  \n",
            " activation (Activation)        (None, 182, 32)      0           ['conv1d_1[0][0]']               \n",
            "                                                                                                  \n",
            " conv1d_2 (Conv1D)              (None, 182, 32)      5152        ['activation[0][0]']             \n",
            "                                                                                                  \n",
            " add (Add)                      (None, 182, 32)      0           ['conv1d_2[0][0]',               \n",
            "                                                                  'conv1d[0][0]']                 \n",
            "                                                                                                  \n",
            " activation_3 (Activation)      (None, 182, 32)      0           ['add[0][0]']                    \n",
            "                                                                                                  \n",
            " max_pooling1d_1 (MaxPooling1D)  (None, 89, 32)      0           ['activation_3[0][0]']           \n",
            "                                                                                                  \n",
            " conv1d_5 (Conv1D)              (None, 89, 32)       5152        ['max_pooling1d_1[0][0]']        \n",
            "                                                                                                  \n",
            " activation_4 (Activation)      (None, 89, 32)       0           ['conv1d_5[0][0]']               \n",
            "                                                                                                  \n",
            " conv1d_6 (Conv1D)              (None, 89, 32)       5152        ['activation_4[0][0]']           \n",
            "                                                                                                  \n",
            " add_2 (Add)                    (None, 89, 32)       0           ['conv1d_6[0][0]',               \n",
            "                                                                  'max_pooling1d_1[0][0]']        \n",
            "                                                                                                  \n",
            " activation_5 (Activation)      (None, 89, 32)       0           ['add_2[0][0]']                  \n",
            "                                                                                                  \n",
            " max_pooling1d_2 (MaxPooling1D)  (None, 43, 32)      0           ['activation_5[0][0]']           \n",
            "                                                                                                  \n",
            " conv1d_7 (Conv1D)              (None, 43, 32)       5152        ['max_pooling1d_2[0][0]']        \n",
            "                                                                                                  \n",
            " activation_6 (Activation)      (None, 43, 32)       0           ['conv1d_7[0][0]']               \n",
            "                                                                                                  \n",
            " conv1d_8 (Conv1D)              (None, 43, 32)       5152        ['activation_6[0][0]']           \n",
            "                                                                                                  \n",
            " add_3 (Add)                    (None, 43, 32)       0           ['conv1d_8[0][0]',               \n",
            "                                                                  'max_pooling1d_2[0][0]']        \n",
            "                                                                                                  \n",
            " activation_7 (Activation)      (None, 43, 32)       0           ['add_3[0][0]']                  \n",
            "                                                                                                  \n",
            " max_pooling1d_3 (MaxPooling1D)  (None, 20, 32)      0           ['activation_7[0][0]']           \n",
            "                                                                                                  \n",
            " conv1d_9 (Conv1D)              (None, 20, 32)       5152        ['max_pooling1d_3[0][0]']        \n",
            "                                                                                                  \n",
            " activation_8 (Activation)      (None, 20, 32)       0           ['conv1d_9[0][0]']               \n",
            "                                                                                                  \n",
            " conv1d_10 (Conv1D)             (None, 20, 32)       5152        ['activation_8[0][0]']           \n",
            "                                                                                                  \n",
            " add_4 (Add)                    (None, 20, 32)       0           ['conv1d_10[0][0]',              \n",
            "                                                                  'max_pooling1d_3[0][0]']        \n",
            "                                                                                                  \n",
            " activation_9 (Activation)      (None, 20, 32)       0           ['add_4[0][0]']                  \n",
            "                                                                                                  \n",
            " max_pooling1d_4 (MaxPooling1D)  (None, 8, 32)       0           ['activation_9[0][0]']           \n",
            "                                                                                                  \n",
            " flatten (Flatten)              (None, 256)          0           ['max_pooling1d_4[0][0]']        \n",
            "                                                                                                  \n",
            " dense (Dense)                  (None, 32)           8224        ['flatten[0][0]']                \n",
            "                                                                                                  \n",
            " activation_10 (Activation)     (None, 32)           0           ['dense[0][0]']                  \n",
            "                                                                                                  \n",
            " dense_1 (Dense)                (None, 32)           1056        ['activation_10[0][0]']          \n",
            "                                                                                                  \n",
            " dense_2 (Dense)                (None, 5)            165         ['dense_1[0][0]']                \n",
            "                                                                                                  \n",
            " softmax (Softmax)              (None, 5)            0           ['dense_2[0][0]']                \n",
            "                                                                                                  \n",
            "==================================================================================================\n",
            "Total params: 50,853\n",
            "Trainable params: 50,853\n",
            "Non-trainable params: 0\n",
            "__________________________________________________________________________________________________\n"
          ]
        }
      ]
    },
    {
      "cell_type": "code",
      "source": [
        "def exp_decay(epoch):\n",
        "    initial_lrate = 0.001\n",
        "    k = 0.75\n",
        "    t = n_obs//(10000 * batch_size)  # every epoch we do n_obs/batch_size iteration\n",
        "    lrate = initial_lrate * math.exp(-k*t)\n",
        "    return lrate\n",
        "\n",
        "lrate = LearningRateScheduler(exp_decay)"
      ],
      "metadata": {
        "id": "-ZRmJ_q2KXwN"
      },
      "execution_count": 50,
      "outputs": []
    },
    {
      "cell_type": "code",
      "source": [
        "adam = Adam(lr = 0.001, beta_1 = 0.9, beta_2 = 0.999)"
      ],
      "metadata": {
        "id": "CXmoW7mnKhBC"
      },
      "execution_count": 51,
      "outputs": []
    },
    {
      "cell_type": "code",
      "source": [
        "callback = tf.keras.callbacks.EarlyStopping(monitor='loss', patience=4)"
      ],
      "metadata": {
        "id": "PsTkSSRht4Xg"
      },
      "execution_count": 57,
      "outputs": []
    },
    {
      "cell_type": "code",
      "source": [
        "model.compile(loss='categorical_crossentropy', optimizer=adam, metrics=['accuracy'])"
      ],
      "metadata": {
        "id": "gweur5MQKklM"
      },
      "execution_count": 52,
      "outputs": []
    },
    {
      "cell_type": "code",
      "source": [
        "history = model.fit(X_train, y_train, \n",
        "                    epochs=75, \n",
        "                    batch_size=batch_size, \n",
        "                    validation_data=(X_test, y_test), \n",
        "                    callbacks=[lrate, callback])"
      ],
      "metadata": {
        "colab": {
          "base_uri": "https://localhost:8080/"
        },
        "id": "Yf6aSNiNKlOy",
        "outputId": "7e8a1b6c-b4ef-4bbf-a54b-67654d51e9eb"
      },
      "execution_count": null,
      "outputs": [
        {
          "output_type": "stream",
          "name": "stdout",
          "text": [
            "Epoch 1/75\n",
            "200/200 [==============================] - 123s 599ms/step - loss: 1.0993 - accuracy: 0.5585 - val_loss: 1.1510 - val_accuracy: 0.4988 - lr: 0.0010\n",
            "Epoch 2/75\n",
            "200/200 [==============================] - 94s 470ms/step - loss: 0.9032 - accuracy: 0.6515 - val_loss: 0.9540 - val_accuracy: 0.6121 - lr: 0.0010\n",
            "Epoch 3/75\n",
            "200/200 [==============================] - 93s 465ms/step - loss: 0.8493 - accuracy: 0.6753 - val_loss: 0.8115 - val_accuracy: 0.6866 - lr: 0.0010\n",
            "Epoch 4/75\n",
            "200/200 [==============================] - 93s 467ms/step - loss: 0.8247 - accuracy: 0.6861 - val_loss: 0.9110 - val_accuracy: 0.6314 - lr: 0.0010\n",
            "Epoch 5/75\n",
            "200/200 [==============================] - 91s 453ms/step - loss: 0.8052 - accuracy: 0.6935 - val_loss: 0.7985 - val_accuracy: 0.7326 - lr: 0.0010\n",
            "Epoch 6/75\n",
            "200/200 [==============================] - 91s 455ms/step - loss: 0.7901 - accuracy: 0.7000 - val_loss: 0.7553 - val_accuracy: 0.7478 - lr: 0.0010\n",
            "Epoch 7/75\n",
            "200/200 [==============================] - 91s 453ms/step - loss: 0.7808 - accuracy: 0.7037 - val_loss: 0.6949 - val_accuracy: 0.7664 - lr: 0.0010\n",
            "Epoch 8/75\n",
            "200/200 [==============================] - 94s 470ms/step - loss: 0.7744 - accuracy: 0.7062 - val_loss: 0.8431 - val_accuracy: 0.7038 - lr: 0.0010\n",
            "Epoch 9/75\n",
            "200/200 [==============================] - 92s 463ms/step - loss: 0.7617 - accuracy: 0.7092 - val_loss: 0.7683 - val_accuracy: 0.7405 - lr: 0.0010\n",
            "Epoch 10/75\n",
            "200/200 [==============================] - 93s 463ms/step - loss: 0.7578 - accuracy: 0.7121 - val_loss: 0.8104 - val_accuracy: 0.7294 - lr: 0.0010\n",
            "Epoch 11/75\n",
            "200/200 [==============================] - 92s 462ms/step - loss: 0.7537 - accuracy: 0.7130 - val_loss: 0.8163 - val_accuracy: 0.7105 - lr: 0.0010\n",
            "Epoch 12/75\n",
            "200/200 [==============================] - 92s 461ms/step - loss: 0.7461 - accuracy: 0.7173 - val_loss: 0.7506 - val_accuracy: 0.7630 - lr: 0.0010\n",
            "Epoch 13/75\n",
            "200/200 [==============================] - 92s 462ms/step - loss: 0.7419 - accuracy: 0.7175 - val_loss: 0.7779 - val_accuracy: 0.7490 - lr: 0.0010\n",
            "Epoch 14/75\n",
            "200/200 [==============================] - 92s 461ms/step - loss: 0.7362 - accuracy: 0.7191 - val_loss: 0.7618 - val_accuracy: 0.7564 - lr: 0.0010\n",
            "Epoch 15/75\n",
            "200/200 [==============================] - 95s 478ms/step - loss: 0.7295 - accuracy: 0.7233 - val_loss: 0.8079 - val_accuracy: 0.7340 - lr: 0.0010\n",
            "Epoch 16/75\n",
            "200/200 [==============================] - 94s 470ms/step - loss: 0.7263 - accuracy: 0.7231 - val_loss: 0.7863 - val_accuracy: 0.7407 - lr: 0.0010\n",
            "Epoch 17/75\n",
            "200/200 [==============================] - 94s 470ms/step - loss: 0.7220 - accuracy: 0.7251 - val_loss: 0.7143 - val_accuracy: 0.7885 - lr: 0.0010\n",
            "Epoch 18/75\n",
            "200/200 [==============================] - 93s 467ms/step - loss: 0.7176 - accuracy: 0.7276 - val_loss: 0.7683 - val_accuracy: 0.7567 - lr: 0.0010\n",
            "Epoch 19/75\n",
            "200/200 [==============================] - 93s 466ms/step - loss: 0.7145 - accuracy: 0.7281 - val_loss: 0.7677 - val_accuracy: 0.7555 - lr: 0.0010\n",
            "Epoch 20/75\n",
            "200/200 [==============================] - 93s 465ms/step - loss: 0.7092 - accuracy: 0.7313 - val_loss: 0.7324 - val_accuracy: 0.7804 - lr: 0.0010\n",
            "Epoch 21/75\n",
            "200/200 [==============================] - 95s 474ms/step - loss: 0.7073 - accuracy: 0.7317 - val_loss: 0.6666 - val_accuracy: 0.7957 - lr: 0.0010\n",
            "Epoch 22/75\n",
            "200/200 [==============================] - 93s 467ms/step - loss: 0.7045 - accuracy: 0.7320 - val_loss: 0.7609 - val_accuracy: 0.7667 - lr: 0.0010\n",
            "Epoch 23/75\n",
            "200/200 [==============================] - 94s 468ms/step - loss: 0.6994 - accuracy: 0.7351 - val_loss: 0.7880 - val_accuracy: 0.7637 - lr: 0.0010\n",
            "Epoch 24/75\n",
            "200/200 [==============================] - 94s 469ms/step - loss: 0.6931 - accuracy: 0.7370 - val_loss: 0.7097 - val_accuracy: 0.7770 - lr: 0.0010\n",
            "Epoch 25/75\n",
            "200/200 [==============================] - 94s 468ms/step - loss: 0.6886 - accuracy: 0.7383 - val_loss: 0.7961 - val_accuracy: 0.7553 - lr: 0.0010\n",
            "Epoch 26/75\n",
            "200/200 [==============================] - 94s 468ms/step - loss: 0.6871 - accuracy: 0.7390 - val_loss: 0.8238 - val_accuracy: 0.7388 - lr: 0.0010\n",
            "Epoch 27/75\n",
            "200/200 [==============================] - 93s 464ms/step - loss: 0.6835 - accuracy: 0.7400 - val_loss: 0.7045 - val_accuracy: 0.7938 - lr: 0.0010\n",
            "Epoch 28/75\n",
            "200/200 [==============================] - 95s 473ms/step - loss: 0.6818 - accuracy: 0.7416 - val_loss: 0.6751 - val_accuracy: 0.8043 - lr: 0.0010\n",
            "Epoch 29/75\n",
            "200/200 [==============================] - 93s 466ms/step - loss: 0.6735 - accuracy: 0.7443 - val_loss: 0.7455 - val_accuracy: 0.7743 - lr: 0.0010\n",
            "Epoch 30/75\n",
            "200/200 [==============================] - 93s 465ms/step - loss: 0.6701 - accuracy: 0.7445 - val_loss: 0.7222 - val_accuracy: 0.7923 - lr: 0.0010\n",
            "Epoch 31/75\n",
            "200/200 [==============================] - 93s 466ms/step - loss: 0.6687 - accuracy: 0.7452 - val_loss: 0.6726 - val_accuracy: 0.7976 - lr: 0.0010\n",
            "Epoch 32/75\n",
            "200/200 [==============================] - 93s 465ms/step - loss: 0.6661 - accuracy: 0.7463 - val_loss: 0.7682 - val_accuracy: 0.7714 - lr: 0.0010\n",
            "Epoch 33/75\n",
            "200/200 [==============================] - 93s 464ms/step - loss: 0.6582 - accuracy: 0.7501 - val_loss: 0.8064 - val_accuracy: 0.7476 - lr: 0.0010\n",
            "Epoch 34/75\n",
            "200/200 [==============================] - 93s 464ms/step - loss: 0.6557 - accuracy: 0.7510 - val_loss: 0.7884 - val_accuracy: 0.7701 - lr: 0.0010\n",
            "Epoch 35/75\n",
            "200/200 [==============================] - 93s 463ms/step - loss: 0.6531 - accuracy: 0.7513 - val_loss: 0.7593 - val_accuracy: 0.7724 - lr: 0.0010\n",
            "Epoch 36/75\n",
            "200/200 [==============================] - 92s 462ms/step - loss: 0.6499 - accuracy: 0.7523 - val_loss: 0.7826 - val_accuracy: 0.7415 - lr: 0.0010\n",
            "Epoch 37/75\n",
            "200/200 [==============================] - 93s 463ms/step - loss: 0.6435 - accuracy: 0.7552 - val_loss: 0.7485 - val_accuracy: 0.7770 - lr: 0.0010\n",
            "Epoch 38/75\n",
            "200/200 [==============================] - 93s 463ms/step - loss: 0.6411 - accuracy: 0.7563 - val_loss: 0.7358 - val_accuracy: 0.7674 - lr: 0.0010\n",
            "Epoch 39/75\n",
            "200/200 [==============================] - 93s 463ms/step - loss: 0.6392 - accuracy: 0.7568 - val_loss: 0.7559 - val_accuracy: 0.7492 - lr: 0.0010\n",
            "Epoch 40/75\n",
            "200/200 [==============================] - 92s 458ms/step - loss: 0.6306 - accuracy: 0.7607 - val_loss: 0.6832 - val_accuracy: 0.7908 - lr: 0.0010\n",
            "Epoch 41/75\n",
            "200/200 [==============================] - 92s 460ms/step - loss: 0.6305 - accuracy: 0.7608 - val_loss: 0.7686 - val_accuracy: 0.7465 - lr: 0.0010\n",
            "Epoch 42/75\n",
            "200/200 [==============================] - 91s 458ms/step - loss: 0.6258 - accuracy: 0.7619 - val_loss: 0.7968 - val_accuracy: 0.7360 - lr: 0.0010\n",
            "Epoch 43/75\n",
            "200/200 [==============================] - 92s 459ms/step - loss: 0.6267 - accuracy: 0.7619 - val_loss: 0.8105 - val_accuracy: 0.7624 - lr: 0.0010\n",
            "Epoch 44/75\n",
            "200/200 [==============================] - 92s 459ms/step - loss: 0.6191 - accuracy: 0.7662 - val_loss: 0.8225 - val_accuracy: 0.7324 - lr: 0.0010\n",
            "Epoch 45/75\n",
            "200/200 [==============================] - 91s 457ms/step - loss: 0.6161 - accuracy: 0.7657 - val_loss: 0.7924 - val_accuracy: 0.7234 - lr: 0.0010\n",
            "Epoch 46/75\n",
            "200/200 [==============================] - 91s 456ms/step - loss: 0.6113 - accuracy: 0.7681 - val_loss: 0.7496 - val_accuracy: 0.7543 - lr: 0.0010\n",
            "Epoch 47/75\n",
            "200/200 [==============================] - 92s 458ms/step - loss: 0.6105 - accuracy: 0.7691 - val_loss: 0.7765 - val_accuracy: 0.7373 - lr: 0.0010\n",
            "Epoch 48/75\n",
            " 22/200 [==>...........................] - ETA: 1:17 - loss: 0.5837 - accuracy: 0.7825"
          ]
        }
      ]
    },
    {
      "cell_type": "code",
      "source": [
        "model.save(DATA_PATH + '` my_model')"
      ],
      "metadata": {
        "id": "A9Udsi4DtTzh"
      },
      "execution_count": null,
      "outputs": []
    },
    {
      "cell_type": "code",
      "source": [
        "y_pred = model.predict(X_test, batch_size=1000)"
      ],
      "metadata": {
        "id": "OGCssKFZKxc8"
      },
      "execution_count": null,
      "outputs": []
    },
    {
      "cell_type": "markdown",
      "source": [
        "## **4. EDF test**"
      ],
      "metadata": {
        "id": "hYWQ6AV6gbu8"
      }
    },
    {
      "cell_type": "code",
      "source": [
        "!pip install pyedflib\n",
        "!pip install tqdm\n",
        "!pip install wfdb\n",
        "!pip install biosppy\n",
        "!pip install datasets\n",
        "!pip install matplotlib==3.1.3"
      ],
      "metadata": {
        "id": "WcxWYy-qh4Hj"
      },
      "execution_count": null,
      "outputs": []
    },
    {
      "cell_type": "code",
      "source": [
        "import pyedflib\n",
        "\n",
        "import numpy as np\n",
        "import matplotlib.pyplot as plt\n",
        "\n",
        "import os\n",
        "import wfdb as wf\n",
        "from scipy import signal\n",
        "from biosppy.signals import ecg"
      ],
      "metadata": {
        "id": "aTk3swcUgfdK"
      },
      "execution_count": null,
      "outputs": []
    },
    {
      "cell_type": "code",
      "source": [
        "f = pyedflib.EdfReader(DATA_PATH + \"SampleECG.edf\")"
      ],
      "metadata": {
        "id": "Ep7j3_Etl3Q-"
      },
      "execution_count": null,
      "outputs": []
    },
    {
      "cell_type": "code",
      "source": [
        "n = f.signals_in_file\n",
        "signal_labels = f.getSignalLabels()\n",
        "sigbufs = np.zeros((n, f.getNSamples()[0]))\n",
        "for i in np.arange(n):\n",
        "    sigbufs[i, :] = f.readSignal(i)"
      ],
      "metadata": {
        "id": "Pud5o_7plEPh"
      },
      "execution_count": null,
      "outputs": []
    },
    {
      "cell_type": "code",
      "source": [
        "print(sigbufs)\n",
        "print(sigbufs.shape)\n",
        "print(signal_labels)"
      ],
      "metadata": {
        "id": "gIUv0U4sgnDy",
        "colab": {
          "base_uri": "https://localhost:8080/"
        },
        "outputId": "16c71532-3e02-4703-edc2-a501561a1db9"
      },
      "execution_count": null,
      "outputs": [
        {
          "output_type": "stream",
          "name": "stdout",
          "text": [
            "[[-5.51805170e-03 -6.14612262e-03 -6.86391797e-03 ... -4.48622089e-05\n",
            "  -4.48622089e-05 -4.48622089e-05]]\n",
            "(1, 400000)\n",
            "['ECG']\n"
          ]
        }
      ]
    },
    {
      "cell_type": "code",
      "source": [
        "plt.figure(figsize=(30,8))\n",
        "#fig = plt.figure()\n",
        "ax = plt.axes()\n",
        "for i in np.arange(n):\n",
        "  ax.plot(f.readSignal(i))\n",
        "plt.show()"
      ],
      "metadata": {
        "id": "IOKR2V3zm3Aa"
      },
      "execution_count": null,
      "outputs": []
    },
    {
      "cell_type": "code",
      "source": [
        "print(f.readSignal(0).shape)\n",
        "print(type(f.readSignal(0)))\n",
        "print(f.getSampleFrequency(0))"
      ],
      "metadata": {
        "colab": {
          "base_uri": "https://localhost:8080/"
        },
        "id": "O8ppADRrnslf",
        "outputId": "6eb3bc47-23e3-4b56-ea81-b678ee8f969b"
      },
      "execution_count": null,
      "outputs": [
        {
          "output_type": "stream",
          "name": "stdout",
          "text": [
            "(400000,)\n",
            "<class 'numpy.ndarray'>\n",
            "1000.0\n"
          ]
        }
      ]
    },
    {
      "cell_type": "code",
      "source": [
        "data = sigbufs\n",
        "print(data,\"\\n\", data.shape)"
      ],
      "metadata": {
        "colab": {
          "base_uri": "https://localhost:8080/"
        },
        "id": "Kg_gnsxWT5hH",
        "outputId": "d040e311-d452-4787-9a10-c793e69c7f0c"
      },
      "execution_count": null,
      "outputs": [
        {
          "output_type": "stream",
          "name": "stdout",
          "text": [
            "[[-5.51805170e-03 -6.14612262e-03 -6.86391797e-03 ... -4.48622089e-05\n",
            "  -4.48622089e-05 -4.48622089e-05]] \n",
            " (1, 400000)\n"
          ]
        }
      ]
    },
    {
      "cell_type": "code",
      "source": [
        "for channelid, channel in enumerate(data):\n",
        "\n",
        "        out = ecg.ecg(signal=channel, sampling_rate=360, show=False)\n",
        "        rpeaks = np.zeros_like(channel, dtype='float')\n",
        "        rpeaks[out['rpeaks']] = 1.0\n",
        "\n",
        "        print(\"Rpeaks: \", rpeaks)\n",
        "\n",
        "        beatstoremove = np.array([0])\n",
        "        beats = np.split(channel, out['rpeaks'])\n",
        "\n",
        "        for idx, idxval in enumerate(out['rpeaks']):\n",
        "            firstround = idx == 0\n",
        "            lastround = idx == len(beats) - 1\n",
        "\n",
        "            # Skip first and last beat.\n",
        "            if (firstround or lastround):\n",
        "                continue\n",
        "\n",
        "            # Get the classification value that is on\n",
        "            # or near the position of the rpeak index.\n",
        "            fromidx = 0 if idxval < 10 else idxval - 10\n",
        "            toidx = idxval + 10\n",
        "\n",
        "            # Append some extra readings from next beat.\n",
        "            beats[idx] = np.append(beats[idx], beats[idx+1][:40])\n",
        "\n",
        "            # Normalize the readings to a 0-1 range for ML purposes.\n",
        "            beats[idx] = (beats[idx] - beats[idx].min()) / beats[idx].ptp()\n",
        "\n",
        "            # Resample from 360Hz to 125Hz\n",
        "            newsize = int((beats[idx].size * 125 / 360) + 0.5)\n",
        "            beats[idx] = signal.resample(beats[idx], newsize)\n",
        "\n",
        "            # Skipping records that are too long.\n",
        "            if (beats[idx].size > 187):\n",
        "                beatstoremove = np.append(beatstoremove, idx)\n",
        "                continue\n",
        "\n",
        "            # Pad with zeroes.\n",
        "            zerocount = 187 - beats[idx].size\n",
        "            beats[idx] = np.pad(beats[idx], (0, zerocount), 'constant', constant_values=(0.0, 0.0))\n",
        "\n",
        "            # Append the classification to the beat data.\n",
        "            beats[idx] = np.append(beats[idx], 0)"
      ],
      "metadata": {
        "colab": {
          "base_uri": "https://localhost:8080/"
        },
        "id": "EFF6HAlRWWCq",
        "outputId": "029ff33f-b86c-44b2-b258-69122cd2e27e"
      },
      "execution_count": null,
      "outputs": [
        {
          "output_type": "stream",
          "name": "stdout",
          "text": [
            "Rpeaks:  [0. 0. 0. ... 0. 0. 0.]\n"
          ]
        }
      ]
    },
    {
      "cell_type": "code",
      "source": [
        "print(len(beats), type(beats))\n",
        "for i in range(10):\n",
        "  print(len(beats[i]), end=\" \")"
      ],
      "metadata": {
        "colab": {
          "base_uri": "https://localhost:8080/"
        },
        "id": "gjfgNxm9b7mE",
        "outputId": "92e343ea-0d52-40f6-8b2b-81baba17cc4b"
      },
      "execution_count": null,
      "outputs": [
        {
          "output_type": "stream",
          "name": "stdout",
          "text": [
            "464 <class 'list'>\n",
            "250 314 298 326 325 333 298 308 336 339 "
          ]
        }
      ]
    },
    {
      "cell_type": "code",
      "source": [
        "print(len(beatstoremove), type(beatstoremove))\n",
        "print(beatstoremove.shape)\n",
        "print(beatstoremove)"
      ],
      "metadata": {
        "colab": {
          "base_uri": "https://localhost:8080/"
        },
        "id": "DNiGZABJdmtO",
        "outputId": "23178b68-7ce7-4f2c-caef-3e6e8465fdb6"
      },
      "execution_count": null,
      "outputs": [
        {
          "output_type": "stream",
          "name": "stdout",
          "text": [
            "463 <class 'numpy.ndarray'>\n",
            "(463,)\n",
            "[  0   1   2   3   4   5   6   7   8   9  10  11  12  13  14  15  16  17\n",
            "  18  19  20  21  22  23  24  25  26  27  28  29  30  31  32  33  34  35\n",
            "  36  37  38  39  40  41  42  43  44  45  46  47  48  49  50  51  52  53\n",
            "  54  55  56  57  58  59  60  61  62  63  64  65  66  67  68  69  70  71\n",
            "  72  73  74  75  76  77  78  79  80  81  82  83  84  85  86  87  88  89\n",
            "  90  91  92  93  94  95  96  97  98  99 100 101 102 103 104 105 106 107\n",
            " 108 109 110 111 112 113 114 115 116 117 118 119 120 121 122 123 124 125\n",
            " 126 127 128 129 130 131 132 133 134 135 136 137 138 139 140 141 142 143\n",
            " 144 145 146 147 148 149 150 151 152 153 154 155 156 157 158 159 160 161\n",
            " 162 163 164 165 166 167 168 169 170 171 172 173 174 175 176 177 178 179\n",
            " 180 181 182 183 184 185 186 187 188 189 190 191 192 193 194 195 196 197\n",
            " 198 199 200 201 202 203 204 205 206 207 208 209 210 211 212 213 214 215\n",
            " 216 217 218 219 220 221 222 223 224 225 226 227 228 229 230 231 232 233\n",
            " 234 235 236 237 238 239 240 241 242 243 244 245 246 247 248 249 250 251\n",
            " 252 253 254 255 256 257 258 259 260 261 262 263 264 265 266 267 268 269\n",
            " 270 271 272 273 274 275 276 277 278 279 280 281 282 283 284 285 286 287\n",
            " 288 289 290 291 292 293 294 295 296 297 298 299 300 301 302 303 304 305\n",
            " 306 307 308 309 310 311 312 313 314 315 316 317 318 319 320 321 322 323\n",
            " 324 325 326 327 328 329 330 331 332 333 334 335 336 337 338 339 340 341\n",
            " 342 343 344 345 346 347 348 349 350 351 352 353 354 355 356 357 358 359\n",
            " 360 361 362 363 364 365 366 367 368 369 370 371 372 373 374 375 376 377\n",
            " 378 379 380 381 382 383 384 385 386 387 388 389 390 391 392 393 394 395\n",
            " 396 397 398 399 400 401 402 403 404 405 406 407 408 409 410 411 412 413\n",
            " 414 415 416 417 418 419 420 421 422 423 424 425 426 427 428 429 430 431\n",
            " 432 433 434 435 436 437 438 439 440 441 442 443 444 445 446 447 448 449\n",
            " 450 451 452 453 454 455 456 457 458 459 460 461 462]\n"
          ]
        }
      ]
    },
    {
      "cell_type": "code",
      "source": [
        "beatstoremove = np.append(beatstoremove, len(beats)-1)\n",
        "\n",
        "# Remove first and last beats and the ones without classification.\n",
        "beats = np.delete(beats, beatstoremove)"
      ],
      "metadata": {
        "colab": {
          "base_uri": "https://localhost:8080/"
        },
        "outputId": "22110a74-6991-48d1-e6ea-ea7bc4619fc8",
        "id": "9t1G0E7sY7ny"
      },
      "execution_count": null,
      "outputs": [
        {
          "output_type": "stream",
          "name": "stderr",
          "text": [
            "/usr/local/lib/python3.7/dist-packages/numpy/core/_asarray.py:83: VisibleDeprecationWarning: Creating an ndarray from ragged nested sequences (which is a list-or-tuple of lists-or-tuples-or ndarrays with different lengths or shapes) is deprecated. If you meant to do this, you must specify 'dtype=object' when creating the ndarray\n",
            "  return array(a, dtype, copy=False, order=order)\n"
          ]
        }
      ]
    },
    {
      "cell_type": "code",
      "source": [
        ""
      ],
      "metadata": {
        "colab": {
          "base_uri": "https://localhost:8080/"
        },
        "id": "k5mqqUwHfBWU",
        "outputId": "9f0f2b5c-a702-4d5b-dd89-ec7319fa0bb2"
      },
      "execution_count": null,
      "outputs": [
        {
          "output_type": "error",
          "ename": "ValueError",
          "evalue": "ignored",
          "traceback": [
            "\u001b[0;31m---------------------------------------------------------------------------\u001b[0m",
            "\u001b[0;31mTypeError\u001b[0m                                 Traceback (most recent call last)",
            "\u001b[0;31mTypeError\u001b[0m: only size-1 arrays can be converted to Python scalars",
            "\nThe above exception was the direct cause of the following exception:\n",
            "\u001b[0;31mValueError\u001b[0m                                Traceback (most recent call last)",
            "\u001b[0;32m<ipython-input-15-7cda90261e17>\u001b[0m in \u001b[0;36m<module>\u001b[0;34m()\u001b[0m\n\u001b[0;32m----> 1\u001b[0;31m \u001b[0msavedata\u001b[0m \u001b[0;34m=\u001b[0m \u001b[0mnp\u001b[0m\u001b[0;34m.\u001b[0m\u001b[0marray\u001b[0m\u001b[0;34m(\u001b[0m\u001b[0mbeats\u001b[0m\u001b[0;34m,\u001b[0m \u001b[0mdtype\u001b[0m\u001b[0;34m=\u001b[0m\u001b[0mnp\u001b[0m\u001b[0;34m.\u001b[0m\u001b[0mfloat\u001b[0m\u001b[0;34m)\u001b[0m\u001b[0;34m\u001b[0m\u001b[0;34m\u001b[0m\u001b[0m\n\u001b[0m",
            "\u001b[0;31mValueError\u001b[0m: setting an array element with a sequence."
          ]
        }
      ]
    },
    {
      "cell_type": "code",
      "source": [
        "#savedata = np.array(list(beats[:]), dtype=np.float)\n",
        "outfn = DATA_PATH + 'SampleECG' +'.csv'\n",
        "print('Generating ', outfn)\n",
        "with open(outfn, \"wb\") as fin:\n",
        "    np.savetxt(fin, savedata, delimiter=\",\", fmt='%f')"
      ],
      "metadata": {
        "colab": {
          "base_uri": "https://localhost:8080/"
        },
        "outputId": "819926dc-8382-480c-b740-6b01e62f71d9",
        "id": "fp9iSPm6Y7n0"
      },
      "execution_count": null,
      "outputs": [
        {
          "output_type": "error",
          "ename": "ValueError",
          "evalue": "ignored",
          "traceback": [
            "\u001b[0;31m---------------------------------------------------------------------------\u001b[0m",
            "\u001b[0;31mTypeError\u001b[0m                                 Traceback (most recent call last)",
            "\u001b[0;31mTypeError\u001b[0m: only size-1 arrays can be converted to Python scalars",
            "\nThe above exception was the direct cause of the following exception:\n",
            "\u001b[0;31mValueError\u001b[0m                                Traceback (most recent call last)",
            "\u001b[0;32m<ipython-input-14-5369353f7975>\u001b[0m in \u001b[0;36m<module>\u001b[0;34m()\u001b[0m\n\u001b[0;32m----> 1\u001b[0;31m \u001b[0msavedata\u001b[0m \u001b[0;34m=\u001b[0m \u001b[0mnp\u001b[0m\u001b[0;34m.\u001b[0m\u001b[0marray\u001b[0m\u001b[0;34m(\u001b[0m\u001b[0mlist\u001b[0m\u001b[0;34m(\u001b[0m\u001b[0mbeats\u001b[0m\u001b[0;34m[\u001b[0m\u001b[0;34m:\u001b[0m\u001b[0;34m]\u001b[0m\u001b[0;34m)\u001b[0m\u001b[0;34m,\u001b[0m \u001b[0mdtype\u001b[0m\u001b[0;34m=\u001b[0m\u001b[0mnp\u001b[0m\u001b[0;34m.\u001b[0m\u001b[0mfloat\u001b[0m\u001b[0;34m)\u001b[0m\u001b[0;34m\u001b[0m\u001b[0;34m\u001b[0m\u001b[0m\n\u001b[0m\u001b[1;32m      2\u001b[0m \u001b[0moutfn\u001b[0m \u001b[0;34m=\u001b[0m \u001b[0mDATA_PATH\u001b[0m \u001b[0;34m+\u001b[0m \u001b[0;34m'SampleECG'\u001b[0m \u001b[0;34m+\u001b[0m\u001b[0;34m'.csv'\u001b[0m\u001b[0;34m\u001b[0m\u001b[0;34m\u001b[0m\u001b[0m\n\u001b[1;32m      3\u001b[0m \u001b[0mprint\u001b[0m\u001b[0;34m(\u001b[0m\u001b[0;34m'Generating '\u001b[0m\u001b[0;34m,\u001b[0m \u001b[0moutfn\u001b[0m\u001b[0;34m)\u001b[0m\u001b[0;34m\u001b[0m\u001b[0;34m\u001b[0m\u001b[0m\n\u001b[1;32m      4\u001b[0m \u001b[0;32mwith\u001b[0m \u001b[0mopen\u001b[0m\u001b[0;34m(\u001b[0m\u001b[0moutfn\u001b[0m\u001b[0;34m,\u001b[0m \u001b[0;34m\"wb\"\u001b[0m\u001b[0;34m)\u001b[0m \u001b[0;32mas\u001b[0m \u001b[0mfin\u001b[0m\u001b[0;34m:\u001b[0m\u001b[0;34m\u001b[0m\u001b[0;34m\u001b[0m\u001b[0m\n\u001b[1;32m      5\u001b[0m     \u001b[0mnp\u001b[0m\u001b[0;34m.\u001b[0m\u001b[0msavetxt\u001b[0m\u001b[0;34m(\u001b[0m\u001b[0mfin\u001b[0m\u001b[0;34m,\u001b[0m \u001b[0msavedata\u001b[0m\u001b[0;34m,\u001b[0m \u001b[0mdelimiter\u001b[0m\u001b[0;34m=\u001b[0m\u001b[0;34m\",\"\u001b[0m\u001b[0;34m,\u001b[0m \u001b[0mfmt\u001b[0m\u001b[0;34m=\u001b[0m\u001b[0;34m'%f'\u001b[0m\u001b[0;34m)\u001b[0m\u001b[0;34m\u001b[0m\u001b[0;34m\u001b[0m\u001b[0m\n",
            "\u001b[0;31mValueError\u001b[0m: setting an array element with a sequence."
          ]
        }
      ]
    },
    {
      "cell_type": "code",
      "source": [
        "import pandas as pd\n",
        "\n",
        "temp_df = pd.read_csv(DATA_PATH + 'SampleECG.csv', header=None)\n",
        "temp_df.head()"
      ],
      "metadata": {
        "id": "1kgwkFw1Y7n1"
      },
      "execution_count": null,
      "outputs": []
    },
    {
      "cell_type": "markdown",
      "source": [
        "---\n",
        "\n",
        "<br>\n",
        "\n",
        "## **Testing preprocessing**"
      ],
      "metadata": {
        "id": "ZnRjs9SuJXAL"
      }
    },
    {
      "cell_type": "code",
      "source": [
        "!pip install tqdm\n",
        "!pip install wfdb\n",
        "!pip install biosppy\n",
        "!pip install datasets"
      ],
      "metadata": {
        "colab": {
          "base_uri": "https://localhost:8080/"
        },
        "id": "xCoS0YyXJc8n",
        "outputId": "f168c17a-c25d-41a1-d316-9c99c653388b"
      },
      "execution_count": null,
      "outputs": [
        {
          "output_type": "stream",
          "name": "stdout",
          "text": [
            "Requirement already satisfied: tqdm in /usr/local/lib/python3.7/dist-packages (4.62.3)\n",
            "Requirement already satisfied: wfdb in /usr/local/lib/python3.7/dist-packages (3.4.1)\n",
            "Requirement already satisfied: scipy>=0.17.0 in /usr/local/lib/python3.7/dist-packages (from wfdb) (1.4.1)\n",
            "Requirement already satisfied: pandas>=0.17.0 in /usr/local/lib/python3.7/dist-packages (from wfdb) (1.1.5)\n",
            "Requirement already satisfied: numpy>=1.10.1 in /usr/local/lib/python3.7/dist-packages (from wfdb) (1.19.5)\n",
            "Collecting matplotlib>=3.3.4\n",
            "  Using cached matplotlib-3.5.1-cp37-cp37m-manylinux_2_5_x86_64.manylinux1_x86_64.whl (11.2 MB)\n",
            "Requirement already satisfied: requests>=2.8.1 in /usr/local/lib/python3.7/dist-packages (from wfdb) (2.23.0)\n",
            "Requirement already satisfied: cycler>=0.10 in /usr/local/lib/python3.7/dist-packages (from matplotlib>=3.3.4->wfdb) (0.11.0)\n",
            "Requirement already satisfied: pillow>=6.2.0 in /usr/local/lib/python3.7/dist-packages (from matplotlib>=3.3.4->wfdb) (7.1.2)\n",
            "Requirement already satisfied: packaging>=20.0 in /usr/local/lib/python3.7/dist-packages (from matplotlib>=3.3.4->wfdb) (21.3)\n",
            "Requirement already satisfied: pyparsing>=2.2.1 in /usr/local/lib/python3.7/dist-packages (from matplotlib>=3.3.4->wfdb) (3.0.7)\n",
            "Requirement already satisfied: fonttools>=4.22.0 in /usr/local/lib/python3.7/dist-packages (from matplotlib>=3.3.4->wfdb) (4.29.0)\n",
            "Requirement already satisfied: kiwisolver>=1.0.1 in /usr/local/lib/python3.7/dist-packages (from matplotlib>=3.3.4->wfdb) (1.3.2)\n",
            "Requirement already satisfied: python-dateutil>=2.7 in /usr/local/lib/python3.7/dist-packages (from matplotlib>=3.3.4->wfdb) (2.8.2)\n",
            "Requirement already satisfied: pytz>=2017.2 in /usr/local/lib/python3.7/dist-packages (from pandas>=0.17.0->wfdb) (2018.9)\n",
            "Requirement already satisfied: six>=1.5 in /usr/local/lib/python3.7/dist-packages (from python-dateutil>=2.7->matplotlib>=3.3.4->wfdb) (1.15.0)\n",
            "Requirement already satisfied: certifi>=2017.4.17 in /usr/local/lib/python3.7/dist-packages (from requests>=2.8.1->wfdb) (2021.10.8)\n",
            "Requirement already satisfied: idna<3,>=2.5 in /usr/local/lib/python3.7/dist-packages (from requests>=2.8.1->wfdb) (2.10)\n",
            "Requirement already satisfied: urllib3!=1.25.0,!=1.25.1,<1.26,>=1.21.1 in /usr/local/lib/python3.7/dist-packages (from requests>=2.8.1->wfdb) (1.24.3)\n",
            "Requirement already satisfied: chardet<4,>=3.0.2 in /usr/local/lib/python3.7/dist-packages (from requests>=2.8.1->wfdb) (3.0.4)\n",
            "Installing collected packages: matplotlib\n",
            "  Attempting uninstall: matplotlib\n",
            "    Found existing installation: matplotlib 3.1.3\n",
            "    Uninstalling matplotlib-3.1.3:\n",
            "      Successfully uninstalled matplotlib-3.1.3\n",
            "\u001b[31mERROR: pip's dependency resolver does not currently take into account all the packages that are installed. This behaviour is the source of the following dependency conflicts.\n",
            "albumentations 0.1.12 requires imgaug<0.2.7,>=0.2.5, but you have imgaug 0.2.9 which is incompatible.\u001b[0m\n",
            "Successfully installed matplotlib-3.5.1\n"
          ]
        },
        {
          "output_type": "display_data",
          "data": {
            "application/vnd.colab-display-data+json": {
              "pip_warning": {
                "packages": [
                  "matplotlib",
                  "mpl_toolkits"
                ]
              }
            }
          },
          "metadata": {}
        },
        {
          "output_type": "stream",
          "name": "stdout",
          "text": [
            "Requirement already satisfied: biosppy in /usr/local/lib/python3.7/dist-packages (0.8.0)\n",
            "Requirement already satisfied: shortuuid in /usr/local/lib/python3.7/dist-packages (from biosppy) (1.0.8)\n",
            "Requirement already satisfied: opencv-python in /usr/local/lib/python3.7/dist-packages (from biosppy) (4.1.2.30)\n",
            "Requirement already satisfied: scipy in /usr/local/lib/python3.7/dist-packages (from biosppy) (1.4.1)\n",
            "Requirement already satisfied: numpy in /usr/local/lib/python3.7/dist-packages (from biosppy) (1.19.5)\n",
            "Requirement already satisfied: joblib in /usr/local/lib/python3.7/dist-packages (from biosppy) (1.1.0)\n",
            "Requirement already satisfied: matplotlib in /usr/local/lib/python3.7/dist-packages (from biosppy) (3.5.1)\n",
            "Requirement already satisfied: h5py in /usr/local/lib/python3.7/dist-packages (from biosppy) (3.1.0)\n",
            "Requirement already satisfied: bidict in /usr/local/lib/python3.7/dist-packages (from biosppy) (0.21.4)\n",
            "Requirement already satisfied: six in /usr/local/lib/python3.7/dist-packages (from biosppy) (1.15.0)\n",
            "Requirement already satisfied: scikit-learn in /usr/local/lib/python3.7/dist-packages (from biosppy) (1.0.2)\n",
            "Requirement already satisfied: cached-property in /usr/local/lib/python3.7/dist-packages (from h5py->biosppy) (1.5.2)\n",
            "Requirement already satisfied: kiwisolver>=1.0.1 in /usr/local/lib/python3.7/dist-packages (from matplotlib->biosppy) (1.3.2)\n",
            "Requirement already satisfied: pyparsing>=2.2.1 in /usr/local/lib/python3.7/dist-packages (from matplotlib->biosppy) (3.0.7)\n",
            "Requirement already satisfied: python-dateutil>=2.7 in /usr/local/lib/python3.7/dist-packages (from matplotlib->biosppy) (2.8.2)\n",
            "Requirement already satisfied: packaging>=20.0 in /usr/local/lib/python3.7/dist-packages (from matplotlib->biosppy) (21.3)\n",
            "Requirement already satisfied: fonttools>=4.22.0 in /usr/local/lib/python3.7/dist-packages (from matplotlib->biosppy) (4.29.0)\n",
            "Requirement already satisfied: cycler>=0.10 in /usr/local/lib/python3.7/dist-packages (from matplotlib->biosppy) (0.11.0)\n",
            "Requirement already satisfied: pillow>=6.2.0 in /usr/local/lib/python3.7/dist-packages (from matplotlib->biosppy) (7.1.2)\n",
            "Requirement already satisfied: threadpoolctl>=2.0.0 in /usr/local/lib/python3.7/dist-packages (from scikit-learn->biosppy) (3.0.0)\n",
            "Requirement already satisfied: datasets in /usr/local/lib/python3.7/dist-packages (1.18.1)\n",
            "Requirement already satisfied: pandas in /usr/local/lib/python3.7/dist-packages (from datasets) (1.1.5)\n",
            "Requirement already satisfied: importlib-metadata in /usr/local/lib/python3.7/dist-packages (from datasets) (4.10.1)\n",
            "Requirement already satisfied: requests>=2.19.0 in /usr/local/lib/python3.7/dist-packages (from datasets) (2.23.0)\n",
            "Requirement already satisfied: huggingface-hub<1.0.0,>=0.1.0 in /usr/local/lib/python3.7/dist-packages (from datasets) (0.4.0)\n",
            "Requirement already satisfied: fsspec[http]>=2021.05.0 in /usr/local/lib/python3.7/dist-packages (from datasets) (2022.1.0)\n",
            "Requirement already satisfied: packaging in /usr/local/lib/python3.7/dist-packages (from datasets) (21.3)\n",
            "Requirement already satisfied: multiprocess in /usr/local/lib/python3.7/dist-packages (from datasets) (0.70.12.2)\n",
            "Requirement already satisfied: tqdm>=4.62.1 in /usr/local/lib/python3.7/dist-packages (from datasets) (4.62.3)\n",
            "Requirement already satisfied: pyarrow!=4.0.0,>=3.0.0 in /usr/local/lib/python3.7/dist-packages (from datasets) (3.0.0)\n",
            "Requirement already satisfied: aiohttp in /usr/local/lib/python3.7/dist-packages (from datasets) (3.8.1)\n",
            "Requirement already satisfied: dill in /usr/local/lib/python3.7/dist-packages (from datasets) (0.3.4)\n",
            "Requirement already satisfied: numpy>=1.17 in /usr/local/lib/python3.7/dist-packages (from datasets) (1.19.5)\n",
            "Requirement already satisfied: xxhash in /usr/local/lib/python3.7/dist-packages (from datasets) (2.0.2)\n",
            "Requirement already satisfied: filelock in /usr/local/lib/python3.7/dist-packages (from huggingface-hub<1.0.0,>=0.1.0->datasets) (3.4.2)\n",
            "Requirement already satisfied: pyyaml in /usr/local/lib/python3.7/dist-packages (from huggingface-hub<1.0.0,>=0.1.0->datasets) (3.13)\n",
            "Requirement already satisfied: typing-extensions>=3.7.4.3 in /usr/local/lib/python3.7/dist-packages (from huggingface-hub<1.0.0,>=0.1.0->datasets) (3.10.0.2)\n",
            "Requirement already satisfied: pyparsing!=3.0.5,>=2.0.2 in /usr/local/lib/python3.7/dist-packages (from packaging->datasets) (3.0.7)\n",
            "Requirement already satisfied: idna<3,>=2.5 in /usr/local/lib/python3.7/dist-packages (from requests>=2.19.0->datasets) (2.10)\n",
            "Requirement already satisfied: chardet<4,>=3.0.2 in /usr/local/lib/python3.7/dist-packages (from requests>=2.19.0->datasets) (3.0.4)\n",
            "Requirement already satisfied: certifi>=2017.4.17 in /usr/local/lib/python3.7/dist-packages (from requests>=2.19.0->datasets) (2021.10.8)\n",
            "Requirement already satisfied: urllib3!=1.25.0,!=1.25.1,<1.26,>=1.21.1 in /usr/local/lib/python3.7/dist-packages (from requests>=2.19.0->datasets) (1.24.3)\n",
            "Requirement already satisfied: multidict<7.0,>=4.5 in /usr/local/lib/python3.7/dist-packages (from aiohttp->datasets) (6.0.2)\n",
            "Requirement already satisfied: frozenlist>=1.1.1 in /usr/local/lib/python3.7/dist-packages (from aiohttp->datasets) (1.3.0)\n",
            "Requirement already satisfied: attrs>=17.3.0 in /usr/local/lib/python3.7/dist-packages (from aiohttp->datasets) (21.4.0)\n",
            "Requirement already satisfied: yarl<2.0,>=1.0 in /usr/local/lib/python3.7/dist-packages (from aiohttp->datasets) (1.7.2)\n",
            "Requirement already satisfied: aiosignal>=1.1.2 in /usr/local/lib/python3.7/dist-packages (from aiohttp->datasets) (1.2.0)\n",
            "Requirement already satisfied: asynctest==0.13.0 in /usr/local/lib/python3.7/dist-packages (from aiohttp->datasets) (0.13.0)\n",
            "Requirement already satisfied: async-timeout<5.0,>=4.0.0a3 in /usr/local/lib/python3.7/dist-packages (from aiohttp->datasets) (4.0.2)\n",
            "Requirement already satisfied: charset-normalizer<3.0,>=2.0 in /usr/local/lib/python3.7/dist-packages (from aiohttp->datasets) (2.0.10)\n",
            "Requirement already satisfied: zipp>=0.5 in /usr/local/lib/python3.7/dist-packages (from importlib-metadata->datasets) (3.7.0)\n",
            "Requirement already satisfied: python-dateutil>=2.7.3 in /usr/local/lib/python3.7/dist-packages (from pandas->datasets) (2.8.2)\n",
            "Requirement already satisfied: pytz>=2017.2 in /usr/local/lib/python3.7/dist-packages (from pandas->datasets) (2018.9)\n",
            "Requirement already satisfied: six>=1.5 in /usr/local/lib/python3.7/dist-packages (from python-dateutil>=2.7.3->pandas->datasets) (1.15.0)\n"
          ]
        }
      ]
    },
    {
      "cell_type": "code",
      "source": [
        "import os\n",
        "import wfdb as wf\n",
        "import numpy as np\n",
        "import matplotlib.pyplot as plt\n",
        "from scipy import signal\n",
        "from biosppy.signals import ecg"
      ],
      "metadata": {
        "id": "Lj2uTwvNJe1y"
      },
      "execution_count": null,
      "outputs": []
    },
    {
      "cell_type": "code",
      "source": [
        "record = wf.rdsamp(DATA_PATH + \"mit-bih-arrhythmia-database-1.0.0/100\")\n",
        "annotation = wf.rdann(DATA_PATH + \"mit-bih-arrhythmia-database-1.0.0/100\", 'atr')"
      ],
      "metadata": {
        "id": "1jdvRZrOLKVz"
      },
      "execution_count": null,
      "outputs": []
    },
    {
      "cell_type": "code",
      "source": [
        "print(record)"
      ],
      "metadata": {
        "colab": {
          "base_uri": "https://localhost:8080/"
        },
        "id": "9gKVKYK_Sn3H",
        "outputId": "fb1de55a-3b6f-477f-d900-e6636f03dd83"
      },
      "execution_count": null,
      "outputs": [
        {
          "output_type": "stream",
          "name": "stdout",
          "text": [
            "(array([[-0.145, -0.065],\n",
            "       [-0.145, -0.065],\n",
            "       [-0.145, -0.065],\n",
            "       ...,\n",
            "       [-0.675, -0.365],\n",
            "       [-0.765, -0.335],\n",
            "       [-1.28 ,  0.   ]]), {'fs': 360, 'sig_len': 650000, 'n_sig': 2, 'base_date': None, 'base_time': None, 'units': ['mV', 'mV'], 'sig_name': ['MLII', 'V5'], 'comments': ['69 M 1085 1629 x1', 'Aldomet, Inderal']})\n"
          ]
        }
      ]
    },
    {
      "cell_type": "code",
      "source": [
        "print('Total files: ', len(record))\n",
        "print(\"0: \\n\", record[0], \"  \", record[0].shape)\n",
        "print(\"\\n1: \\n\", record[1])"
      ],
      "metadata": {
        "colab": {
          "base_uri": "https://localhost:8080/"
        },
        "id": "XISe8FlKJhRg",
        "outputId": "c663d1dc-9448-4e74-954e-37cac05a579b"
      },
      "execution_count": null,
      "outputs": [
        {
          "output_type": "stream",
          "name": "stdout",
          "text": [
            "Total files:  2\n",
            "0: \n",
            " [[-0.145 -0.065]\n",
            " [-0.145 -0.065]\n",
            " [-0.145 -0.065]\n",
            " ...\n",
            " [-0.675 -0.365]\n",
            " [-0.765 -0.335]\n",
            " [-1.28   0.   ]]    (650000, 2)\n",
            "\n",
            "1: \n",
            " {'fs': 360, 'sig_len': 650000, 'n_sig': 2, 'base_date': None, 'base_time': None, 'units': ['mV', 'mV'], 'sig_name': ['MLII', 'V5'], 'comments': ['69 M 1085 1629 x1', 'Aldomet, Inderal']}\n"
          ]
        }
      ]
    },
    {
      "cell_type": "code",
      "source": [
        "realbeats = ['N','L','R','B','A','a','J','S','V','r',\n",
        "             'F','e','j','n','E','/','f','Q','?']"
      ],
      "metadata": {
        "id": "pBaBl-xnKQU0"
      },
      "execution_count": null,
      "outputs": []
    },
    {
      "cell_type": "code",
      "source": [
        "print('Sampling frequency used for this record:', record[1].get('fs'))\n",
        "print('Shape of loaded data array:', record[0].shape)\n",
        "print('Number of loaded annotations:', len(annotation.num))"
      ],
      "metadata": {
        "colab": {
          "base_uri": "https://localhost:8080/"
        },
        "id": "R5CA8cIkMcIr",
        "outputId": "26d10733-67f9-4c94-ca17-48b55593955d"
      },
      "execution_count": null,
      "outputs": [
        {
          "output_type": "stream",
          "name": "stdout",
          "text": [
            "Sampling frequency used for this record: 360\n",
            "Shape of loaded data array: (650000, 2)\n",
            "Number of loaded annotations: 2274\n"
          ]
        }
      ]
    },
    {
      "cell_type": "code",
      "source": [
        "data = record[0].transpose()"
      ],
      "metadata": {
        "id": "f3XnF-F2NyjK"
      },
      "execution_count": null,
      "outputs": []
    },
    {
      "cell_type": "code",
      "source": [
        "print(data,\"\\n\", data.shape)"
      ],
      "metadata": {
        "colab": {
          "base_uri": "https://localhost:8080/"
        },
        "id": "OMseBz7XTar5",
        "outputId": "cb7b1904-eb2e-4fb2-bd5a-27e60d351189"
      },
      "execution_count": null,
      "outputs": [
        {
          "output_type": "stream",
          "name": "stdout",
          "text": [
            "[[-0.145 -0.145 -0.145 ... -0.675 -0.765 -1.28 ]\n",
            " [-0.065 -0.065 -0.065 ... -0.365 -0.335  0.   ]] \n",
            " (2, 650000)\n"
          ]
        }
      ]
    },
    {
      "cell_type": "code",
      "source": [
        "cat = np.array(annotation.symbol)\n",
        "rate = np.zeros_like(cat, dtype='float')"
      ],
      "metadata": {
        "id": "pcwSlTBlN1G7"
      },
      "execution_count": null,
      "outputs": []
    },
    {
      "cell_type": "code",
      "source": [
        "for catid, catval in enumerate(cat):\n",
        "  if (catval == 'N'):\n",
        "      rate[catid] = 1.0 # Normal\n",
        "  elif (catval in realbeats):\n",
        "      rate[catid] = 2.0 # Abnormal"
      ],
      "metadata": {
        "id": "4DHYxVyOOT_3"
      },
      "execution_count": null,
      "outputs": []
    },
    {
      "cell_type": "code",
      "source": [
        "print(rate, \"\\n\", np.unique(rate))"
      ],
      "metadata": {
        "colab": {
          "base_uri": "https://localhost:8080/"
        },
        "id": "WWgLcZIcPqkz",
        "outputId": "9cfcd7c1-e76f-4ebb-b231-ef5ab56e47f9"
      },
      "execution_count": null,
      "outputs": [
        {
          "output_type": "stream",
          "name": "stdout",
          "text": [
            "[0. 1. 1. ... 1. 1. 1.] \n",
            " [0. 1. 2.]\n"
          ]
        }
      ]
    },
    {
      "cell_type": "code",
      "source": [
        "rates = np.zeros_like(data[0], dtype='float')\n",
        "rates[annotation.sample] = rate"
      ],
      "metadata": {
        "id": "gDzqSDM7OqiM"
      },
      "execution_count": null,
      "outputs": []
    },
    {
      "cell_type": "code",
      "source": [
        "indices = np.arange(data[0].size, dtype='int')"
      ],
      "metadata": {
        "id": "AXfk6EkmQGLg"
      },
      "execution_count": null,
      "outputs": []
    },
    {
      "cell_type": "code",
      "source": [
        "for channelid, channel in enumerate(data):\n",
        "        chname = record[1].get('sig_name')[channelid]\n",
        "        print('    ECG channel type:', chname)\n",
        "\n",
        "        out = ecg.ecg(signal=channel, sampling_rate=360, show=False)\n",
        "        rpeaks = np.zeros_like(channel, dtype='float')\n",
        "        rpeaks[out['rpeaks']] = 1.0\n",
        "\n",
        "        beatstoremove = np.array([0])\n",
        "        beats = np.split(channel, out['rpeaks'])\n",
        "\n",
        "        for idx, idxval in enumerate(out['rpeaks']):\n",
        "            firstround = idx == 0\n",
        "            lastround = idx == len(beats) - 1\n",
        "\n",
        "            # Skip first and last beat.\n",
        "            if (firstround or lastround):\n",
        "                continue\n",
        "\n",
        "            # Get the classification value that is on\n",
        "            # or near the position of the rpeak index.\n",
        "            fromidx = 0 if idxval < 10 else idxval - 10\n",
        "            toidx = idxval + 10\n",
        "            catval = rates[fromidx:toidx].max()\n",
        "            \n",
        "            # Skip beat if there is no classification.\n",
        "            if (catval == 0.0):\n",
        "                beatstoremove = np.append(beatstoremove, idx)\n",
        "                continue\n",
        "\n",
        "            # Normal beat is now classified as 0.0 and abnormal is 1.0.\n",
        "            catval = catval - 1.0\n",
        "\n",
        "            # Append some extra readings from next beat.\n",
        "            beats[idx] = np.append(beats[idx], beats[idx+1][:40])\n",
        "\n",
        "            # Normalize the readings to a 0-1 range for ML purposes.\n",
        "            beats[idx] = (beats[idx] - beats[idx].min()) / beats[idx].ptp()\n",
        "\n",
        "            # Resample from 360Hz to 125Hz\n",
        "            newsize = int((beats[idx].size * 125 / 360) + 0.5)\n",
        "            beats[idx] = signal.resample(beats[idx], newsize)\n",
        "\n",
        "            # Skipping records that are too long.\n",
        "            if (beats[idx].size > 187):\n",
        "                beatstoremove = np.append(beatstoremove, idx)\n",
        "                continue\n",
        "\n",
        "            # Pad with zeroes.\n",
        "            zerocount = 187 - beats[idx].size\n",
        "            beats[idx] = np.pad(beats[idx], (0, zerocount), 'constant', constant_values=(0.0, 0.0))\n",
        "\n",
        "            # Append the classification to the beat data.\n",
        "            beats[idx] = np.append(beats[idx], catval)"
      ],
      "metadata": {
        "colab": {
          "base_uri": "https://localhost:8080/"
        },
        "id": "XRTS4T_hQRyn",
        "outputId": "0dde1788-4d26-47c6-8254-a8204ea10da3"
      },
      "execution_count": null,
      "outputs": [
        {
          "output_type": "stream",
          "name": "stdout",
          "text": [
            "    ECG channel type: MLII\n",
            "    ECG channel type: V5\n"
          ]
        }
      ]
    },
    {
      "cell_type": "code",
      "source": [
        "print(len(beats))\n",
        "for i in range(10):\n",
        "  print(len(beats[i]), end=\" \")"
      ],
      "metadata": {
        "colab": {
          "base_uri": "https://localhost:8080/"
        },
        "id": "ftVILfHHckZw",
        "outputId": "502bce2c-128f-4ddf-8fbd-4d3f717579cd"
      },
      "execution_count": null,
      "outputs": [
        {
          "output_type": "stream",
          "name": "stdout",
          "text": [
            "2270\n",
            "74 188 188 188 188 188 188 188 188 188 "
          ]
        }
      ]
    },
    {
      "cell_type": "code",
      "source": [
        "beatstoremove = np.append(beatstoremove, len(beats)-1)\n",
        "\n",
        "# Remove first and last beats and the ones without classification.\n",
        "beats = np.delete(beats, beatstoremove)"
      ],
      "metadata": {
        "colab": {
          "base_uri": "https://localhost:8080/"
        },
        "id": "OBajbDFGRT2n",
        "outputId": "2527b330-f5f7-4c34-f007-3998bfabdc45"
      },
      "execution_count": null,
      "outputs": [
        {
          "output_type": "stream",
          "name": "stderr",
          "text": [
            "/usr/local/lib/python3.7/dist-packages/numpy/core/_asarray.py:83: VisibleDeprecationWarning: Creating an ndarray from ragged nested sequences (which is a list-or-tuple of lists-or-tuples-or ndarrays with different lengths or shapes) is deprecated. If you meant to do this, you must specify 'dtype=object' when creating the ndarray\n",
            "  return array(a, dtype, copy=False, order=order)\n"
          ]
        }
      ]
    },
    {
      "cell_type": "code",
      "source": [
        "savedata = np.array(list(beats[:]), dtype=np.float)\n",
        "outfn = DATA_PATH + chname +'.csv'\n",
        "print('Generating ', outfn)\n",
        "with open(outfn, \"wb\") as fin:\n",
        "    np.savetxt(fin, savedata, delimiter=\",\", fmt='%f')"
      ],
      "metadata": {
        "colab": {
          "base_uri": "https://localhost:8080/"
        },
        "id": "B-veHQZeRgzU",
        "outputId": "b18429f5-1a88-46af-cd64-388af577841e"
      },
      "execution_count": null,
      "outputs": [
        {
          "output_type": "stream",
          "name": "stdout",
          "text": [
            "Generating  /content/drive/My Drive/Internship Files/Velozity/V5.csv\n"
          ]
        }
      ]
    },
    {
      "cell_type": "code",
      "source": [
        "import pandas as pd\n",
        "\n",
        "temp_df = pd.read_csv(DATA_PATH + 'V5.csv', header=None)\n",
        "temp_df.head()"
      ],
      "metadata": {
        "colab": {
          "base_uri": "https://localhost:8080/"
        },
        "id": "AQTyztZXR_KA",
        "outputId": "f488e1e7-af28-4c9e-f5f7-3c5d9e9f6eed"
      },
      "execution_count": null,
      "outputs": [
        {
          "output_type": "execute_result",
          "data": {
            "text/html": [
              "\n",
              "  <div id=\"df-18b95701-50e2-4707-9975-4fb0dd820c7e\">\n",
              "    <div class=\"colab-df-container\">\n",
              "      <div>\n",
              "<style scoped>\n",
              "    .dataframe tbody tr th:only-of-type {\n",
              "        vertical-align: middle;\n",
              "    }\n",
              "\n",
              "    .dataframe tbody tr th {\n",
              "        vertical-align: top;\n",
              "    }\n",
              "\n",
              "    .dataframe thead th {\n",
              "        text-align: right;\n",
              "    }\n",
              "</style>\n",
              "<table border=\"1\" class=\"dataframe\">\n",
              "  <thead>\n",
              "    <tr style=\"text-align: right;\">\n",
              "      <th></th>\n",
              "      <th>0</th>\n",
              "      <th>1</th>\n",
              "      <th>2</th>\n",
              "      <th>3</th>\n",
              "      <th>4</th>\n",
              "      <th>5</th>\n",
              "      <th>6</th>\n",
              "      <th>7</th>\n",
              "      <th>8</th>\n",
              "      <th>9</th>\n",
              "      <th>10</th>\n",
              "      <th>11</th>\n",
              "      <th>12</th>\n",
              "      <th>13</th>\n",
              "      <th>14</th>\n",
              "      <th>15</th>\n",
              "      <th>16</th>\n",
              "      <th>17</th>\n",
              "      <th>18</th>\n",
              "      <th>19</th>\n",
              "      <th>20</th>\n",
              "      <th>21</th>\n",
              "      <th>22</th>\n",
              "      <th>23</th>\n",
              "      <th>24</th>\n",
              "      <th>25</th>\n",
              "      <th>26</th>\n",
              "      <th>27</th>\n",
              "      <th>28</th>\n",
              "      <th>29</th>\n",
              "      <th>30</th>\n",
              "      <th>31</th>\n",
              "      <th>32</th>\n",
              "      <th>33</th>\n",
              "      <th>34</th>\n",
              "      <th>35</th>\n",
              "      <th>36</th>\n",
              "      <th>37</th>\n",
              "      <th>38</th>\n",
              "      <th>39</th>\n",
              "      <th>...</th>\n",
              "      <th>148</th>\n",
              "      <th>149</th>\n",
              "      <th>150</th>\n",
              "      <th>151</th>\n",
              "      <th>152</th>\n",
              "      <th>153</th>\n",
              "      <th>154</th>\n",
              "      <th>155</th>\n",
              "      <th>156</th>\n",
              "      <th>157</th>\n",
              "      <th>158</th>\n",
              "      <th>159</th>\n",
              "      <th>160</th>\n",
              "      <th>161</th>\n",
              "      <th>162</th>\n",
              "      <th>163</th>\n",
              "      <th>164</th>\n",
              "      <th>165</th>\n",
              "      <th>166</th>\n",
              "      <th>167</th>\n",
              "      <th>168</th>\n",
              "      <th>169</th>\n",
              "      <th>170</th>\n",
              "      <th>171</th>\n",
              "      <th>172</th>\n",
              "      <th>173</th>\n",
              "      <th>174</th>\n",
              "      <th>175</th>\n",
              "      <th>176</th>\n",
              "      <th>177</th>\n",
              "      <th>178</th>\n",
              "      <th>179</th>\n",
              "      <th>180</th>\n",
              "      <th>181</th>\n",
              "      <th>182</th>\n",
              "      <th>183</th>\n",
              "      <th>184</th>\n",
              "      <th>185</th>\n",
              "      <th>186</th>\n",
              "      <th>187</th>\n",
              "    </tr>\n",
              "  </thead>\n",
              "  <tbody>\n",
              "    <tr>\n",
              "      <th>0</th>\n",
              "      <td>0.752733</td>\n",
              "      <td>0.730747</td>\n",
              "      <td>0.159375</td>\n",
              "      <td>0.319714</td>\n",
              "      <td>0.266970</td>\n",
              "      <td>0.307124</td>\n",
              "      <td>0.270779</td>\n",
              "      <td>0.285674</td>\n",
              "      <td>0.281439</td>\n",
              "      <td>0.283470</td>\n",
              "      <td>0.266059</td>\n",
              "      <td>0.277535</td>\n",
              "      <td>0.280732</td>\n",
              "      <td>0.282037</td>\n",
              "      <td>0.273571</td>\n",
              "      <td>0.272187</td>\n",
              "      <td>0.267126</td>\n",
              "      <td>0.282263</td>\n",
              "      <td>0.262759</td>\n",
              "      <td>0.272487</td>\n",
              "      <td>0.264431</td>\n",
              "      <td>0.258931</td>\n",
              "      <td>0.249464</td>\n",
              "      <td>0.261821</td>\n",
              "      <td>0.254205</td>\n",
              "      <td>0.262991</td>\n",
              "      <td>0.234557</td>\n",
              "      <td>0.256163</td>\n",
              "      <td>0.211733</td>\n",
              "      <td>0.225056</td>\n",
              "      <td>0.197015</td>\n",
              "      <td>0.194620</td>\n",
              "      <td>0.162682</td>\n",
              "      <td>0.170036</td>\n",
              "      <td>0.142870</td>\n",
              "      <td>0.155596</td>\n",
              "      <td>0.133188</td>\n",
              "      <td>0.154629</td>\n",
              "      <td>0.165393</td>\n",
              "      <td>0.205240</td>\n",
              "      <td>...</td>\n",
              "      <td>0.0</td>\n",
              "      <td>0.0</td>\n",
              "      <td>0.0</td>\n",
              "      <td>0.0</td>\n",
              "      <td>0.0</td>\n",
              "      <td>0.0</td>\n",
              "      <td>0.0</td>\n",
              "      <td>0.0</td>\n",
              "      <td>0.0</td>\n",
              "      <td>0.0</td>\n",
              "      <td>0.0</td>\n",
              "      <td>0.0</td>\n",
              "      <td>0.0</td>\n",
              "      <td>0.0</td>\n",
              "      <td>0.0</td>\n",
              "      <td>0.0</td>\n",
              "      <td>0.0</td>\n",
              "      <td>0.0</td>\n",
              "      <td>0.0</td>\n",
              "      <td>0.0</td>\n",
              "      <td>0.0</td>\n",
              "      <td>0.0</td>\n",
              "      <td>0.0</td>\n",
              "      <td>0.0</td>\n",
              "      <td>0.0</td>\n",
              "      <td>0.0</td>\n",
              "      <td>0.0</td>\n",
              "      <td>0.0</td>\n",
              "      <td>0.0</td>\n",
              "      <td>0.0</td>\n",
              "      <td>0.0</td>\n",
              "      <td>0.0</td>\n",
              "      <td>0.0</td>\n",
              "      <td>0.0</td>\n",
              "      <td>0.0</td>\n",
              "      <td>0.0</td>\n",
              "      <td>0.0</td>\n",
              "      <td>0.0</td>\n",
              "      <td>0.0</td>\n",
              "      <td>0.0</td>\n",
              "    </tr>\n",
              "    <tr>\n",
              "      <th>1</th>\n",
              "      <td>0.628595</td>\n",
              "      <td>0.571475</td>\n",
              "      <td>-0.009939</td>\n",
              "      <td>0.076968</td>\n",
              "      <td>0.122889</td>\n",
              "      <td>0.170717</td>\n",
              "      <td>0.142956</td>\n",
              "      <td>0.171063</td>\n",
              "      <td>0.157647</td>\n",
              "      <td>0.162291</td>\n",
              "      <td>0.163033</td>\n",
              "      <td>0.165251</td>\n",
              "      <td>0.156195</td>\n",
              "      <td>0.173852</td>\n",
              "      <td>0.162099</td>\n",
              "      <td>0.174743</td>\n",
              "      <td>0.167370</td>\n",
              "      <td>0.172260</td>\n",
              "      <td>0.162814</td>\n",
              "      <td>0.178717</td>\n",
              "      <td>0.160566</td>\n",
              "      <td>0.170482</td>\n",
              "      <td>0.157549</td>\n",
              "      <td>0.166379</td>\n",
              "      <td>0.149927</td>\n",
              "      <td>0.163861</td>\n",
              "      <td>0.129142</td>\n",
              "      <td>0.147496</td>\n",
              "      <td>0.112918</td>\n",
              "      <td>0.119430</td>\n",
              "      <td>0.083183</td>\n",
              "      <td>0.095984</td>\n",
              "      <td>0.054228</td>\n",
              "      <td>0.077860</td>\n",
              "      <td>0.043040</td>\n",
              "      <td>0.059578</td>\n",
              "      <td>0.050576</td>\n",
              "      <td>0.093480</td>\n",
              "      <td>0.097575</td>\n",
              "      <td>0.162378</td>\n",
              "      <td>...</td>\n",
              "      <td>0.0</td>\n",
              "      <td>0.0</td>\n",
              "      <td>0.0</td>\n",
              "      <td>0.0</td>\n",
              "      <td>0.0</td>\n",
              "      <td>0.0</td>\n",
              "      <td>0.0</td>\n",
              "      <td>0.0</td>\n",
              "      <td>0.0</td>\n",
              "      <td>0.0</td>\n",
              "      <td>0.0</td>\n",
              "      <td>0.0</td>\n",
              "      <td>0.0</td>\n",
              "      <td>0.0</td>\n",
              "      <td>0.0</td>\n",
              "      <td>0.0</td>\n",
              "      <td>0.0</td>\n",
              "      <td>0.0</td>\n",
              "      <td>0.0</td>\n",
              "      <td>0.0</td>\n",
              "      <td>0.0</td>\n",
              "      <td>0.0</td>\n",
              "      <td>0.0</td>\n",
              "      <td>0.0</td>\n",
              "      <td>0.0</td>\n",
              "      <td>0.0</td>\n",
              "      <td>0.0</td>\n",
              "      <td>0.0</td>\n",
              "      <td>0.0</td>\n",
              "      <td>0.0</td>\n",
              "      <td>0.0</td>\n",
              "      <td>0.0</td>\n",
              "      <td>0.0</td>\n",
              "      <td>0.0</td>\n",
              "      <td>0.0</td>\n",
              "      <td>0.0</td>\n",
              "      <td>0.0</td>\n",
              "      <td>0.0</td>\n",
              "      <td>0.0</td>\n",
              "      <td>0.0</td>\n",
              "    </tr>\n",
              "    <tr>\n",
              "      <th>2</th>\n",
              "      <td>0.735441</td>\n",
              "      <td>0.738430</td>\n",
              "      <td>0.084738</td>\n",
              "      <td>0.206169</td>\n",
              "      <td>0.121107</td>\n",
              "      <td>0.179561</td>\n",
              "      <td>0.122728</td>\n",
              "      <td>0.175328</td>\n",
              "      <td>0.116942</td>\n",
              "      <td>0.162638</td>\n",
              "      <td>0.113821</td>\n",
              "      <td>0.158204</td>\n",
              "      <td>0.110882</td>\n",
              "      <td>0.164529</td>\n",
              "      <td>0.117946</td>\n",
              "      <td>0.159603</td>\n",
              "      <td>0.125687</td>\n",
              "      <td>0.151115</td>\n",
              "      <td>0.119840</td>\n",
              "      <td>0.146836</td>\n",
              "      <td>0.117802</td>\n",
              "      <td>0.139753</td>\n",
              "      <td>0.106823</td>\n",
              "      <td>0.125403</td>\n",
              "      <td>0.105927</td>\n",
              "      <td>0.107156</td>\n",
              "      <td>0.082527</td>\n",
              "      <td>0.071278</td>\n",
              "      <td>0.051213</td>\n",
              "      <td>0.047551</td>\n",
              "      <td>0.031255</td>\n",
              "      <td>0.016727</td>\n",
              "      <td>0.018052</td>\n",
              "      <td>0.006963</td>\n",
              "      <td>0.016562</td>\n",
              "      <td>0.029653</td>\n",
              "      <td>0.068658</td>\n",
              "      <td>0.104682</td>\n",
              "      <td>0.144912</td>\n",
              "      <td>0.166005</td>\n",
              "      <td>...</td>\n",
              "      <td>0.0</td>\n",
              "      <td>0.0</td>\n",
              "      <td>0.0</td>\n",
              "      <td>0.0</td>\n",
              "      <td>0.0</td>\n",
              "      <td>0.0</td>\n",
              "      <td>0.0</td>\n",
              "      <td>0.0</td>\n",
              "      <td>0.0</td>\n",
              "      <td>0.0</td>\n",
              "      <td>0.0</td>\n",
              "      <td>0.0</td>\n",
              "      <td>0.0</td>\n",
              "      <td>0.0</td>\n",
              "      <td>0.0</td>\n",
              "      <td>0.0</td>\n",
              "      <td>0.0</td>\n",
              "      <td>0.0</td>\n",
              "      <td>0.0</td>\n",
              "      <td>0.0</td>\n",
              "      <td>0.0</td>\n",
              "      <td>0.0</td>\n",
              "      <td>0.0</td>\n",
              "      <td>0.0</td>\n",
              "      <td>0.0</td>\n",
              "      <td>0.0</td>\n",
              "      <td>0.0</td>\n",
              "      <td>0.0</td>\n",
              "      <td>0.0</td>\n",
              "      <td>0.0</td>\n",
              "      <td>0.0</td>\n",
              "      <td>0.0</td>\n",
              "      <td>0.0</td>\n",
              "      <td>0.0</td>\n",
              "      <td>0.0</td>\n",
              "      <td>0.0</td>\n",
              "      <td>0.0</td>\n",
              "      <td>0.0</td>\n",
              "      <td>0.0</td>\n",
              "      <td>0.0</td>\n",
              "    </tr>\n",
              "    <tr>\n",
              "      <th>3</th>\n",
              "      <td>0.738411</td>\n",
              "      <td>0.699388</td>\n",
              "      <td>0.051565</td>\n",
              "      <td>0.203068</td>\n",
              "      <td>0.125145</td>\n",
              "      <td>0.175656</td>\n",
              "      <td>0.134468</td>\n",
              "      <td>0.155478</td>\n",
              "      <td>0.135086</td>\n",
              "      <td>0.151918</td>\n",
              "      <td>0.130952</td>\n",
              "      <td>0.147953</td>\n",
              "      <td>0.130422</td>\n",
              "      <td>0.151835</td>\n",
              "      <td>0.135284</td>\n",
              "      <td>0.153212</td>\n",
              "      <td>0.132960</td>\n",
              "      <td>0.152491</td>\n",
              "      <td>0.123780</td>\n",
              "      <td>0.144768</td>\n",
              "      <td>0.132993</td>\n",
              "      <td>0.149689</td>\n",
              "      <td>0.125274</td>\n",
              "      <td>0.142997</td>\n",
              "      <td>0.113791</td>\n",
              "      <td>0.118125</td>\n",
              "      <td>0.093140</td>\n",
              "      <td>0.094810</td>\n",
              "      <td>0.063433</td>\n",
              "      <td>0.068685</td>\n",
              "      <td>0.016822</td>\n",
              "      <td>0.045053</td>\n",
              "      <td>0.006327</td>\n",
              "      <td>0.042213</td>\n",
              "      <td>0.026445</td>\n",
              "      <td>0.088469</td>\n",
              "      <td>0.094124</td>\n",
              "      <td>0.154359</td>\n",
              "      <td>0.149767</td>\n",
              "      <td>0.192996</td>\n",
              "      <td>...</td>\n",
              "      <td>0.0</td>\n",
              "      <td>0.0</td>\n",
              "      <td>0.0</td>\n",
              "      <td>0.0</td>\n",
              "      <td>0.0</td>\n",
              "      <td>0.0</td>\n",
              "      <td>0.0</td>\n",
              "      <td>0.0</td>\n",
              "      <td>0.0</td>\n",
              "      <td>0.0</td>\n",
              "      <td>0.0</td>\n",
              "      <td>0.0</td>\n",
              "      <td>0.0</td>\n",
              "      <td>0.0</td>\n",
              "      <td>0.0</td>\n",
              "      <td>0.0</td>\n",
              "      <td>0.0</td>\n",
              "      <td>0.0</td>\n",
              "      <td>0.0</td>\n",
              "      <td>0.0</td>\n",
              "      <td>0.0</td>\n",
              "      <td>0.0</td>\n",
              "      <td>0.0</td>\n",
              "      <td>0.0</td>\n",
              "      <td>0.0</td>\n",
              "      <td>0.0</td>\n",
              "      <td>0.0</td>\n",
              "      <td>0.0</td>\n",
              "      <td>0.0</td>\n",
              "      <td>0.0</td>\n",
              "      <td>0.0</td>\n",
              "      <td>0.0</td>\n",
              "      <td>0.0</td>\n",
              "      <td>0.0</td>\n",
              "      <td>0.0</td>\n",
              "      <td>0.0</td>\n",
              "      <td>0.0</td>\n",
              "      <td>0.0</td>\n",
              "      <td>0.0</td>\n",
              "      <td>0.0</td>\n",
              "    </tr>\n",
              "    <tr>\n",
              "      <th>4</th>\n",
              "      <td>0.680462</td>\n",
              "      <td>0.680163</td>\n",
              "      <td>-0.019243</td>\n",
              "      <td>0.161988</td>\n",
              "      <td>0.107638</td>\n",
              "      <td>0.159469</td>\n",
              "      <td>0.108530</td>\n",
              "      <td>0.181673</td>\n",
              "      <td>0.105343</td>\n",
              "      <td>0.170670</td>\n",
              "      <td>0.122808</td>\n",
              "      <td>0.162025</td>\n",
              "      <td>0.126172</td>\n",
              "      <td>0.160585</td>\n",
              "      <td>0.134910</td>\n",
              "      <td>0.170461</td>\n",
              "      <td>0.153536</td>\n",
              "      <td>0.153279</td>\n",
              "      <td>0.133147</td>\n",
              "      <td>0.134548</td>\n",
              "      <td>0.133930</td>\n",
              "      <td>0.149337</td>\n",
              "      <td>0.123503</td>\n",
              "      <td>0.132191</td>\n",
              "      <td>0.136110</td>\n",
              "      <td>0.124082</td>\n",
              "      <td>0.117762</td>\n",
              "      <td>0.088232</td>\n",
              "      <td>0.077982</td>\n",
              "      <td>0.050404</td>\n",
              "      <td>0.034911</td>\n",
              "      <td>0.029181</td>\n",
              "      <td>0.011273</td>\n",
              "      <td>0.007717</td>\n",
              "      <td>0.019675</td>\n",
              "      <td>0.035083</td>\n",
              "      <td>0.044768</td>\n",
              "      <td>0.059371</td>\n",
              "      <td>0.083085</td>\n",
              "      <td>0.134263</td>\n",
              "      <td>...</td>\n",
              "      <td>0.0</td>\n",
              "      <td>0.0</td>\n",
              "      <td>0.0</td>\n",
              "      <td>0.0</td>\n",
              "      <td>0.0</td>\n",
              "      <td>0.0</td>\n",
              "      <td>0.0</td>\n",
              "      <td>0.0</td>\n",
              "      <td>0.0</td>\n",
              "      <td>0.0</td>\n",
              "      <td>0.0</td>\n",
              "      <td>0.0</td>\n",
              "      <td>0.0</td>\n",
              "      <td>0.0</td>\n",
              "      <td>0.0</td>\n",
              "      <td>0.0</td>\n",
              "      <td>0.0</td>\n",
              "      <td>0.0</td>\n",
              "      <td>0.0</td>\n",
              "      <td>0.0</td>\n",
              "      <td>0.0</td>\n",
              "      <td>0.0</td>\n",
              "      <td>0.0</td>\n",
              "      <td>0.0</td>\n",
              "      <td>0.0</td>\n",
              "      <td>0.0</td>\n",
              "      <td>0.0</td>\n",
              "      <td>0.0</td>\n",
              "      <td>0.0</td>\n",
              "      <td>0.0</td>\n",
              "      <td>0.0</td>\n",
              "      <td>0.0</td>\n",
              "      <td>0.0</td>\n",
              "      <td>0.0</td>\n",
              "      <td>0.0</td>\n",
              "      <td>0.0</td>\n",
              "      <td>0.0</td>\n",
              "      <td>0.0</td>\n",
              "      <td>0.0</td>\n",
              "      <td>0.0</td>\n",
              "    </tr>\n",
              "  </tbody>\n",
              "</table>\n",
              "<p>5 rows × 188 columns</p>\n",
              "</div>\n",
              "      <button class=\"colab-df-convert\" onclick=\"convertToInteractive('df-18b95701-50e2-4707-9975-4fb0dd820c7e')\"\n",
              "              title=\"Convert this dataframe to an interactive table.\"\n",
              "              style=\"display:none;\">\n",
              "        \n",
              "  <svg xmlns=\"http://www.w3.org/2000/svg\" height=\"24px\"viewBox=\"0 0 24 24\"\n",
              "       width=\"24px\">\n",
              "    <path d=\"M0 0h24v24H0V0z\" fill=\"none\"/>\n",
              "    <path d=\"M18.56 5.44l.94 2.06.94-2.06 2.06-.94-2.06-.94-.94-2.06-.94 2.06-2.06.94zm-11 1L8.5 8.5l.94-2.06 2.06-.94-2.06-.94L8.5 2.5l-.94 2.06-2.06.94zm10 10l.94 2.06.94-2.06 2.06-.94-2.06-.94-.94-2.06-.94 2.06-2.06.94z\"/><path d=\"M17.41 7.96l-1.37-1.37c-.4-.4-.92-.59-1.43-.59-.52 0-1.04.2-1.43.59L10.3 9.45l-7.72 7.72c-.78.78-.78 2.05 0 2.83L4 21.41c.39.39.9.59 1.41.59.51 0 1.02-.2 1.41-.59l7.78-7.78 2.81-2.81c.8-.78.8-2.07 0-2.86zM5.41 20L4 18.59l7.72-7.72 1.47 1.35L5.41 20z\"/>\n",
              "  </svg>\n",
              "      </button>\n",
              "      \n",
              "  <style>\n",
              "    .colab-df-container {\n",
              "      display:flex;\n",
              "      flex-wrap:wrap;\n",
              "      gap: 12px;\n",
              "    }\n",
              "\n",
              "    .colab-df-convert {\n",
              "      background-color: #E8F0FE;\n",
              "      border: none;\n",
              "      border-radius: 50%;\n",
              "      cursor: pointer;\n",
              "      display: none;\n",
              "      fill: #1967D2;\n",
              "      height: 32px;\n",
              "      padding: 0 0 0 0;\n",
              "      width: 32px;\n",
              "    }\n",
              "\n",
              "    .colab-df-convert:hover {\n",
              "      background-color: #E2EBFA;\n",
              "      box-shadow: 0px 1px 2px rgba(60, 64, 67, 0.3), 0px 1px 3px 1px rgba(60, 64, 67, 0.15);\n",
              "      fill: #174EA6;\n",
              "    }\n",
              "\n",
              "    [theme=dark] .colab-df-convert {\n",
              "      background-color: #3B4455;\n",
              "      fill: #D2E3FC;\n",
              "    }\n",
              "\n",
              "    [theme=dark] .colab-df-convert:hover {\n",
              "      background-color: #434B5C;\n",
              "      box-shadow: 0px 1px 3px 1px rgba(0, 0, 0, 0.15);\n",
              "      filter: drop-shadow(0px 1px 2px rgba(0, 0, 0, 0.3));\n",
              "      fill: #FFFFFF;\n",
              "    }\n",
              "  </style>\n",
              "\n",
              "      <script>\n",
              "        const buttonEl =\n",
              "          document.querySelector('#df-18b95701-50e2-4707-9975-4fb0dd820c7e button.colab-df-convert');\n",
              "        buttonEl.style.display =\n",
              "          google.colab.kernel.accessAllowed ? 'block' : 'none';\n",
              "\n",
              "        async function convertToInteractive(key) {\n",
              "          const element = document.querySelector('#df-18b95701-50e2-4707-9975-4fb0dd820c7e');\n",
              "          const dataTable =\n",
              "            await google.colab.kernel.invokeFunction('convertToInteractive',\n",
              "                                                     [key], {});\n",
              "          if (!dataTable) return;\n",
              "\n",
              "          const docLinkHtml = 'Like what you see? Visit the ' +\n",
              "            '<a target=\"_blank\" href=https://colab.research.google.com/notebooks/data_table.ipynb>data table notebook</a>'\n",
              "            + ' to learn more about interactive tables.';\n",
              "          element.innerHTML = '';\n",
              "          dataTable['output_type'] = 'display_data';\n",
              "          await google.colab.output.renderOutput(dataTable, element);\n",
              "          const docLink = document.createElement('div');\n",
              "          docLink.innerHTML = docLinkHtml;\n",
              "          element.appendChild(docLink);\n",
              "        }\n",
              "      </script>\n",
              "    </div>\n",
              "  </div>\n",
              "  "
            ],
            "text/plain": [
              "        0         1         2         3         4    ...  183  184  185  186  187\n",
              "0  0.752733  0.730747  0.159375  0.319714  0.266970  ...  0.0  0.0  0.0  0.0  0.0\n",
              "1  0.628595  0.571475 -0.009939  0.076968  0.122889  ...  0.0  0.0  0.0  0.0  0.0\n",
              "2  0.735441  0.738430  0.084738  0.206169  0.121107  ...  0.0  0.0  0.0  0.0  0.0\n",
              "3  0.738411  0.699388  0.051565  0.203068  0.125145  ...  0.0  0.0  0.0  0.0  0.0\n",
              "4  0.680462  0.680163 -0.019243  0.161988  0.107638  ...  0.0  0.0  0.0  0.0  0.0\n",
              "\n",
              "[5 rows x 188 columns]"
            ]
          },
          "metadata": {},
          "execution_count": 42
        }
      ]
    },
    {
      "cell_type": "markdown",
      "source": [
        "---\n",
        "\n",
        "<br>\n",
        "\n",
        "## **Testing preprocessing without labels**"
      ],
      "metadata": {
        "id": "1d0gcTCdfTAC"
      }
    },
    {
      "cell_type": "code",
      "source": [
        "!pip install tqdm\n",
        "!pip install wfdb\n",
        "!pip install biosppy\n",
        "!pip install datasets"
      ],
      "metadata": {
        "id": "tAFMdFkafTAD"
      },
      "execution_count": null,
      "outputs": []
    },
    {
      "cell_type": "code",
      "source": [
        "import os\n",
        "import wfdb as wf\n",
        "import numpy as np\n",
        "import matplotlib.pyplot as plt\n",
        "from scipy import signal\n",
        "from biosppy.signals import ecg"
      ],
      "metadata": {
        "id": "i6oUcogWfTAD"
      },
      "execution_count": null,
      "outputs": []
    },
    {
      "cell_type": "code",
      "source": [
        "record = wf.rdsamp(DATA_PATH + \"mit-bih-arrhythmia-database-1.0.0/100\")\n",
        "annotation = wf.rdann(DATA_PATH + \"mit-bih-arrhythmia-database-1.0.0/100\", 'atr')"
      ],
      "metadata": {
        "id": "4MhPEK9vfTAE"
      },
      "execution_count": null,
      "outputs": []
    },
    {
      "cell_type": "code",
      "source": [
        "print(record)"
      ],
      "metadata": {
        "colab": {
          "base_uri": "https://localhost:8080/"
        },
        "outputId": "e4306d56-03c7-47a8-8eb1-250fa2ac870e",
        "id": "lAMlNSA7fTAE"
      },
      "execution_count": null,
      "outputs": [
        {
          "output_type": "stream",
          "name": "stdout",
          "text": [
            "(array([[-0.145, -0.065],\n",
            "       [-0.145, -0.065],\n",
            "       [-0.145, -0.065],\n",
            "       ...,\n",
            "       [-0.675, -0.365],\n",
            "       [-0.765, -0.335],\n",
            "       [-1.28 ,  0.   ]]), {'fs': 360, 'sig_len': 650000, 'n_sig': 2, 'base_date': None, 'base_time': None, 'units': ['mV', 'mV'], 'sig_name': ['MLII', 'V5'], 'comments': ['69 M 1085 1629 x1', 'Aldomet, Inderal']})\n"
          ]
        }
      ]
    },
    {
      "cell_type": "code",
      "source": [
        "print('Total files: ', len(record))\n",
        "print(\"0: \\n\", record[0], \"  \", record[0].shape)\n",
        "print(\"\\n1: \\n\", record[1])"
      ],
      "metadata": {
        "colab": {
          "base_uri": "https://localhost:8080/"
        },
        "outputId": "53ce51ee-2991-43ed-a181-5fa0339dd116",
        "id": "WkE7-_hEfTAE"
      },
      "execution_count": null,
      "outputs": [
        {
          "output_type": "stream",
          "name": "stdout",
          "text": [
            "Total files:  2\n",
            "0: \n",
            " [[-0.145 -0.065]\n",
            " [-0.145 -0.065]\n",
            " [-0.145 -0.065]\n",
            " ...\n",
            " [-0.675 -0.365]\n",
            " [-0.765 -0.335]\n",
            " [-1.28   0.   ]]    (650000, 2)\n",
            "\n",
            "1: \n",
            " {'fs': 360, 'sig_len': 650000, 'n_sig': 2, 'base_date': None, 'base_time': None, 'units': ['mV', 'mV'], 'sig_name': ['MLII', 'V5'], 'comments': ['69 M 1085 1629 x1', 'Aldomet, Inderal']}\n"
          ]
        }
      ]
    },
    {
      "cell_type": "code",
      "source": [
        "realbeats = ['N','L','R','B','A','a','J','S','V','r',\n",
        "             'F','e','j','n','E','/','f','Q','?']"
      ],
      "metadata": {
        "id": "fsNnaEaXfTAF"
      },
      "execution_count": null,
      "outputs": []
    },
    {
      "cell_type": "code",
      "source": [
        "print('Sampling frequency used for this record:', record[1].get('fs'))\n",
        "print('Shape of loaded data array:', record[0].shape)\n",
        "print('Number of loaded annotations:', len(annotation.num))"
      ],
      "metadata": {
        "colab": {
          "base_uri": "https://localhost:8080/"
        },
        "outputId": "1c6cfd8b-1ee0-4242-da0f-8d69084412c5",
        "id": "hM417bQufTAF"
      },
      "execution_count": null,
      "outputs": [
        {
          "output_type": "stream",
          "name": "stdout",
          "text": [
            "Sampling frequency used for this record: 360\n",
            "Shape of loaded data array: (650000, 2)\n",
            "Number of loaded annotations: 2274\n"
          ]
        }
      ]
    },
    {
      "cell_type": "code",
      "source": [
        "data = record[0].transpose()"
      ],
      "metadata": {
        "id": "iDgyqrk-fTAF"
      },
      "execution_count": null,
      "outputs": []
    },
    {
      "cell_type": "code",
      "source": [
        "print(data,\"\\n\", data.shape)"
      ],
      "metadata": {
        "colab": {
          "base_uri": "https://localhost:8080/"
        },
        "outputId": "cb7b1904-eb2e-4fb2-bd5a-27e60d351189",
        "id": "zibatLt5fTAF"
      },
      "execution_count": null,
      "outputs": [
        {
          "output_type": "stream",
          "name": "stdout",
          "text": [
            "[[-0.145 -0.145 -0.145 ... -0.675 -0.765 -1.28 ]\n",
            " [-0.065 -0.065 -0.065 ... -0.365 -0.335  0.   ]] \n",
            " (2, 650000)\n"
          ]
        }
      ]
    },
    {
      "cell_type": "code",
      "source": [
        "cat = np.array(annotation.symbol)\n",
        "rate = np.zeros_like(cat, dtype='float')"
      ],
      "metadata": {
        "id": "Zqy-YvT4fTAG"
      },
      "execution_count": null,
      "outputs": []
    },
    {
      "cell_type": "code",
      "source": [
        "for catid, catval in enumerate(cat):\n",
        "  if (catval == 'N'):\n",
        "      rate[catid] = 1.0 # Normal\n",
        "  elif (catval in realbeats):\n",
        "      rate[catid] = 2.0 # Abnormal"
      ],
      "metadata": {
        "id": "P1I1kw4rfTAG"
      },
      "execution_count": null,
      "outputs": []
    },
    {
      "cell_type": "code",
      "source": [
        "print(rate, \"\\n\", np.unique(rate))"
      ],
      "metadata": {
        "colab": {
          "base_uri": "https://localhost:8080/"
        },
        "outputId": "9cfcd7c1-e76f-4ebb-b231-ef5ab56e47f9",
        "id": "Fcss691cfTAG"
      },
      "execution_count": null,
      "outputs": [
        {
          "output_type": "stream",
          "name": "stdout",
          "text": [
            "[0. 1. 1. ... 1. 1. 1.] \n",
            " [0. 1. 2.]\n"
          ]
        }
      ]
    },
    {
      "cell_type": "code",
      "source": [
        "rates = np.zeros_like(data[0], dtype='float')\n",
        "rates[annotation.sample] = rate"
      ],
      "metadata": {
        "id": "lqe8KSUAfTAG"
      },
      "execution_count": null,
      "outputs": []
    },
    {
      "cell_type": "code",
      "source": [
        "indices = np.arange(data[0].size, dtype='int')"
      ],
      "metadata": {
        "id": "7NgUuxY7fTAH"
      },
      "execution_count": null,
      "outputs": []
    },
    {
      "cell_type": "code",
      "source": [
        "for channelid, channel in enumerate(data):\n",
        "\n",
        "        out = ecg.ecg(signal=channel, sampling_rate=360, show=False)\n",
        "        rpeaks = np.zeros_like(channel, dtype='float')\n",
        "        rpeaks[out['rpeaks']] = 1.0\n",
        "\n",
        "        beatstoremove = np.array([0])\n",
        "        beats = np.split(channel, out['rpeaks'])\n",
        "\n",
        "        for idx, idxval in enumerate(out['rpeaks']):\n",
        "            firstround = idx == 0\n",
        "            lastround = idx == len(beats) - 1\n",
        "\n",
        "            # Skip first and last beat.\n",
        "            if (firstround or lastround):\n",
        "                continue\n",
        "\n",
        "            # Get the classification value that is on\n",
        "            # or near the position of the rpeak index.\n",
        "            fromidx = 0 if idxval < 10 else idxval - 10\n",
        "            toidx = idxval + 10\n",
        "            \n",
        "            # Append some extra readings from next beat.\n",
        "            beats[idx] = np.append(beats[idx], beats[idx+1][:40])\n",
        "\n",
        "            # Normalize the readings to a 0-1 range for ML purposes.\n",
        "            beats[idx] = (beats[idx] - beats[idx].min()) / beats[idx].ptp()\n",
        "\n",
        "            # Resample from 360Hz to 125Hz\n",
        "            newsize = int((beats[idx].size * 125 / 360) + 0.5)\n",
        "            beats[idx] = signal.resample(beats[idx], newsize)\n",
        "\n",
        "            # Skipping records that are too long.\n",
        "            if (beats[idx].size > 187):\n",
        "                beatstoremove = np.append(beatstoremove, idx)\n",
        "                continue\n",
        "\n",
        "            # Pad with zeroes.\n",
        "            zerocount = 187 - beats[idx].size\n",
        "            beats[idx] = np.pad(beats[idx], (0, zerocount), 'constant', constant_values=(0.0, 0.0))\n",
        "\n",
        "            # Append the classification to the beat data.\n",
        "            beats[idx] = np.append(beats[idx], 0)"
      ],
      "metadata": {
        "id": "t7DGYbj9fTAH"
      },
      "execution_count": null,
      "outputs": []
    },
    {
      "cell_type": "code",
      "source": [
        "print(len(beats), type(beats))\n",
        "for i in range(10):\n",
        "  print(len(beats[i]), end=\" \")"
      ],
      "metadata": {
        "colab": {
          "base_uri": "https://localhost:8080/"
        },
        "outputId": "74f354ed-c858-499a-c4dc-9a8cee46d29f",
        "id": "--nTDQL6f0YN"
      },
      "execution_count": null,
      "outputs": [
        {
          "output_type": "stream",
          "name": "stdout",
          "text": [
            "2270 <class 'list'>\n",
            "74 188 188 188 188 188 188 188 188 188 "
          ]
        }
      ]
    },
    {
      "cell_type": "code",
      "source": [
        "beatstoremove = np.append(beatstoremove, len(beats)-1)\n",
        "\n",
        "# Remove first and last beats and the ones without classification.\n",
        "beats = np.delete(beats, beatstoremove)"
      ],
      "metadata": {
        "colab": {
          "base_uri": "https://localhost:8080/"
        },
        "outputId": "93ec75b8-a941-46e8-b220-81b10c59dfd3",
        "id": "4YQuaNAofTAI"
      },
      "execution_count": null,
      "outputs": [
        {
          "output_type": "stream",
          "name": "stderr",
          "text": [
            "/usr/local/lib/python3.7/dist-packages/numpy/core/_asarray.py:83: VisibleDeprecationWarning: Creating an ndarray from ragged nested sequences (which is a list-or-tuple of lists-or-tuples-or ndarrays with different lengths or shapes) is deprecated. If you meant to do this, you must specify 'dtype=object' when creating the ndarray\n",
            "  return array(a, dtype, copy=False, order=order)\n"
          ]
        }
      ]
    },
    {
      "cell_type": "code",
      "source": [
        "savedata = np.array(list(beats[:]), dtype=np.float)\n",
        "outfn = DATA_PATH + \"test_without_label\" +'.csv'\n",
        "print('Generating ', outfn)\n",
        "with open(outfn, \"wb\") as fin:\n",
        "    np.savetxt(fin, savedata, delimiter=\",\", fmt='%f')"
      ],
      "metadata": {
        "colab": {
          "base_uri": "https://localhost:8080/"
        },
        "outputId": "052612d6-a116-4f77-ce37-7a658ab55aa2",
        "id": "Qt4zo8_OfTAI"
      },
      "execution_count": null,
      "outputs": [
        {
          "output_type": "stream",
          "name": "stdout",
          "text": [
            "Generating  /content/drive/My Drive/Internship Files/Velozity/test_without_label.csv\n"
          ]
        }
      ]
    },
    {
      "cell_type": "code",
      "source": [
        "import pandas as pd\n",
        "\n",
        "temp_df = pd.read_csv(DATA_PATH + 'test_without_label.csv', header=None)\n",
        "temp_df.head()"
      ],
      "metadata": {
        "colab": {
          "base_uri": "https://localhost:8080/"
        },
        "outputId": "79f3379b-1949-400d-b058-528cfad106ce",
        "id": "vizVo2I3fTAJ"
      },
      "execution_count": null,
      "outputs": [
        {
          "output_type": "execute_result",
          "data": {
            "text/html": [
              "\n",
              "  <div id=\"df-a1cd817e-4e71-47c9-b31c-dbdd64ab2974\">\n",
              "    <div class=\"colab-df-container\">\n",
              "      <div>\n",
              "<style scoped>\n",
              "    .dataframe tbody tr th:only-of-type {\n",
              "        vertical-align: middle;\n",
              "    }\n",
              "\n",
              "    .dataframe tbody tr th {\n",
              "        vertical-align: top;\n",
              "    }\n",
              "\n",
              "    .dataframe thead th {\n",
              "        text-align: right;\n",
              "    }\n",
              "</style>\n",
              "<table border=\"1\" class=\"dataframe\">\n",
              "  <thead>\n",
              "    <tr style=\"text-align: right;\">\n",
              "      <th></th>\n",
              "      <th>0</th>\n",
              "      <th>1</th>\n",
              "      <th>2</th>\n",
              "      <th>3</th>\n",
              "      <th>4</th>\n",
              "      <th>5</th>\n",
              "      <th>6</th>\n",
              "      <th>7</th>\n",
              "      <th>8</th>\n",
              "      <th>9</th>\n",
              "      <th>10</th>\n",
              "      <th>11</th>\n",
              "      <th>12</th>\n",
              "      <th>13</th>\n",
              "      <th>14</th>\n",
              "      <th>15</th>\n",
              "      <th>16</th>\n",
              "      <th>17</th>\n",
              "      <th>18</th>\n",
              "      <th>19</th>\n",
              "      <th>20</th>\n",
              "      <th>21</th>\n",
              "      <th>22</th>\n",
              "      <th>23</th>\n",
              "      <th>24</th>\n",
              "      <th>25</th>\n",
              "      <th>26</th>\n",
              "      <th>27</th>\n",
              "      <th>28</th>\n",
              "      <th>29</th>\n",
              "      <th>30</th>\n",
              "      <th>31</th>\n",
              "      <th>32</th>\n",
              "      <th>33</th>\n",
              "      <th>34</th>\n",
              "      <th>35</th>\n",
              "      <th>36</th>\n",
              "      <th>37</th>\n",
              "      <th>38</th>\n",
              "      <th>39</th>\n",
              "      <th>...</th>\n",
              "      <th>148</th>\n",
              "      <th>149</th>\n",
              "      <th>150</th>\n",
              "      <th>151</th>\n",
              "      <th>152</th>\n",
              "      <th>153</th>\n",
              "      <th>154</th>\n",
              "      <th>155</th>\n",
              "      <th>156</th>\n",
              "      <th>157</th>\n",
              "      <th>158</th>\n",
              "      <th>159</th>\n",
              "      <th>160</th>\n",
              "      <th>161</th>\n",
              "      <th>162</th>\n",
              "      <th>163</th>\n",
              "      <th>164</th>\n",
              "      <th>165</th>\n",
              "      <th>166</th>\n",
              "      <th>167</th>\n",
              "      <th>168</th>\n",
              "      <th>169</th>\n",
              "      <th>170</th>\n",
              "      <th>171</th>\n",
              "      <th>172</th>\n",
              "      <th>173</th>\n",
              "      <th>174</th>\n",
              "      <th>175</th>\n",
              "      <th>176</th>\n",
              "      <th>177</th>\n",
              "      <th>178</th>\n",
              "      <th>179</th>\n",
              "      <th>180</th>\n",
              "      <th>181</th>\n",
              "      <th>182</th>\n",
              "      <th>183</th>\n",
              "      <th>184</th>\n",
              "      <th>185</th>\n",
              "      <th>186</th>\n",
              "      <th>187</th>\n",
              "    </tr>\n",
              "  </thead>\n",
              "  <tbody>\n",
              "    <tr>\n",
              "      <th>0</th>\n",
              "      <td>0.752733</td>\n",
              "      <td>0.730747</td>\n",
              "      <td>0.159375</td>\n",
              "      <td>0.319714</td>\n",
              "      <td>0.266970</td>\n",
              "      <td>0.307124</td>\n",
              "      <td>0.270779</td>\n",
              "      <td>0.285674</td>\n",
              "      <td>0.281439</td>\n",
              "      <td>0.283470</td>\n",
              "      <td>0.266059</td>\n",
              "      <td>0.277535</td>\n",
              "      <td>0.280732</td>\n",
              "      <td>0.282037</td>\n",
              "      <td>0.273571</td>\n",
              "      <td>0.272187</td>\n",
              "      <td>0.267126</td>\n",
              "      <td>0.282263</td>\n",
              "      <td>0.262759</td>\n",
              "      <td>0.272487</td>\n",
              "      <td>0.264431</td>\n",
              "      <td>0.258931</td>\n",
              "      <td>0.249464</td>\n",
              "      <td>0.261821</td>\n",
              "      <td>0.254205</td>\n",
              "      <td>0.262991</td>\n",
              "      <td>0.234557</td>\n",
              "      <td>0.256163</td>\n",
              "      <td>0.211733</td>\n",
              "      <td>0.225056</td>\n",
              "      <td>0.197015</td>\n",
              "      <td>0.194620</td>\n",
              "      <td>0.162682</td>\n",
              "      <td>0.170036</td>\n",
              "      <td>0.142870</td>\n",
              "      <td>0.155596</td>\n",
              "      <td>0.133188</td>\n",
              "      <td>0.154629</td>\n",
              "      <td>0.165393</td>\n",
              "      <td>0.205240</td>\n",
              "      <td>...</td>\n",
              "      <td>0.0</td>\n",
              "      <td>0.0</td>\n",
              "      <td>0.0</td>\n",
              "      <td>0.0</td>\n",
              "      <td>0.0</td>\n",
              "      <td>0.0</td>\n",
              "      <td>0.0</td>\n",
              "      <td>0.0</td>\n",
              "      <td>0.0</td>\n",
              "      <td>0.0</td>\n",
              "      <td>0.0</td>\n",
              "      <td>0.0</td>\n",
              "      <td>0.0</td>\n",
              "      <td>0.0</td>\n",
              "      <td>0.0</td>\n",
              "      <td>0.0</td>\n",
              "      <td>0.0</td>\n",
              "      <td>0.0</td>\n",
              "      <td>0.0</td>\n",
              "      <td>0.0</td>\n",
              "      <td>0.0</td>\n",
              "      <td>0.0</td>\n",
              "      <td>0.0</td>\n",
              "      <td>0.0</td>\n",
              "      <td>0.0</td>\n",
              "      <td>0.0</td>\n",
              "      <td>0.0</td>\n",
              "      <td>0.0</td>\n",
              "      <td>0.0</td>\n",
              "      <td>0.0</td>\n",
              "      <td>0.0</td>\n",
              "      <td>0.0</td>\n",
              "      <td>0.0</td>\n",
              "      <td>0.0</td>\n",
              "      <td>0.0</td>\n",
              "      <td>0.0</td>\n",
              "      <td>0.0</td>\n",
              "      <td>0.0</td>\n",
              "      <td>0.0</td>\n",
              "      <td>0.0</td>\n",
              "    </tr>\n",
              "    <tr>\n",
              "      <th>1</th>\n",
              "      <td>0.628595</td>\n",
              "      <td>0.571475</td>\n",
              "      <td>-0.009939</td>\n",
              "      <td>0.076968</td>\n",
              "      <td>0.122889</td>\n",
              "      <td>0.170717</td>\n",
              "      <td>0.142956</td>\n",
              "      <td>0.171063</td>\n",
              "      <td>0.157647</td>\n",
              "      <td>0.162291</td>\n",
              "      <td>0.163033</td>\n",
              "      <td>0.165251</td>\n",
              "      <td>0.156195</td>\n",
              "      <td>0.173852</td>\n",
              "      <td>0.162099</td>\n",
              "      <td>0.174743</td>\n",
              "      <td>0.167370</td>\n",
              "      <td>0.172260</td>\n",
              "      <td>0.162814</td>\n",
              "      <td>0.178717</td>\n",
              "      <td>0.160566</td>\n",
              "      <td>0.170482</td>\n",
              "      <td>0.157549</td>\n",
              "      <td>0.166379</td>\n",
              "      <td>0.149927</td>\n",
              "      <td>0.163861</td>\n",
              "      <td>0.129142</td>\n",
              "      <td>0.147496</td>\n",
              "      <td>0.112918</td>\n",
              "      <td>0.119430</td>\n",
              "      <td>0.083183</td>\n",
              "      <td>0.095984</td>\n",
              "      <td>0.054228</td>\n",
              "      <td>0.077860</td>\n",
              "      <td>0.043040</td>\n",
              "      <td>0.059578</td>\n",
              "      <td>0.050576</td>\n",
              "      <td>0.093480</td>\n",
              "      <td>0.097575</td>\n",
              "      <td>0.162378</td>\n",
              "      <td>...</td>\n",
              "      <td>0.0</td>\n",
              "      <td>0.0</td>\n",
              "      <td>0.0</td>\n",
              "      <td>0.0</td>\n",
              "      <td>0.0</td>\n",
              "      <td>0.0</td>\n",
              "      <td>0.0</td>\n",
              "      <td>0.0</td>\n",
              "      <td>0.0</td>\n",
              "      <td>0.0</td>\n",
              "      <td>0.0</td>\n",
              "      <td>0.0</td>\n",
              "      <td>0.0</td>\n",
              "      <td>0.0</td>\n",
              "      <td>0.0</td>\n",
              "      <td>0.0</td>\n",
              "      <td>0.0</td>\n",
              "      <td>0.0</td>\n",
              "      <td>0.0</td>\n",
              "      <td>0.0</td>\n",
              "      <td>0.0</td>\n",
              "      <td>0.0</td>\n",
              "      <td>0.0</td>\n",
              "      <td>0.0</td>\n",
              "      <td>0.0</td>\n",
              "      <td>0.0</td>\n",
              "      <td>0.0</td>\n",
              "      <td>0.0</td>\n",
              "      <td>0.0</td>\n",
              "      <td>0.0</td>\n",
              "      <td>0.0</td>\n",
              "      <td>0.0</td>\n",
              "      <td>0.0</td>\n",
              "      <td>0.0</td>\n",
              "      <td>0.0</td>\n",
              "      <td>0.0</td>\n",
              "      <td>0.0</td>\n",
              "      <td>0.0</td>\n",
              "      <td>0.0</td>\n",
              "      <td>0.0</td>\n",
              "    </tr>\n",
              "    <tr>\n",
              "      <th>2</th>\n",
              "      <td>0.735441</td>\n",
              "      <td>0.738430</td>\n",
              "      <td>0.084738</td>\n",
              "      <td>0.206169</td>\n",
              "      <td>0.121107</td>\n",
              "      <td>0.179561</td>\n",
              "      <td>0.122728</td>\n",
              "      <td>0.175328</td>\n",
              "      <td>0.116942</td>\n",
              "      <td>0.162638</td>\n",
              "      <td>0.113821</td>\n",
              "      <td>0.158204</td>\n",
              "      <td>0.110882</td>\n",
              "      <td>0.164529</td>\n",
              "      <td>0.117946</td>\n",
              "      <td>0.159603</td>\n",
              "      <td>0.125687</td>\n",
              "      <td>0.151115</td>\n",
              "      <td>0.119840</td>\n",
              "      <td>0.146836</td>\n",
              "      <td>0.117802</td>\n",
              "      <td>0.139753</td>\n",
              "      <td>0.106823</td>\n",
              "      <td>0.125403</td>\n",
              "      <td>0.105927</td>\n",
              "      <td>0.107156</td>\n",
              "      <td>0.082527</td>\n",
              "      <td>0.071278</td>\n",
              "      <td>0.051213</td>\n",
              "      <td>0.047551</td>\n",
              "      <td>0.031255</td>\n",
              "      <td>0.016727</td>\n",
              "      <td>0.018052</td>\n",
              "      <td>0.006963</td>\n",
              "      <td>0.016562</td>\n",
              "      <td>0.029653</td>\n",
              "      <td>0.068658</td>\n",
              "      <td>0.104682</td>\n",
              "      <td>0.144912</td>\n",
              "      <td>0.166005</td>\n",
              "      <td>...</td>\n",
              "      <td>0.0</td>\n",
              "      <td>0.0</td>\n",
              "      <td>0.0</td>\n",
              "      <td>0.0</td>\n",
              "      <td>0.0</td>\n",
              "      <td>0.0</td>\n",
              "      <td>0.0</td>\n",
              "      <td>0.0</td>\n",
              "      <td>0.0</td>\n",
              "      <td>0.0</td>\n",
              "      <td>0.0</td>\n",
              "      <td>0.0</td>\n",
              "      <td>0.0</td>\n",
              "      <td>0.0</td>\n",
              "      <td>0.0</td>\n",
              "      <td>0.0</td>\n",
              "      <td>0.0</td>\n",
              "      <td>0.0</td>\n",
              "      <td>0.0</td>\n",
              "      <td>0.0</td>\n",
              "      <td>0.0</td>\n",
              "      <td>0.0</td>\n",
              "      <td>0.0</td>\n",
              "      <td>0.0</td>\n",
              "      <td>0.0</td>\n",
              "      <td>0.0</td>\n",
              "      <td>0.0</td>\n",
              "      <td>0.0</td>\n",
              "      <td>0.0</td>\n",
              "      <td>0.0</td>\n",
              "      <td>0.0</td>\n",
              "      <td>0.0</td>\n",
              "      <td>0.0</td>\n",
              "      <td>0.0</td>\n",
              "      <td>0.0</td>\n",
              "      <td>0.0</td>\n",
              "      <td>0.0</td>\n",
              "      <td>0.0</td>\n",
              "      <td>0.0</td>\n",
              "      <td>0.0</td>\n",
              "    </tr>\n",
              "    <tr>\n",
              "      <th>3</th>\n",
              "      <td>0.738411</td>\n",
              "      <td>0.699388</td>\n",
              "      <td>0.051565</td>\n",
              "      <td>0.203068</td>\n",
              "      <td>0.125145</td>\n",
              "      <td>0.175656</td>\n",
              "      <td>0.134468</td>\n",
              "      <td>0.155478</td>\n",
              "      <td>0.135086</td>\n",
              "      <td>0.151918</td>\n",
              "      <td>0.130952</td>\n",
              "      <td>0.147953</td>\n",
              "      <td>0.130422</td>\n",
              "      <td>0.151835</td>\n",
              "      <td>0.135284</td>\n",
              "      <td>0.153212</td>\n",
              "      <td>0.132960</td>\n",
              "      <td>0.152491</td>\n",
              "      <td>0.123780</td>\n",
              "      <td>0.144768</td>\n",
              "      <td>0.132993</td>\n",
              "      <td>0.149689</td>\n",
              "      <td>0.125274</td>\n",
              "      <td>0.142997</td>\n",
              "      <td>0.113791</td>\n",
              "      <td>0.118125</td>\n",
              "      <td>0.093140</td>\n",
              "      <td>0.094810</td>\n",
              "      <td>0.063433</td>\n",
              "      <td>0.068685</td>\n",
              "      <td>0.016822</td>\n",
              "      <td>0.045053</td>\n",
              "      <td>0.006327</td>\n",
              "      <td>0.042213</td>\n",
              "      <td>0.026445</td>\n",
              "      <td>0.088469</td>\n",
              "      <td>0.094124</td>\n",
              "      <td>0.154359</td>\n",
              "      <td>0.149767</td>\n",
              "      <td>0.192996</td>\n",
              "      <td>...</td>\n",
              "      <td>0.0</td>\n",
              "      <td>0.0</td>\n",
              "      <td>0.0</td>\n",
              "      <td>0.0</td>\n",
              "      <td>0.0</td>\n",
              "      <td>0.0</td>\n",
              "      <td>0.0</td>\n",
              "      <td>0.0</td>\n",
              "      <td>0.0</td>\n",
              "      <td>0.0</td>\n",
              "      <td>0.0</td>\n",
              "      <td>0.0</td>\n",
              "      <td>0.0</td>\n",
              "      <td>0.0</td>\n",
              "      <td>0.0</td>\n",
              "      <td>0.0</td>\n",
              "      <td>0.0</td>\n",
              "      <td>0.0</td>\n",
              "      <td>0.0</td>\n",
              "      <td>0.0</td>\n",
              "      <td>0.0</td>\n",
              "      <td>0.0</td>\n",
              "      <td>0.0</td>\n",
              "      <td>0.0</td>\n",
              "      <td>0.0</td>\n",
              "      <td>0.0</td>\n",
              "      <td>0.0</td>\n",
              "      <td>0.0</td>\n",
              "      <td>0.0</td>\n",
              "      <td>0.0</td>\n",
              "      <td>0.0</td>\n",
              "      <td>0.0</td>\n",
              "      <td>0.0</td>\n",
              "      <td>0.0</td>\n",
              "      <td>0.0</td>\n",
              "      <td>0.0</td>\n",
              "      <td>0.0</td>\n",
              "      <td>0.0</td>\n",
              "      <td>0.0</td>\n",
              "      <td>0.0</td>\n",
              "    </tr>\n",
              "    <tr>\n",
              "      <th>4</th>\n",
              "      <td>0.680462</td>\n",
              "      <td>0.680163</td>\n",
              "      <td>-0.019243</td>\n",
              "      <td>0.161988</td>\n",
              "      <td>0.107638</td>\n",
              "      <td>0.159469</td>\n",
              "      <td>0.108530</td>\n",
              "      <td>0.181673</td>\n",
              "      <td>0.105343</td>\n",
              "      <td>0.170670</td>\n",
              "      <td>0.122808</td>\n",
              "      <td>0.162025</td>\n",
              "      <td>0.126172</td>\n",
              "      <td>0.160585</td>\n",
              "      <td>0.134910</td>\n",
              "      <td>0.170461</td>\n",
              "      <td>0.153536</td>\n",
              "      <td>0.153279</td>\n",
              "      <td>0.133147</td>\n",
              "      <td>0.134548</td>\n",
              "      <td>0.133930</td>\n",
              "      <td>0.149337</td>\n",
              "      <td>0.123503</td>\n",
              "      <td>0.132191</td>\n",
              "      <td>0.136110</td>\n",
              "      <td>0.124082</td>\n",
              "      <td>0.117762</td>\n",
              "      <td>0.088232</td>\n",
              "      <td>0.077982</td>\n",
              "      <td>0.050404</td>\n",
              "      <td>0.034911</td>\n",
              "      <td>0.029181</td>\n",
              "      <td>0.011273</td>\n",
              "      <td>0.007717</td>\n",
              "      <td>0.019675</td>\n",
              "      <td>0.035083</td>\n",
              "      <td>0.044768</td>\n",
              "      <td>0.059371</td>\n",
              "      <td>0.083085</td>\n",
              "      <td>0.134263</td>\n",
              "      <td>...</td>\n",
              "      <td>0.0</td>\n",
              "      <td>0.0</td>\n",
              "      <td>0.0</td>\n",
              "      <td>0.0</td>\n",
              "      <td>0.0</td>\n",
              "      <td>0.0</td>\n",
              "      <td>0.0</td>\n",
              "      <td>0.0</td>\n",
              "      <td>0.0</td>\n",
              "      <td>0.0</td>\n",
              "      <td>0.0</td>\n",
              "      <td>0.0</td>\n",
              "      <td>0.0</td>\n",
              "      <td>0.0</td>\n",
              "      <td>0.0</td>\n",
              "      <td>0.0</td>\n",
              "      <td>0.0</td>\n",
              "      <td>0.0</td>\n",
              "      <td>0.0</td>\n",
              "      <td>0.0</td>\n",
              "      <td>0.0</td>\n",
              "      <td>0.0</td>\n",
              "      <td>0.0</td>\n",
              "      <td>0.0</td>\n",
              "      <td>0.0</td>\n",
              "      <td>0.0</td>\n",
              "      <td>0.0</td>\n",
              "      <td>0.0</td>\n",
              "      <td>0.0</td>\n",
              "      <td>0.0</td>\n",
              "      <td>0.0</td>\n",
              "      <td>0.0</td>\n",
              "      <td>0.0</td>\n",
              "      <td>0.0</td>\n",
              "      <td>0.0</td>\n",
              "      <td>0.0</td>\n",
              "      <td>0.0</td>\n",
              "      <td>0.0</td>\n",
              "      <td>0.0</td>\n",
              "      <td>0.0</td>\n",
              "    </tr>\n",
              "  </tbody>\n",
              "</table>\n",
              "<p>5 rows × 188 columns</p>\n",
              "</div>\n",
              "      <button class=\"colab-df-convert\" onclick=\"convertToInteractive('df-a1cd817e-4e71-47c9-b31c-dbdd64ab2974')\"\n",
              "              title=\"Convert this dataframe to an interactive table.\"\n",
              "              style=\"display:none;\">\n",
              "        \n",
              "  <svg xmlns=\"http://www.w3.org/2000/svg\" height=\"24px\"viewBox=\"0 0 24 24\"\n",
              "       width=\"24px\">\n",
              "    <path d=\"M0 0h24v24H0V0z\" fill=\"none\"/>\n",
              "    <path d=\"M18.56 5.44l.94 2.06.94-2.06 2.06-.94-2.06-.94-.94-2.06-.94 2.06-2.06.94zm-11 1L8.5 8.5l.94-2.06 2.06-.94-2.06-.94L8.5 2.5l-.94 2.06-2.06.94zm10 10l.94 2.06.94-2.06 2.06-.94-2.06-.94-.94-2.06-.94 2.06-2.06.94z\"/><path d=\"M17.41 7.96l-1.37-1.37c-.4-.4-.92-.59-1.43-.59-.52 0-1.04.2-1.43.59L10.3 9.45l-7.72 7.72c-.78.78-.78 2.05 0 2.83L4 21.41c.39.39.9.59 1.41.59.51 0 1.02-.2 1.41-.59l7.78-7.78 2.81-2.81c.8-.78.8-2.07 0-2.86zM5.41 20L4 18.59l7.72-7.72 1.47 1.35L5.41 20z\"/>\n",
              "  </svg>\n",
              "      </button>\n",
              "      \n",
              "  <style>\n",
              "    .colab-df-container {\n",
              "      display:flex;\n",
              "      flex-wrap:wrap;\n",
              "      gap: 12px;\n",
              "    }\n",
              "\n",
              "    .colab-df-convert {\n",
              "      background-color: #E8F0FE;\n",
              "      border: none;\n",
              "      border-radius: 50%;\n",
              "      cursor: pointer;\n",
              "      display: none;\n",
              "      fill: #1967D2;\n",
              "      height: 32px;\n",
              "      padding: 0 0 0 0;\n",
              "      width: 32px;\n",
              "    }\n",
              "\n",
              "    .colab-df-convert:hover {\n",
              "      background-color: #E2EBFA;\n",
              "      box-shadow: 0px 1px 2px rgba(60, 64, 67, 0.3), 0px 1px 3px 1px rgba(60, 64, 67, 0.15);\n",
              "      fill: #174EA6;\n",
              "    }\n",
              "\n",
              "    [theme=dark] .colab-df-convert {\n",
              "      background-color: #3B4455;\n",
              "      fill: #D2E3FC;\n",
              "    }\n",
              "\n",
              "    [theme=dark] .colab-df-convert:hover {\n",
              "      background-color: #434B5C;\n",
              "      box-shadow: 0px 1px 3px 1px rgba(0, 0, 0, 0.15);\n",
              "      filter: drop-shadow(0px 1px 2px rgba(0, 0, 0, 0.3));\n",
              "      fill: #FFFFFF;\n",
              "    }\n",
              "  </style>\n",
              "\n",
              "      <script>\n",
              "        const buttonEl =\n",
              "          document.querySelector('#df-a1cd817e-4e71-47c9-b31c-dbdd64ab2974 button.colab-df-convert');\n",
              "        buttonEl.style.display =\n",
              "          google.colab.kernel.accessAllowed ? 'block' : 'none';\n",
              "\n",
              "        async function convertToInteractive(key) {\n",
              "          const element = document.querySelector('#df-a1cd817e-4e71-47c9-b31c-dbdd64ab2974');\n",
              "          const dataTable =\n",
              "            await google.colab.kernel.invokeFunction('convertToInteractive',\n",
              "                                                     [key], {});\n",
              "          if (!dataTable) return;\n",
              "\n",
              "          const docLinkHtml = 'Like what you see? Visit the ' +\n",
              "            '<a target=\"_blank\" href=https://colab.research.google.com/notebooks/data_table.ipynb>data table notebook</a>'\n",
              "            + ' to learn more about interactive tables.';\n",
              "          element.innerHTML = '';\n",
              "          dataTable['output_type'] = 'display_data';\n",
              "          await google.colab.output.renderOutput(dataTable, element);\n",
              "          const docLink = document.createElement('div');\n",
              "          docLink.innerHTML = docLinkHtml;\n",
              "          element.appendChild(docLink);\n",
              "        }\n",
              "      </script>\n",
              "    </div>\n",
              "  </div>\n",
              "  "
            ],
            "text/plain": [
              "        0         1         2         3         4    ...  183  184  185  186  187\n",
              "0  0.752733  0.730747  0.159375  0.319714  0.266970  ...  0.0  0.0  0.0  0.0  0.0\n",
              "1  0.628595  0.571475 -0.009939  0.076968  0.122889  ...  0.0  0.0  0.0  0.0  0.0\n",
              "2  0.735441  0.738430  0.084738  0.206169  0.121107  ...  0.0  0.0  0.0  0.0  0.0\n",
              "3  0.738411  0.699388  0.051565  0.203068  0.125145  ...  0.0  0.0  0.0  0.0  0.0\n",
              "4  0.680462  0.680163 -0.019243  0.161988  0.107638  ...  0.0  0.0  0.0  0.0  0.0\n",
              "\n",
              "[5 rows x 188 columns]"
            ]
          },
          "metadata": {},
          "execution_count": 17
        }
      ]
    }
  ]
}